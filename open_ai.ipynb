{
 "cells": [
  {
   "cell_type": "code",
   "execution_count": 2,
   "metadata": {},
   "outputs": [],
   "source": [
    "from openai import OpenAI\n",
    "import pandas as pd\n",
    "import os\n",
    "from dotenv import load_dotenv\n",
    "# see also python-decouple"
   ]
  },
  {
   "cell_type": "code",
   "execution_count": 3,
   "metadata": {},
   "outputs": [],
   "source": [
    "load_dotenv()\n",
    "\n",
    "# openai.api_key = os.environ.get(\"OPEN_AI\")\n",
    "openai_api_key = os.getenv(\"OPENAI_KEY\")\n",
    "model = \"gpt-3.5-turbo-0125\""
   ]
  },
  {
   "cell_type": "code",
   "execution_count": 4,
   "metadata": {},
   "outputs": [],
   "source": [
    "client = OpenAI(\n",
    "    api_key = openai_api_key\n",
    "#   api_key=os.environ.get(\"OPENAI_API_KEY\")    \n",
    ")"
   ]
  },
  {
   "cell_type": "code",
   "execution_count": 6,
   "metadata": {},
   "outputs": [],
   "source": [
    "def return_chatgpt_introduction(data):\n",
    "    message1 = [{\n",
    "        \"role\": \"user\",\n",
    "        \"content\": \"Can you write a introduction paragraph about how to improve \" + data + \" , keep it simple and nice\",\n",
    "    }]\n",
    "\n",
    "    chat_completion = client.chat.completions.create(\n",
    "        messages=message1,\n",
    "        model=model\n",
    "    )\n",
    "    return(chat_completion.choices[0].message.content)"
   ]
  },
  {
   "cell_type": "code",
   "execution_count": 8,
   "metadata": {},
   "outputs": [
    {
     "data": {
      "text/plain": [
       "'Improving the NBA can be a collaborative effort that involves the players, coaches, fans, and league officials. By focusing on enhancing player safety, promoting fair competition, and engaging with fans both online and in person, the NBA can continue to grow and thrive as a premier sports organization. Working together to implement new ideas and strategies can help ensure that the NBA remains exciting and competitive for years to come.'"
      ]
     },
     "execution_count": 8,
     "metadata": {},
     "output_type": "execute_result"
    }
   ],
   "source": [
    "return_chatgpt_introduction(\"\")"
   ]
  }
 ],
 "metadata": {
  "kernelspec": {
   "display_name": "base",
   "language": "python",
   "name": "python3"
  },
  "language_info": {
   "codemirror_mode": {
    "name": "ipython",
    "version": 3
   },
   "file_extension": ".py",
   "mimetype": "text/x-python",
   "name": "python",
   "nbconvert_exporter": "python",
   "pygments_lexer": "ipython3",
   "version": "3.11.5"
  }
 },
 "nbformat": 4,
 "nbformat_minor": 2
}
