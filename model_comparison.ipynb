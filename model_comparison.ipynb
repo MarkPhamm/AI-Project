{
 "cells": [
  {
   "cell_type": "code",
   "execution_count": 54,
   "metadata": {},
   "outputs": [],
   "source": [
    "import pandas as pd\n",
    "from sklearn.model_selection import train_test_split\n",
    "from sklearn.tree import DecisionTreeRegressor\n",
    "import matplotlib.pyplot as plt\n",
    "\n",
    "from sklearn.model_selection import cross_val_score\n",
    "from sklearn.model_selection import cross_val_score, KFold\n",
    "\n",
    "\n",
    "import tensorflow as tf\n",
    "from tensorflow.keras.models import Sequential\n",
    "from tensorflow.keras.layers import Dense\n",
    "\n",
    "import numpy as np\n",
    "pd.set_option('display.max_columns', None)"
   ]
  },
  {
   "cell_type": "code",
   "execution_count": 3,
   "metadata": {},
   "outputs": [],
   "source": [
    "df = pd.read_csv(\"NFWBS_PUF_2016_data.csv\")"
   ]
  },
  {
   "cell_type": "code",
   "execution_count": 4,
   "metadata": {},
   "outputs": [],
   "source": [
    "def filter_columns(df, include_strings):\n",
    "    \"\"\"\n",
    "    Filter DataFrame columns containing any of the strings in include_strings.\n",
    "    \n",
    "    Args:\n",
    "    df (pandas.DataFrame): Input DataFrame.\n",
    "    include_strings (list): List of strings that need to be included in the column names.\n",
    "    \n",
    "    Returns:\n",
    "    pandas.DataFrame: Filtered DataFrame.\n",
    "    \"\"\"\n",
    "    filtered_columns = []\n",
    "    for col in df.columns:\n",
    "        if any(include_string in col.lower() for include_string in include_strings):\n",
    "            filtered_columns.append(col)\n",
    "    return df[filtered_columns]"
   ]
  },
  {
   "cell_type": "code",
   "execution_count": 5,
   "metadata": {},
   "outputs": [],
   "source": [
    "df = filter_columns(df, include_strings=['fwb'])"
   ]
  },
  {
   "cell_type": "code",
   "execution_count": 6,
   "metadata": {},
   "outputs": [],
   "source": [
    "def rename_columns(df):\n",
    "   # convert form camel case to snake case\n",
    "   df.columns = (df.columns\n",
    "                  .str.replace('(?<=[a-z])(?=[A-Z])', '_', regex=True)\n",
    "                  .str.lower()\n",
    "               )\n",
    "   # convert \" \" to _\n",
    "   df.columns = df.columns.str.replace(' ', '_')\n",
    "   return df"
   ]
  },
  {
   "cell_type": "code",
   "execution_count": 13,
   "metadata": {},
   "outputs": [],
   "source": [
    "def drop_negative_values(df):\n",
    "    \"\"\"\n",
    "    Drop all values in the DataFrame that are less than 0.\n",
    "\n",
    "    Parameters:\n",
    "        df (pandas.DataFrame): Input DataFrame.\n",
    "\n",
    "    Returns:\n",
    "        pandas.DataFrame: DataFrame with negative values dropped.\n",
    "    \"\"\"\n",
    "    df_without_null = df[df >= 0]\n",
    "    print(len(df)-len(df_without_null.dropna()))\n",
    "    return df_without_null.dropna()"
   ]
  },
  {
   "cell_type": "code",
   "execution_count": 14,
   "metadata": {},
   "outputs": [
    {
     "name": "stdout",
     "output_type": "stream",
     "text": [
      "19\n"
     ]
    }
   ],
   "source": [
    "df = drop_negative_values(df)"
   ]
  },
  {
   "cell_type": "code",
   "execution_count": 9,
   "metadata": {},
   "outputs": [],
   "source": [
    "target_column = [col for col in df.columns if 'score' in col.lower()]\n",
    "train_set, test_set = train_test_split(df, test_size=0.2, random_state=42)\n",
    "\n",
    "train = train_set.drop(columns=target_column, errors='ignore')\n",
    "train_labels = train_set[target_column]\n",
    "\n",
    "test = test_set.drop(columns=target_column, errors='ignore')\n",
    "test_labels = test_set[target_column]"
   ]
  },
  {
   "cell_type": "markdown",
   "metadata": {},
   "source": [
    "# Model 1: Linear Reg"
   ]
  },
  {
   "cell_type": "code",
   "execution_count": 39,
   "metadata": {},
   "outputs": [
    {
     "data": {
      "text/html": [
       "<style>#sk-container-id-7 {color: black;}#sk-container-id-7 pre{padding: 0;}#sk-container-id-7 div.sk-toggleable {background-color: white;}#sk-container-id-7 label.sk-toggleable__label {cursor: pointer;display: block;width: 100%;margin-bottom: 0;padding: 0.3em;box-sizing: border-box;text-align: center;}#sk-container-id-7 label.sk-toggleable__label-arrow:before {content: \"▸\";float: left;margin-right: 0.25em;color: #696969;}#sk-container-id-7 label.sk-toggleable__label-arrow:hover:before {color: black;}#sk-container-id-7 div.sk-estimator:hover label.sk-toggleable__label-arrow:before {color: black;}#sk-container-id-7 div.sk-toggleable__content {max-height: 0;max-width: 0;overflow: hidden;text-align: left;background-color: #f0f8ff;}#sk-container-id-7 div.sk-toggleable__content pre {margin: 0.2em;color: black;border-radius: 0.25em;background-color: #f0f8ff;}#sk-container-id-7 input.sk-toggleable__control:checked~div.sk-toggleable__content {max-height: 200px;max-width: 100%;overflow: auto;}#sk-container-id-7 input.sk-toggleable__control:checked~label.sk-toggleable__label-arrow:before {content: \"▾\";}#sk-container-id-7 div.sk-estimator input.sk-toggleable__control:checked~label.sk-toggleable__label {background-color: #d4ebff;}#sk-container-id-7 div.sk-label input.sk-toggleable__control:checked~label.sk-toggleable__label {background-color: #d4ebff;}#sk-container-id-7 input.sk-hidden--visually {border: 0;clip: rect(1px 1px 1px 1px);clip: rect(1px, 1px, 1px, 1px);height: 1px;margin: -1px;overflow: hidden;padding: 0;position: absolute;width: 1px;}#sk-container-id-7 div.sk-estimator {font-family: monospace;background-color: #f0f8ff;border: 1px dotted black;border-radius: 0.25em;box-sizing: border-box;margin-bottom: 0.5em;}#sk-container-id-7 div.sk-estimator:hover {background-color: #d4ebff;}#sk-container-id-7 div.sk-parallel-item::after {content: \"\";width: 100%;border-bottom: 1px solid gray;flex-grow: 1;}#sk-container-id-7 div.sk-label:hover label.sk-toggleable__label {background-color: #d4ebff;}#sk-container-id-7 div.sk-serial::before {content: \"\";position: absolute;border-left: 1px solid gray;box-sizing: border-box;top: 0;bottom: 0;left: 50%;z-index: 0;}#sk-container-id-7 div.sk-serial {display: flex;flex-direction: column;align-items: center;background-color: white;padding-right: 0.2em;padding-left: 0.2em;position: relative;}#sk-container-id-7 div.sk-item {position: relative;z-index: 1;}#sk-container-id-7 div.sk-parallel {display: flex;align-items: stretch;justify-content: center;background-color: white;position: relative;}#sk-container-id-7 div.sk-item::before, #sk-container-id-7 div.sk-parallel-item::before {content: \"\";position: absolute;border-left: 1px solid gray;box-sizing: border-box;top: 0;bottom: 0;left: 50%;z-index: -1;}#sk-container-id-7 div.sk-parallel-item {display: flex;flex-direction: column;z-index: 1;position: relative;background-color: white;}#sk-container-id-7 div.sk-parallel-item:first-child::after {align-self: flex-end;width: 50%;}#sk-container-id-7 div.sk-parallel-item:last-child::after {align-self: flex-start;width: 50%;}#sk-container-id-7 div.sk-parallel-item:only-child::after {width: 0;}#sk-container-id-7 div.sk-dashed-wrapped {border: 1px dashed gray;margin: 0 0.4em 0.5em 0.4em;box-sizing: border-box;padding-bottom: 0.4em;background-color: white;}#sk-container-id-7 div.sk-label label {font-family: monospace;font-weight: bold;display: inline-block;line-height: 1.2em;}#sk-container-id-7 div.sk-label-container {text-align: center;}#sk-container-id-7 div.sk-container {/* jupyter's `normalize.less` sets `[hidden] { display: none; }` but bootstrap.min.css set `[hidden] { display: none !important; }` so we also need the `!important` here to be able to override the default hidden behavior on the sphinx rendered scikit-learn.org. See: https://github.com/scikit-learn/scikit-learn/issues/21755 */display: inline-block !important;position: relative;}#sk-container-id-7 div.sk-text-repr-fallback {display: none;}</style><div id=\"sk-container-id-7\" class=\"sk-top-container\"><div class=\"sk-text-repr-fallback\"><pre>LinearRegression()</pre><b>In a Jupyter environment, please rerun this cell to show the HTML representation or trust the notebook. <br />On GitHub, the HTML representation is unable to render, please try loading this page with nbviewer.org.</b></div><div class=\"sk-container\" hidden><div class=\"sk-item\"><div class=\"sk-estimator sk-toggleable\"><input class=\"sk-toggleable__control sk-hidden--visually\" id=\"sk-estimator-id-7\" type=\"checkbox\" checked><label for=\"sk-estimator-id-7\" class=\"sk-toggleable__label sk-toggleable__label-arrow\">LinearRegression</label><div class=\"sk-toggleable__content\"><pre>LinearRegression()</pre></div></div></div></div></div>"
      ],
      "text/plain": [
       "LinearRegression()"
      ]
     },
     "execution_count": 39,
     "metadata": {},
     "output_type": "execute_result"
    }
   ],
   "source": [
    "from sklearn.linear_model import LinearRegression\n",
    "lin_reg = LinearRegression()\n",
    "lin_reg.fit(train, train_labels)"
   ]
  },
  {
   "cell_type": "code",
   "execution_count": 40,
   "metadata": {},
   "outputs": [
    {
     "data": {
      "text/plain": [
       "4.050839331632617"
      ]
     },
     "execution_count": 40,
     "metadata": {},
     "output_type": "execute_result"
    }
   ],
   "source": [
    "from sklearn.metrics import mean_squared_error\n",
    "predictions = lin_reg.predict(train)\n",
    "lin_mse = mean_squared_error(np.array(train_labels), predictions)\n",
    "lin_rmse = np.sqrt(lin_mse)\n",
    "lin_rmse"
   ]
  },
  {
   "cell_type": "code",
   "execution_count": 41,
   "metadata": {},
   "outputs": [],
   "source": [
    "scores = cross_val_score(lin_reg, train, train_labels, scoring=\"neg_mean_squared_error\", cv=10)\n",
    "lin_rmse_scores = np.sqrt(-scores)"
   ]
  },
  {
   "cell_type": "code",
   "execution_count": 42,
   "metadata": {},
   "outputs": [
    {
     "name": "stdout",
     "output_type": "stream",
     "text": [
      "Scores: [4.69462014 3.2897437  3.37411104 3.37981908 3.27026239 4.43249971\n",
      " 4.38890887 5.41823811 3.54885424 4.47787182]\n",
      "Mean: 4.027492910127311\n",
      "Standard deviation: 0.7120309203219158\n"
     ]
    }
   ],
   "source": [
    "def display_scores(scores):\n",
    "    print(\"Scores:\", scores)\n",
    "    print(\"Mean:\", scores.mean())\n",
    "    print(\"Standard deviation:\", scores.std())\n",
    "display_scores(lin_rmse_scores)"
   ]
  },
  {
   "cell_type": "markdown",
   "metadata": {},
   "source": [
    "# 2. Decision Tree Regressor"
   ]
  },
  {
   "cell_type": "code",
   "execution_count": 43,
   "metadata": {},
   "outputs": [
    {
     "data": {
      "text/html": [
       "<style>#sk-container-id-8 {color: black;}#sk-container-id-8 pre{padding: 0;}#sk-container-id-8 div.sk-toggleable {background-color: white;}#sk-container-id-8 label.sk-toggleable__label {cursor: pointer;display: block;width: 100%;margin-bottom: 0;padding: 0.3em;box-sizing: border-box;text-align: center;}#sk-container-id-8 label.sk-toggleable__label-arrow:before {content: \"▸\";float: left;margin-right: 0.25em;color: #696969;}#sk-container-id-8 label.sk-toggleable__label-arrow:hover:before {color: black;}#sk-container-id-8 div.sk-estimator:hover label.sk-toggleable__label-arrow:before {color: black;}#sk-container-id-8 div.sk-toggleable__content {max-height: 0;max-width: 0;overflow: hidden;text-align: left;background-color: #f0f8ff;}#sk-container-id-8 div.sk-toggleable__content pre {margin: 0.2em;color: black;border-radius: 0.25em;background-color: #f0f8ff;}#sk-container-id-8 input.sk-toggleable__control:checked~div.sk-toggleable__content {max-height: 200px;max-width: 100%;overflow: auto;}#sk-container-id-8 input.sk-toggleable__control:checked~label.sk-toggleable__label-arrow:before {content: \"▾\";}#sk-container-id-8 div.sk-estimator input.sk-toggleable__control:checked~label.sk-toggleable__label {background-color: #d4ebff;}#sk-container-id-8 div.sk-label input.sk-toggleable__control:checked~label.sk-toggleable__label {background-color: #d4ebff;}#sk-container-id-8 input.sk-hidden--visually {border: 0;clip: rect(1px 1px 1px 1px);clip: rect(1px, 1px, 1px, 1px);height: 1px;margin: -1px;overflow: hidden;padding: 0;position: absolute;width: 1px;}#sk-container-id-8 div.sk-estimator {font-family: monospace;background-color: #f0f8ff;border: 1px dotted black;border-radius: 0.25em;box-sizing: border-box;margin-bottom: 0.5em;}#sk-container-id-8 div.sk-estimator:hover {background-color: #d4ebff;}#sk-container-id-8 div.sk-parallel-item::after {content: \"\";width: 100%;border-bottom: 1px solid gray;flex-grow: 1;}#sk-container-id-8 div.sk-label:hover label.sk-toggleable__label {background-color: #d4ebff;}#sk-container-id-8 div.sk-serial::before {content: \"\";position: absolute;border-left: 1px solid gray;box-sizing: border-box;top: 0;bottom: 0;left: 50%;z-index: 0;}#sk-container-id-8 div.sk-serial {display: flex;flex-direction: column;align-items: center;background-color: white;padding-right: 0.2em;padding-left: 0.2em;position: relative;}#sk-container-id-8 div.sk-item {position: relative;z-index: 1;}#sk-container-id-8 div.sk-parallel {display: flex;align-items: stretch;justify-content: center;background-color: white;position: relative;}#sk-container-id-8 div.sk-item::before, #sk-container-id-8 div.sk-parallel-item::before {content: \"\";position: absolute;border-left: 1px solid gray;box-sizing: border-box;top: 0;bottom: 0;left: 50%;z-index: -1;}#sk-container-id-8 div.sk-parallel-item {display: flex;flex-direction: column;z-index: 1;position: relative;background-color: white;}#sk-container-id-8 div.sk-parallel-item:first-child::after {align-self: flex-end;width: 50%;}#sk-container-id-8 div.sk-parallel-item:last-child::after {align-self: flex-start;width: 50%;}#sk-container-id-8 div.sk-parallel-item:only-child::after {width: 0;}#sk-container-id-8 div.sk-dashed-wrapped {border: 1px dashed gray;margin: 0 0.4em 0.5em 0.4em;box-sizing: border-box;padding-bottom: 0.4em;background-color: white;}#sk-container-id-8 div.sk-label label {font-family: monospace;font-weight: bold;display: inline-block;line-height: 1.2em;}#sk-container-id-8 div.sk-label-container {text-align: center;}#sk-container-id-8 div.sk-container {/* jupyter's `normalize.less` sets `[hidden] { display: none; }` but bootstrap.min.css set `[hidden] { display: none !important; }` so we also need the `!important` here to be able to override the default hidden behavior on the sphinx rendered scikit-learn.org. See: https://github.com/scikit-learn/scikit-learn/issues/21755 */display: inline-block !important;position: relative;}#sk-container-id-8 div.sk-text-repr-fallback {display: none;}</style><div id=\"sk-container-id-8\" class=\"sk-top-container\"><div class=\"sk-text-repr-fallback\"><pre>DecisionTreeRegressor()</pre><b>In a Jupyter environment, please rerun this cell to show the HTML representation or trust the notebook. <br />On GitHub, the HTML representation is unable to render, please try loading this page with nbviewer.org.</b></div><div class=\"sk-container\" hidden><div class=\"sk-item\"><div class=\"sk-estimator sk-toggleable\"><input class=\"sk-toggleable__control sk-hidden--visually\" id=\"sk-estimator-id-8\" type=\"checkbox\" checked><label for=\"sk-estimator-id-8\" class=\"sk-toggleable__label sk-toggleable__label-arrow\">DecisionTreeRegressor</label><div class=\"sk-toggleable__content\"><pre>DecisionTreeRegressor()</pre></div></div></div></div></div>"
      ],
      "text/plain": [
       "DecisionTreeRegressor()"
      ]
     },
     "execution_count": 43,
     "metadata": {},
     "output_type": "execute_result"
    }
   ],
   "source": [
    "from sklearn.tree import DecisionTreeRegressor\n",
    "tree_reg = DecisionTreeRegressor()\n",
    "tree_reg.fit(train, train_labels)"
   ]
  },
  {
   "cell_type": "code",
   "execution_count": 44,
   "metadata": {},
   "outputs": [
    {
     "data": {
      "text/plain": [
       "0.8238524604182516"
      ]
     },
     "execution_count": 44,
     "metadata": {},
     "output_type": "execute_result"
    }
   ],
   "source": [
    "predictions = tree_reg.predict(train)\n",
    "tree_mse = mean_squared_error(train_labels, predictions)\n",
    "tree_rmse = np.sqrt(tree_mse)\n",
    "tree_rmse"
   ]
  },
  {
   "cell_type": "code",
   "execution_count": 45,
   "metadata": {},
   "outputs": [],
   "source": [
    "scores = cross_val_score(tree_reg, train, train_labels, scoring=\"neg_mean_squared_error\", cv=10)\n",
    "tree_rmse_scores = np.sqrt(-scores)"
   ]
  },
  {
   "cell_type": "code",
   "execution_count": 46,
   "metadata": {},
   "outputs": [
    {
     "name": "stdout",
     "output_type": "stream",
     "text": [
      "Scores: [2.34068865 2.66460412 4.63087383 2.73583674 2.62836515 2.55598709\n",
      " 3.76609925 2.39714819 3.33392897 2.46753709]\n",
      "Mean: 2.9521069078285067\n",
      "Standard deviation: 0.702452821057397\n"
     ]
    }
   ],
   "source": [
    "def display_scores(scores):\n",
    "    print(\"Scores:\", scores)\n",
    "    print(\"Mean:\", scores.mean())\n",
    "    print(\"Standard deviation:\", scores.std())\n",
    "display_scores(tree_rmse_scores)"
   ]
  },
  {
   "cell_type": "markdown",
   "metadata": {},
   "source": [
    "# 3.Random Forest Regressor"
   ]
  },
  {
   "cell_type": "code",
   "execution_count": 47,
   "metadata": {},
   "outputs": [
    {
     "name": "stderr",
     "output_type": "stream",
     "text": [
      "c:\\Users\\hamin\\anaconda3\\Lib\\site-packages\\sklearn\\base.py:1152: DataConversionWarning: A column-vector y was passed when a 1d array was expected. Please change the shape of y to (n_samples,), for example using ravel().\n",
      "  return fit_method(estimator, *args, **kwargs)\n"
     ]
    },
    {
     "data": {
      "text/html": [
       "<style>#sk-container-id-9 {color: black;}#sk-container-id-9 pre{padding: 0;}#sk-container-id-9 div.sk-toggleable {background-color: white;}#sk-container-id-9 label.sk-toggleable__label {cursor: pointer;display: block;width: 100%;margin-bottom: 0;padding: 0.3em;box-sizing: border-box;text-align: center;}#sk-container-id-9 label.sk-toggleable__label-arrow:before {content: \"▸\";float: left;margin-right: 0.25em;color: #696969;}#sk-container-id-9 label.sk-toggleable__label-arrow:hover:before {color: black;}#sk-container-id-9 div.sk-estimator:hover label.sk-toggleable__label-arrow:before {color: black;}#sk-container-id-9 div.sk-toggleable__content {max-height: 0;max-width: 0;overflow: hidden;text-align: left;background-color: #f0f8ff;}#sk-container-id-9 div.sk-toggleable__content pre {margin: 0.2em;color: black;border-radius: 0.25em;background-color: #f0f8ff;}#sk-container-id-9 input.sk-toggleable__control:checked~div.sk-toggleable__content {max-height: 200px;max-width: 100%;overflow: auto;}#sk-container-id-9 input.sk-toggleable__control:checked~label.sk-toggleable__label-arrow:before {content: \"▾\";}#sk-container-id-9 div.sk-estimator input.sk-toggleable__control:checked~label.sk-toggleable__label {background-color: #d4ebff;}#sk-container-id-9 div.sk-label input.sk-toggleable__control:checked~label.sk-toggleable__label {background-color: #d4ebff;}#sk-container-id-9 input.sk-hidden--visually {border: 0;clip: rect(1px 1px 1px 1px);clip: rect(1px, 1px, 1px, 1px);height: 1px;margin: -1px;overflow: hidden;padding: 0;position: absolute;width: 1px;}#sk-container-id-9 div.sk-estimator {font-family: monospace;background-color: #f0f8ff;border: 1px dotted black;border-radius: 0.25em;box-sizing: border-box;margin-bottom: 0.5em;}#sk-container-id-9 div.sk-estimator:hover {background-color: #d4ebff;}#sk-container-id-9 div.sk-parallel-item::after {content: \"\";width: 100%;border-bottom: 1px solid gray;flex-grow: 1;}#sk-container-id-9 div.sk-label:hover label.sk-toggleable__label {background-color: #d4ebff;}#sk-container-id-9 div.sk-serial::before {content: \"\";position: absolute;border-left: 1px solid gray;box-sizing: border-box;top: 0;bottom: 0;left: 50%;z-index: 0;}#sk-container-id-9 div.sk-serial {display: flex;flex-direction: column;align-items: center;background-color: white;padding-right: 0.2em;padding-left: 0.2em;position: relative;}#sk-container-id-9 div.sk-item {position: relative;z-index: 1;}#sk-container-id-9 div.sk-parallel {display: flex;align-items: stretch;justify-content: center;background-color: white;position: relative;}#sk-container-id-9 div.sk-item::before, #sk-container-id-9 div.sk-parallel-item::before {content: \"\";position: absolute;border-left: 1px solid gray;box-sizing: border-box;top: 0;bottom: 0;left: 50%;z-index: -1;}#sk-container-id-9 div.sk-parallel-item {display: flex;flex-direction: column;z-index: 1;position: relative;background-color: white;}#sk-container-id-9 div.sk-parallel-item:first-child::after {align-self: flex-end;width: 50%;}#sk-container-id-9 div.sk-parallel-item:last-child::after {align-self: flex-start;width: 50%;}#sk-container-id-9 div.sk-parallel-item:only-child::after {width: 0;}#sk-container-id-9 div.sk-dashed-wrapped {border: 1px dashed gray;margin: 0 0.4em 0.5em 0.4em;box-sizing: border-box;padding-bottom: 0.4em;background-color: white;}#sk-container-id-9 div.sk-label label {font-family: monospace;font-weight: bold;display: inline-block;line-height: 1.2em;}#sk-container-id-9 div.sk-label-container {text-align: center;}#sk-container-id-9 div.sk-container {/* jupyter's `normalize.less` sets `[hidden] { display: none; }` but bootstrap.min.css set `[hidden] { display: none !important; }` so we also need the `!important` here to be able to override the default hidden behavior on the sphinx rendered scikit-learn.org. See: https://github.com/scikit-learn/scikit-learn/issues/21755 */display: inline-block !important;position: relative;}#sk-container-id-9 div.sk-text-repr-fallback {display: none;}</style><div id=\"sk-container-id-9\" class=\"sk-top-container\"><div class=\"sk-text-repr-fallback\"><pre>RandomForestRegressor()</pre><b>In a Jupyter environment, please rerun this cell to show the HTML representation or trust the notebook. <br />On GitHub, the HTML representation is unable to render, please try loading this page with nbviewer.org.</b></div><div class=\"sk-container\" hidden><div class=\"sk-item\"><div class=\"sk-estimator sk-toggleable\"><input class=\"sk-toggleable__control sk-hidden--visually\" id=\"sk-estimator-id-9\" type=\"checkbox\" checked><label for=\"sk-estimator-id-9\" class=\"sk-toggleable__label sk-toggleable__label-arrow\">RandomForestRegressor</label><div class=\"sk-toggleable__content\"><pre>RandomForestRegressor()</pre></div></div></div></div></div>"
      ],
      "text/plain": [
       "RandomForestRegressor()"
      ]
     },
     "execution_count": 47,
     "metadata": {},
     "output_type": "execute_result"
    }
   ],
   "source": [
    "from sklearn.ensemble import RandomForestRegressor\n",
    "forest_reg = RandomForestRegressor()\n",
    "forest_reg.fit(train, train_labels)"
   ]
  },
  {
   "cell_type": "code",
   "execution_count": 48,
   "metadata": {},
   "outputs": [
    {
     "name": "stdout",
     "output_type": "stream",
     "text": [
      "1.0396095390803517\n"
     ]
    }
   ],
   "source": [
    "predictions = forest_reg.predict(train)\n",
    "forest_mse = mean_squared_error(train_labels, predictions)\n",
    "forest_rmse = np.sqrt(forest_mse)\n",
    "print(forest_rmse)"
   ]
  },
  {
   "cell_type": "code",
   "execution_count": 49,
   "metadata": {},
   "outputs": [
    {
     "name": "stderr",
     "output_type": "stream",
     "text": [
      "c:\\Users\\hamin\\anaconda3\\Lib\\site-packages\\sklearn\\base.py:1152: DataConversionWarning: A column-vector y was passed when a 1d array was expected. Please change the shape of y to (n_samples,), for example using ravel().\n",
      "  return fit_method(estimator, *args, **kwargs)\n",
      "c:\\Users\\hamin\\anaconda3\\Lib\\site-packages\\sklearn\\base.py:1152: DataConversionWarning: A column-vector y was passed when a 1d array was expected. Please change the shape of y to (n_samples,), for example using ravel().\n",
      "  return fit_method(estimator, *args, **kwargs)\n",
      "c:\\Users\\hamin\\anaconda3\\Lib\\site-packages\\sklearn\\base.py:1152: DataConversionWarning: A column-vector y was passed when a 1d array was expected. Please change the shape of y to (n_samples,), for example using ravel().\n",
      "  return fit_method(estimator, *args, **kwargs)\n",
      "c:\\Users\\hamin\\anaconda3\\Lib\\site-packages\\sklearn\\base.py:1152: DataConversionWarning: A column-vector y was passed when a 1d array was expected. Please change the shape of y to (n_samples,), for example using ravel().\n",
      "  return fit_method(estimator, *args, **kwargs)\n",
      "c:\\Users\\hamin\\anaconda3\\Lib\\site-packages\\sklearn\\base.py:1152: DataConversionWarning: A column-vector y was passed when a 1d array was expected. Please change the shape of y to (n_samples,), for example using ravel().\n",
      "  return fit_method(estimator, *args, **kwargs)\n",
      "c:\\Users\\hamin\\anaconda3\\Lib\\site-packages\\sklearn\\base.py:1152: DataConversionWarning: A column-vector y was passed when a 1d array was expected. Please change the shape of y to (n_samples,), for example using ravel().\n",
      "  return fit_method(estimator, *args, **kwargs)\n",
      "c:\\Users\\hamin\\anaconda3\\Lib\\site-packages\\sklearn\\base.py:1152: DataConversionWarning: A column-vector y was passed when a 1d array was expected. Please change the shape of y to (n_samples,), for example using ravel().\n",
      "  return fit_method(estimator, *args, **kwargs)\n",
      "c:\\Users\\hamin\\anaconda3\\Lib\\site-packages\\sklearn\\base.py:1152: DataConversionWarning: A column-vector y was passed when a 1d array was expected. Please change the shape of y to (n_samples,), for example using ravel().\n",
      "  return fit_method(estimator, *args, **kwargs)\n",
      "c:\\Users\\hamin\\anaconda3\\Lib\\site-packages\\sklearn\\base.py:1152: DataConversionWarning: A column-vector y was passed when a 1d array was expected. Please change the shape of y to (n_samples,), for example using ravel().\n",
      "  return fit_method(estimator, *args, **kwargs)\n",
      "c:\\Users\\hamin\\anaconda3\\Lib\\site-packages\\sklearn\\base.py:1152: DataConversionWarning: A column-vector y was passed when a 1d array was expected. Please change the shape of y to (n_samples,), for example using ravel().\n",
      "  return fit_method(estimator, *args, **kwargs)\n"
     ]
    }
   ],
   "source": [
    "scores = cross_val_score(forest_reg, train, train_labels, scoring=\"neg_mean_squared_error\", cv=10)\n",
    "forest_rmse_scores = np.sqrt(-scores)"
   ]
  },
  {
   "cell_type": "code",
   "execution_count": 51,
   "metadata": {},
   "outputs": [
    {
     "name": "stdout",
     "output_type": "stream",
     "text": [
      "Scores: [1.81001058 1.76694823 2.78437993 1.83371619 2.04354026 1.75418819\n",
      " 2.20275525 1.85768709 1.96816591 1.75760749]\n",
      "Mean: 1.977899911993585\n",
      "Standard deviation: 0.3019729358539942\n"
     ]
    }
   ],
   "source": [
    "def display_scores(scores):\n",
    "    print(\"Scores:\", scores)\n",
    "    print(\"Mean:\", scores.mean())\n",
    "    print(\"Standard deviation:\", scores.std())\n",
    "display_scores(forest_rmse_scores)"
   ]
  },
  {
   "cell_type": "markdown",
   "metadata": {},
   "source": [
    "# 4. ANN Models"
   ]
  },
  {
   "cell_type": "code",
   "execution_count": 52,
   "metadata": {},
   "outputs": [
    {
     "name": "stdout",
     "output_type": "stream",
     "text": [
      "Epoch 1/100\n",
      "128/128 [==============================] - 1s 4ms/step - loss: 1429.3430 - rmse: 34.6238 - val_loss: 287.6889 - val_rmse: 16.7816\n",
      "Epoch 2/100\n",
      "128/128 [==============================] - 0s 3ms/step - loss: 155.1178 - rmse: 12.1176 - val_loss: 87.9412 - val_rmse: 9.1309\n",
      "Epoch 3/100\n",
      "128/128 [==============================] - 0s 3ms/step - loss: 87.2066 - rmse: 9.1355 - val_loss: 82.2461 - val_rmse: 8.8133\n",
      "Epoch 4/100\n",
      "128/128 [==============================] - 0s 2ms/step - loss: 83.5469 - rmse: 8.9362 - val_loss: 78.9549 - val_rmse: 8.6252\n",
      "Epoch 5/100\n",
      "128/128 [==============================] - 0s 2ms/step - loss: 79.8504 - rmse: 8.7327 - val_loss: 75.3884 - val_rmse: 8.4642\n",
      "Epoch 6/100\n",
      "128/128 [==============================] - 0s 2ms/step - loss: 75.5003 - rmse: 8.5053 - val_loss: 71.5690 - val_rmse: 8.2247\n",
      "Epoch 7/100\n",
      "128/128 [==============================] - 0s 2ms/step - loss: 70.6906 - rmse: 8.2701 - val_loss: 66.6284 - val_rmse: 7.9545\n",
      "Epoch 8/100\n",
      "128/128 [==============================] - 0s 2ms/step - loss: 64.7450 - rmse: 7.8731 - val_loss: 62.4262 - val_rmse: 7.6560\n",
      "Epoch 9/100\n",
      "128/128 [==============================] - 0s 2ms/step - loss: 58.6940 - rmse: 7.5166 - val_loss: 54.1915 - val_rmse: 7.1879\n",
      "Epoch 10/100\n",
      "128/128 [==============================] - 0s 3ms/step - loss: 51.3383 - rmse: 7.0361 - val_loss: 50.4924 - val_rmse: 6.8877\n",
      "Epoch 11/100\n",
      "128/128 [==============================] - 0s 2ms/step - loss: 44.4560 - rmse: 6.5197 - val_loss: 40.8979 - val_rmse: 6.2873\n",
      "Epoch 12/100\n",
      "128/128 [==============================] - 0s 3ms/step - loss: 36.7816 - rmse: 5.9242 - val_loss: 34.4854 - val_rmse: 5.7905\n",
      "Epoch 13/100\n",
      "128/128 [==============================] - 0s 3ms/step - loss: 29.2739 - rmse: 5.3177 - val_loss: 25.4816 - val_rmse: 4.9207\n",
      "Epoch 14/100\n",
      "128/128 [==============================] - 0s 3ms/step - loss: 22.3916 - rmse: 4.6509 - val_loss: 23.0001 - val_rmse: 4.6646\n",
      "Epoch 15/100\n",
      "128/128 [==============================] - 0s 3ms/step - loss: 17.0163 - rmse: 4.0549 - val_loss: 16.4637 - val_rmse: 3.9316\n",
      "Epoch 16/100\n",
      "128/128 [==============================] - 0s 2ms/step - loss: 12.8315 - rmse: 3.5153 - val_loss: 13.5493 - val_rmse: 3.5338\n",
      "Epoch 17/100\n",
      "128/128 [==============================] - 0s 2ms/step - loss: 9.8067 - rmse: 3.0713 - val_loss: 9.4950 - val_rmse: 2.9179\n",
      "Epoch 18/100\n",
      "128/128 [==============================] - 0s 2ms/step - loss: 7.7341 - rmse: 2.7058 - val_loss: 8.3940 - val_rmse: 2.6906\n",
      "Epoch 19/100\n",
      "128/128 [==============================] - 0s 2ms/step - loss: 6.8925 - rmse: 2.5497 - val_loss: 7.3949 - val_rmse: 2.5095\n",
      "Epoch 20/100\n",
      "128/128 [==============================] - 0s 2ms/step - loss: 6.0654 - rmse: 2.3780 - val_loss: 6.9201 - val_rmse: 2.3980\n",
      "Epoch 21/100\n",
      "128/128 [==============================] - 0s 2ms/step - loss: 5.5468 - rmse: 2.2668 - val_loss: 6.5944 - val_rmse: 2.3279\n",
      "Epoch 22/100\n",
      "128/128 [==============================] - 0s 2ms/step - loss: 5.2688 - rmse: 2.2163 - val_loss: 6.9337 - val_rmse: 2.4074\n",
      "Epoch 23/100\n",
      "128/128 [==============================] - 0s 2ms/step - loss: 4.9001 - rmse: 2.1253 - val_loss: 6.0150 - val_rmse: 2.2063\n",
      "Epoch 24/100\n",
      "128/128 [==============================] - 0s 2ms/step - loss: 4.6512 - rmse: 2.0794 - val_loss: 5.9708 - val_rmse: 2.2094\n",
      "Epoch 25/100\n",
      "128/128 [==============================] - 0s 3ms/step - loss: 4.7102 - rmse: 2.0927 - val_loss: 5.7561 - val_rmse: 2.1670\n",
      "Epoch 26/100\n",
      "128/128 [==============================] - 0s 2ms/step - loss: 4.3816 - rmse: 2.0094 - val_loss: 5.7401 - val_rmse: 2.1981\n",
      "Epoch 27/100\n",
      "128/128 [==============================] - 0s 2ms/step - loss: 4.2111 - rmse: 1.9810 - val_loss: 5.7244 - val_rmse: 2.1760\n",
      "Epoch 28/100\n",
      "128/128 [==============================] - 0s 2ms/step - loss: 4.2098 - rmse: 1.9883 - val_loss: 5.2996 - val_rmse: 2.1006\n",
      "Epoch 29/100\n",
      "128/128 [==============================] - 0s 2ms/step - loss: 3.8611 - rmse: 1.9070 - val_loss: 6.4194 - val_rmse: 2.3659\n",
      "Epoch 30/100\n",
      "128/128 [==============================] - 0s 2ms/step - loss: 3.9248 - rmse: 1.9161 - val_loss: 4.8942 - val_rmse: 1.9983\n",
      "Epoch 31/100\n",
      "128/128 [==============================] - 0s 2ms/step - loss: 3.7448 - rmse: 1.8679 - val_loss: 5.3487 - val_rmse: 2.1205\n",
      "Epoch 32/100\n",
      "128/128 [==============================] - 0s 2ms/step - loss: 3.6311 - rmse: 1.8350 - val_loss: 5.3316 - val_rmse: 2.1515\n",
      "Epoch 33/100\n",
      "128/128 [==============================] - 0s 2ms/step - loss: 3.5335 - rmse: 1.8212 - val_loss: 4.7853 - val_rmse: 1.9978\n",
      "Epoch 34/100\n",
      "128/128 [==============================] - 0s 2ms/step - loss: 3.6734 - rmse: 1.8676 - val_loss: 4.5908 - val_rmse: 1.9632\n",
      "Epoch 35/100\n",
      "128/128 [==============================] - 0s 2ms/step - loss: 3.5526 - rmse: 1.8331 - val_loss: 4.5759 - val_rmse: 1.9630\n",
      "Epoch 36/100\n",
      "128/128 [==============================] - 0s 2ms/step - loss: 3.4996 - rmse: 1.8205 - val_loss: 4.3902 - val_rmse: 1.9168\n",
      "Epoch 37/100\n",
      "128/128 [==============================] - 0s 3ms/step - loss: 3.5537 - rmse: 1.8360 - val_loss: 4.3532 - val_rmse: 1.8885\n",
      "Epoch 38/100\n",
      "128/128 [==============================] - 0s 2ms/step - loss: 3.2508 - rmse: 1.7561 - val_loss: 4.2580 - val_rmse: 1.8855\n",
      "Epoch 39/100\n",
      "128/128 [==============================] - 0s 2ms/step - loss: 3.2332 - rmse: 1.7546 - val_loss: 4.0712 - val_rmse: 1.8504\n",
      "Epoch 40/100\n",
      "128/128 [==============================] - 0s 2ms/step - loss: 3.2976 - rmse: 1.7787 - val_loss: 4.8089 - val_rmse: 2.0716\n",
      "Epoch 41/100\n",
      "128/128 [==============================] - 0s 2ms/step - loss: 3.0903 - rmse: 1.7198 - val_loss: 4.0385 - val_rmse: 1.8389\n",
      "Epoch 42/100\n",
      "128/128 [==============================] - 0s 2ms/step - loss: 3.2327 - rmse: 1.7532 - val_loss: 5.6405 - val_rmse: 2.2708\n",
      "Epoch 43/100\n",
      "128/128 [==============================] - 0s 2ms/step - loss: 3.2228 - rmse: 1.7590 - val_loss: 4.5004 - val_rmse: 2.0027\n",
      "Epoch 44/100\n",
      "128/128 [==============================] - 0s 2ms/step - loss: 3.3142 - rmse: 1.7895 - val_loss: 3.9456 - val_rmse: 1.8533\n",
      "Epoch 45/100\n",
      "128/128 [==============================] - 0s 2ms/step - loss: 2.9802 - rmse: 1.6853 - val_loss: 3.7752 - val_rmse: 1.7951\n",
      "Epoch 46/100\n",
      "128/128 [==============================] - 0s 2ms/step - loss: 3.0102 - rmse: 1.7005 - val_loss: 3.7964 - val_rmse: 1.8001\n",
      "Epoch 47/100\n",
      "128/128 [==============================] - 0s 2ms/step - loss: 3.2702 - rmse: 1.7811 - val_loss: 3.7485 - val_rmse: 1.7964\n",
      "Epoch 48/100\n",
      "128/128 [==============================] - 0s 2ms/step - loss: 2.9408 - rmse: 1.6872 - val_loss: 3.8226 - val_rmse: 1.8129\n",
      "Epoch 49/100\n",
      "128/128 [==============================] - 0s 2ms/step - loss: 2.9167 - rmse: 1.6777 - val_loss: 3.7102 - val_rmse: 1.7837\n",
      "Epoch 50/100\n",
      "128/128 [==============================] - 0s 2ms/step - loss: 2.9306 - rmse: 1.6856 - val_loss: 3.9248 - val_rmse: 1.8471\n",
      "Epoch 51/100\n",
      "128/128 [==============================] - 0s 2ms/step - loss: 3.0460 - rmse: 1.7107 - val_loss: 3.7040 - val_rmse: 1.7918\n",
      "Epoch 52/100\n",
      "128/128 [==============================] - 0s 2ms/step - loss: 2.9624 - rmse: 1.6925 - val_loss: 4.1768 - val_rmse: 1.9293\n",
      "Epoch 53/100\n",
      "128/128 [==============================] - 0s 2ms/step - loss: 3.0031 - rmse: 1.7040 - val_loss: 4.2426 - val_rmse: 1.9401\n",
      "Epoch 54/100\n",
      "128/128 [==============================] - 0s 2ms/step - loss: 2.9487 - rmse: 1.6943 - val_loss: 3.6715 - val_rmse: 1.8016\n",
      "Epoch 55/100\n",
      "128/128 [==============================] - 0s 2ms/step - loss: 2.8474 - rmse: 1.6543 - val_loss: 3.9060 - val_rmse: 1.8391\n",
      "Epoch 56/100\n",
      "128/128 [==============================] - 0s 2ms/step - loss: 2.7335 - rmse: 1.6231 - val_loss: 4.3218 - val_rmse: 1.9768\n",
      "Epoch 57/100\n",
      "128/128 [==============================] - 0s 2ms/step - loss: 2.8471 - rmse: 1.6603 - val_loss: 3.5707 - val_rmse: 1.7569\n",
      "Epoch 58/100\n",
      "128/128 [==============================] - 0s 2ms/step - loss: 2.6468 - rmse: 1.6029 - val_loss: 3.6958 - val_rmse: 1.7975\n",
      "Epoch 59/100\n",
      "128/128 [==============================] - 0s 2ms/step - loss: 2.8939 - rmse: 1.6778 - val_loss: 3.6545 - val_rmse: 1.7816\n",
      "Epoch 60/100\n",
      "128/128 [==============================] - 0s 2ms/step - loss: 2.8776 - rmse: 1.6654 - val_loss: 3.6435 - val_rmse: 1.7819\n",
      "Epoch 61/100\n",
      "128/128 [==============================] - 0s 2ms/step - loss: 2.7044 - rmse: 1.6187 - val_loss: 3.4879 - val_rmse: 1.7357\n",
      "Epoch 62/100\n",
      "128/128 [==============================] - 0s 2ms/step - loss: 2.9032 - rmse: 1.6766 - val_loss: 3.5678 - val_rmse: 1.7575\n",
      "Epoch 63/100\n",
      "128/128 [==============================] - 0s 2ms/step - loss: 2.6703 - rmse: 1.6089 - val_loss: 3.9358 - val_rmse: 1.8555\n",
      "Epoch 64/100\n",
      "128/128 [==============================] - 0s 2ms/step - loss: 2.7025 - rmse: 1.6210 - val_loss: 3.4951 - val_rmse: 1.7438\n",
      "Epoch 65/100\n",
      "128/128 [==============================] - 0s 2ms/step - loss: 2.7594 - rmse: 1.6385 - val_loss: 3.4810 - val_rmse: 1.7293\n",
      "Epoch 66/100\n",
      "128/128 [==============================] - 0s 2ms/step - loss: 2.5924 - rmse: 1.5871 - val_loss: 3.7055 - val_rmse: 1.7817\n",
      "Epoch 67/100\n",
      "128/128 [==============================] - 0s 2ms/step - loss: 2.6855 - rmse: 1.6110 - val_loss: 4.1648 - val_rmse: 1.9087\n",
      "Epoch 68/100\n",
      "128/128 [==============================] - 0s 2ms/step - loss: 2.5966 - rmse: 1.5889 - val_loss: 3.8961 - val_rmse: 1.8607\n",
      "Epoch 69/100\n",
      "128/128 [==============================] - 0s 2ms/step - loss: 2.6404 - rmse: 1.6028 - val_loss: 3.5097 - val_rmse: 1.7488\n",
      "Epoch 70/100\n",
      "128/128 [==============================] - 0s 2ms/step - loss: 2.4878 - rmse: 1.5528 - val_loss: 3.4176 - val_rmse: 1.7180\n",
      "Epoch 71/100\n",
      "128/128 [==============================] - 0s 2ms/step - loss: 2.8533 - rmse: 1.6625 - val_loss: 3.5863 - val_rmse: 1.7663\n",
      "Epoch 72/100\n",
      "128/128 [==============================] - 0s 2ms/step - loss: 2.6218 - rmse: 1.5872 - val_loss: 3.7113 - val_rmse: 1.8105\n",
      "Epoch 73/100\n",
      "128/128 [==============================] - 0s 2ms/step - loss: 2.5005 - rmse: 1.5628 - val_loss: 3.5402 - val_rmse: 1.7533\n",
      "Epoch 74/100\n",
      "128/128 [==============================] - 0s 2ms/step - loss: 2.5476 - rmse: 1.5737 - val_loss: 3.4102 - val_rmse: 1.7151\n",
      "Epoch 75/100\n",
      "128/128 [==============================] - 0s 2ms/step - loss: 2.6322 - rmse: 1.5983 - val_loss: 3.7539 - val_rmse: 1.8253\n",
      "Epoch 76/100\n",
      "128/128 [==============================] - 0s 2ms/step - loss: 2.6441 - rmse: 1.5976 - val_loss: 3.5490 - val_rmse: 1.7578\n",
      "Epoch 77/100\n",
      "128/128 [==============================] - 0s 2ms/step - loss: 2.5576 - rmse: 1.5697 - val_loss: 3.4385 - val_rmse: 1.7249\n",
      "Epoch 78/100\n",
      "128/128 [==============================] - 0s 2ms/step - loss: 2.4655 - rmse: 1.5456 - val_loss: 3.3609 - val_rmse: 1.7163\n",
      "Epoch 79/100\n",
      "128/128 [==============================] - 0s 2ms/step - loss: 2.5462 - rmse: 1.5718 - val_loss: 3.7041 - val_rmse: 1.8159\n",
      "Epoch 80/100\n",
      "128/128 [==============================] - 0s 2ms/step - loss: 2.5870 - rmse: 1.5806 - val_loss: 3.3040 - val_rmse: 1.7026\n",
      "Epoch 81/100\n",
      "128/128 [==============================] - 0s 2ms/step - loss: 2.5849 - rmse: 1.5858 - val_loss: 4.1330 - val_rmse: 1.9297\n",
      "Epoch 82/100\n",
      "128/128 [==============================] - 0s 2ms/step - loss: 2.5827 - rmse: 1.5848 - val_loss: 3.8802 - val_rmse: 1.8572\n",
      "Epoch 83/100\n",
      "128/128 [==============================] - 0s 2ms/step - loss: 2.4779 - rmse: 1.5549 - val_loss: 3.7803 - val_rmse: 1.8358\n",
      "Epoch 84/100\n",
      "128/128 [==============================] - 0s 2ms/step - loss: 2.5085 - rmse: 1.5573 - val_loss: 3.2954 - val_rmse: 1.6990\n",
      "Epoch 85/100\n",
      "128/128 [==============================] - 0s 2ms/step - loss: 2.5092 - rmse: 1.5553 - val_loss: 3.5422 - val_rmse: 1.7784\n",
      "Epoch 86/100\n",
      "128/128 [==============================] - 0s 2ms/step - loss: 2.5232 - rmse: 1.5660 - val_loss: 4.3551 - val_rmse: 1.9912\n",
      "Epoch 87/100\n",
      "128/128 [==============================] - 0s 2ms/step - loss: 2.4877 - rmse: 1.5513 - val_loss: 3.4399 - val_rmse: 1.7258\n",
      "Epoch 88/100\n",
      "128/128 [==============================] - 0s 2ms/step - loss: 2.6048 - rmse: 1.5914 - val_loss: 3.8554 - val_rmse: 1.8690\n",
      "Epoch 89/100\n",
      "128/128 [==============================] - 0s 2ms/step - loss: 2.5666 - rmse: 1.5753 - val_loss: 3.5041 - val_rmse: 1.7448\n",
      "Epoch 90/100\n",
      "128/128 [==============================] - 0s 2ms/step - loss: 2.4359 - rmse: 1.5366 - val_loss: 3.5938 - val_rmse: 1.7776\n",
      "Epoch 91/100\n",
      "128/128 [==============================] - 0s 2ms/step - loss: 2.4140 - rmse: 1.5295 - val_loss: 3.6515 - val_rmse: 1.8118\n",
      "Epoch 92/100\n",
      "128/128 [==============================] - 0s 2ms/step - loss: 2.5591 - rmse: 1.5726 - val_loss: 3.3007 - val_rmse: 1.7113\n",
      "Epoch 93/100\n",
      "128/128 [==============================] - 0s 2ms/step - loss: 2.5245 - rmse: 1.5653 - val_loss: 3.2978 - val_rmse: 1.7047\n",
      "Epoch 94/100\n",
      "128/128 [==============================] - 0s 2ms/step - loss: 2.5690 - rmse: 1.5748 - val_loss: 3.2467 - val_rmse: 1.6881\n",
      "Epoch 95/100\n",
      "128/128 [==============================] - 0s 3ms/step - loss: 2.6782 - rmse: 1.6064 - val_loss: 3.5410 - val_rmse: 1.7700\n",
      "Epoch 96/100\n",
      "128/128 [==============================] - 0s 2ms/step - loss: 2.4744 - rmse: 1.5500 - val_loss: 3.1912 - val_rmse: 1.6704\n",
      "Epoch 97/100\n",
      "128/128 [==============================] - 0s 2ms/step - loss: 2.3997 - rmse: 1.5244 - val_loss: 3.2157 - val_rmse: 1.6751\n",
      "Epoch 98/100\n",
      "128/128 [==============================] - 0s 2ms/step - loss: 2.4379 - rmse: 1.5306 - val_loss: 3.3444 - val_rmse: 1.7147\n",
      "Epoch 99/100\n",
      "128/128 [==============================] - 0s 2ms/step - loss: 2.5057 - rmse: 1.5565 - val_loss: 3.1988 - val_rmse: 1.6682\n",
      "Epoch 100/100\n",
      "128/128 [==============================] - 0s 2ms/step - loss: 2.5171 - rmse: 1.5565 - val_loss: 3.6794 - val_rmse: 1.8167\n"
     ]
    },
    {
     "data": {
      "image/png": "[encoded data removed]",
      "text/plain": [
       "<Figure size 640x480 with 1 Axes>"
      ]
     },
     "metadata": {},
     "output_type": "display_data"
    }
   ],
   "source": [
    "# Define a custom metric function for RMSE\n",
    "def rmse(y_true, y_pred):\n",
    "    return tf.sqrt(tf.reduce_mean(tf.square(y_pred - y_true)))\n",
    "\n",
    "# Define a function to create the model\n",
    "def create_model():\n",
    "    model = Sequential([\n",
    "        Dense(64, activation='relu', input_shape=(train.shape[1],)),  # Input layer with 64 neurons and ReLU activation\n",
    "        Dense(32, activation='relu'),  # Hidden layer with 32 neurons and ReLU activation\n",
    "        Dense(1)  # Output layer with 1 neuron (no activation function for regression)\n",
    "    ])\n",
    "    model.compile(optimizer='adam', loss='mse', metrics=['mse'])  # Using MSE loss for regression and MSE as a metric\n",
    "    return model\n",
    "\n",
    "# Step 2: Define the model\n",
    "model = create_model()\n",
    "\n",
    "# Step 3: Compile the model\n",
    "model.compile(optimizer='adam', loss='mse', metrics=[rmse])  # Using MSE loss for regression and RMSE as a metric\n",
    "\n",
    "# Step 4: Train the model\n",
    "history = model.fit(train, train_labels, epochs=100, batch_size=32, validation_split=0.2)\n",
    "\n",
    "# Extract RMSE values from history\n",
    "train_rmse = history.history['rmse']\n",
    "val_rmse = history.history['val_rmse']\n",
    "epochs = range(1, len(train_rmse) + 1)\n",
    "\n",
    "# Plot RMSE for training and validation data\n",
    "plt.plot(epochs, train_rmse, 'b', label='Training RMSE')\n",
    "plt.plot(epochs, val_rmse, 'r', label='Validation RMSE')\n",
    "plt.title('Training and Validation RMSE')\n",
    "plt.xlabel('Epochs')\n",
    "plt.ylabel('RMSE')\n",
    "plt.legend()\n",
    "plt.show()"
   ]
  },
  {
   "cell_type": "code",
   "execution_count": 53,
   "metadata": {},
   "outputs": [
    {
     "name": "stdout",
     "output_type": "stream",
     "text": [
      "MSE scores: [2.5323984622955322, 2.6317315101623535, 4.594822883605957, 2.2869298458099365, 4.868226051330566, 2.827194929122925, 4.00010871887207, 53.052879333496094, 1.8514368534088135, 4.025280952453613]\n",
      "Mean MSE: 8.267100954055786\n",
      "Root Mean Squared Error (RMSE): 2.8752566762040197\n"
     ]
    }
   ],
   "source": [
    "# Assuming train and train_labels are defined (e.g., train is a pandas DataFrame, train_labels is a pandas Series)\n",
    "# Perform k-fold cross-validation\n",
    "kfold = KFold(n_splits=10, shuffle=True, random_state=42)\n",
    "mse_scores = []\n",
    "for train_indices, val_indices in kfold.split(train):\n",
    "    X_train, X_val = train.iloc[train_indices], train.iloc[val_indices]\n",
    "    y_train, y_val = train_labels.iloc[train_indices], train_labels.iloc[val_indices]\n",
    "    model = create_model()\n",
    "    history = model.fit(X_train, y_train, epochs=100, batch_size=32, validation_data=(X_val, y_val), verbose=0)\n",
    "    # Evaluate the model on validation data\n",
    "    mse = model.evaluate(X_val, y_val, verbose=0)[0]\n",
    "    mse_scores.append(mse)\n",
    "\n",
    "# Display MSE scores\n",
    "print(\"MSE scores:\", mse_scores)\n",
    "print(\"Mean MSE:\", np.mean(mse_scores))\n",
    "print(\"Root Mean Squared Error (RMSE):\", np.sqrt(np.mean(mse_scores)))"
   ]
  },
  {
   "cell_type": "code",
   "execution_count": null,
   "metadata": {},
   "outputs": [],
   "source": []
  }
 ],
 "metadata": {
  "kernelspec": {
   "display_name": "base",
   "language": "python",
   "name": "python3"
  },
  "language_info": {
   "codemirror_mode": {
    "name": "ipython",
    "version": 3
   },
   "file_extension": ".py",
   "mimetype": "text/x-python",
   "name": "python",
   "nbconvert_exporter": "python",
   "pygments_lexer": "ipython3",
   "version": "3.11.5"
  }
 },
 "nbformat": 4,
 "nbformat_minor": 2
}
