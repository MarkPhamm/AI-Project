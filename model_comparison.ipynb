{
 "cells": [
  {
   "cell_type": "code",
   "execution_count": 1,
   "metadata": {},
   "outputs": [
    {
     "name": "stdout",
     "output_type": "stream",
     "text": [
      "WARNING:tensorflow:From c:\\Users\\m.pham\\AppData\\Local\\anaconda3\\Lib\\site-packages\\keras\\losses.py:2664: The name tf.losses.sparse_softmax_cross_entropy is deprecated. Please use tf.compat.v1.losses.sparse_softmax_cross_entropy instead.\n",
      "\n"
     ]
    }
   ],
   "source": [
    "import pandas as pd\n",
    "from sklearn.model_selection import train_test_split\n",
    "from sklearn.tree import DecisionTreeRegressor\n",
    "import matplotlib.pyplot as plt\n",
    "\n",
    "from sklearn.model_selection import cross_val_score\n",
    "from sklearn.model_selection import cross_val_score, KFold\n",
    "\n",
    "\n",
    "import tensorflow as tf\n",
    "from tensorflow.keras.models import Sequential\n",
    "from tensorflow.keras.layers import Dense\n",
    "from tensorflow.keras.layers import Dropout\n",
    "\n",
    "import numpy as np\n",
    "pd.set_option('display.max_columns', None)"
   ]
  },
  {
   "cell_type": "code",
   "execution_count": 2,
   "metadata": {},
   "outputs": [],
   "source": [
    "df = pd.read_csv(\"NFWBS_PUF_2016_data.csv\")"
   ]
  },
  {
   "cell_type": "code",
   "execution_count": 3,
   "metadata": {},
   "outputs": [],
   "source": [
    "def filter_columns(df, include_strings):\n",
    "    \"\"\"\n",
    "    Filter DataFrame columns containing any of the strings in include_strings.\n",
    "    \n",
    "    Args:\n",
    "    df (pandas.DataFrame): Input DataFrame.\n",
    "    include_strings (list): List of strings that need to be included in the column names.\n",
    "    \n",
    "    Returns:\n",
    "    pandas.DataFrame: Filtered DataFrame.\n",
    "    \"\"\"\n",
    "    filtered_columns = []\n",
    "    for col in df.columns:\n",
    "        if any(include_string in col.lower() for include_string in include_strings):\n",
    "            filtered_columns.append(col)\n",
    "    return df[filtered_columns]"
   ]
  },
  {
   "cell_type": "code",
   "execution_count": 4,
   "metadata": {},
   "outputs": [],
   "source": [
    "df = filter_columns(df, include_strings=['fwb'])"
   ]
  },
  {
   "cell_type": "code",
   "execution_count": 5,
   "metadata": {},
   "outputs": [],
   "source": [
    "def rename_columns(df):\n",
    "   # convert form camel case to snake case\n",
    "   df.columns = (df.columns\n",
    "                  .str.replace('(?<=[a-z])(?=[A-Z])', '_', regex=True)\n",
    "                  .str.lower()\n",
    "               )\n",
    "   # convert \" \" to _\n",
    "   df.columns = df.columns.str.replace(' ', '_')\n",
    "   return df"
   ]
  },
  {
   "cell_type": "code",
   "execution_count": 6,
   "metadata": {},
   "outputs": [],
   "source": [
    "def drop_negative_values(df):\n",
    "    \"\"\"\n",
    "    Drop all values in the DataFrame that are less than 0.\n",
    "\n",
    "    Parameters:\n",
    "        df (pandas.DataFrame): Input DataFrame.\n",
    "\n",
    "    Returns:\n",
    "        pandas.DataFrame: DataFrame with negative values dropped.\n",
    "    \"\"\"\n",
    "    df_without_null = df[df >= 0]\n",
    "    print(len(df)-len(df_without_null.dropna()))\n",
    "    return df_without_null.dropna()"
   ]
  },
  {
   "cell_type": "code",
   "execution_count": 7,
   "metadata": {},
   "outputs": [
    {
     "name": "stdout",
     "output_type": "stream",
     "text": [
      "19\n"
     ]
    }
   ],
   "source": [
    "df = drop_negative_values(df)"
   ]
  },
  {
   "cell_type": "code",
   "execution_count": 8,
   "metadata": {},
   "outputs": [],
   "source": [
    "target_column = [col for col in df.columns if 'score' in col.lower()]\n",
    "train_set, test_set = train_test_split(df, test_size=0.2, random_state=42)\n",
    "\n",
    "train = train_set.drop(columns=target_column, errors='ignore')\n",
    "train_labels = train_set[target_column]\n",
    "\n",
    "test = test_set.drop(columns=target_column, errors='ignore')\n",
    "test_labels = test_set[target_column]"
   ]
  },
  {
   "cell_type": "markdown",
   "metadata": {},
   "source": [
    "# Model 1: Linear Reg"
   ]
  },
  {
   "cell_type": "code",
   "execution_count": 9,
   "metadata": {},
   "outputs": [
    {
     "data": {
      "text/html": [
       "<style>#sk-container-id-1 {color: black;}#sk-container-id-1 pre{padding: 0;}#sk-container-id-1 div.sk-toggleable {background-color: white;}#sk-container-id-1 label.sk-toggleable__label {cursor: pointer;display: block;width: 100%;margin-bottom: 0;padding: 0.3em;box-sizing: border-box;text-align: center;}#sk-container-id-1 label.sk-toggleable__label-arrow:before {content: \"▸\";float: left;margin-right: 0.25em;color: #696969;}#sk-container-id-1 label.sk-toggleable__label-arrow:hover:before {color: black;}#sk-container-id-1 div.sk-estimator:hover label.sk-toggleable__label-arrow:before {color: black;}#sk-container-id-1 div.sk-toggleable__content {max-height: 0;max-width: 0;overflow: hidden;text-align: left;background-color: #f0f8ff;}#sk-container-id-1 div.sk-toggleable__content pre {margin: 0.2em;color: black;border-radius: 0.25em;background-color: #f0f8ff;}#sk-container-id-1 input.sk-toggleable__control:checked~div.sk-toggleable__content {max-height: 200px;max-width: 100%;overflow: auto;}#sk-container-id-1 input.sk-toggleable__control:checked~label.sk-toggleable__label-arrow:before {content: \"▾\";}#sk-container-id-1 div.sk-estimator input.sk-toggleable__control:checked~label.sk-toggleable__label {background-color: #d4ebff;}#sk-container-id-1 div.sk-label input.sk-toggleable__control:checked~label.sk-toggleable__label {background-color: #d4ebff;}#sk-container-id-1 input.sk-hidden--visually {border: 0;clip: rect(1px 1px 1px 1px);clip: rect(1px, 1px, 1px, 1px);height: 1px;margin: -1px;overflow: hidden;padding: 0;position: absolute;width: 1px;}#sk-container-id-1 div.sk-estimator {font-family: monospace;background-color: #f0f8ff;border: 1px dotted black;border-radius: 0.25em;box-sizing: border-box;margin-bottom: 0.5em;}#sk-container-id-1 div.sk-estimator:hover {background-color: #d4ebff;}#sk-container-id-1 div.sk-parallel-item::after {content: \"\";width: 100%;border-bottom: 1px solid gray;flex-grow: 1;}#sk-container-id-1 div.sk-label:hover label.sk-toggleable__label {background-color: #d4ebff;}#sk-container-id-1 div.sk-serial::before {content: \"\";position: absolute;border-left: 1px solid gray;box-sizing: border-box;top: 0;bottom: 0;left: 50%;z-index: 0;}#sk-container-id-1 div.sk-serial {display: flex;flex-direction: column;align-items: center;background-color: white;padding-right: 0.2em;padding-left: 0.2em;position: relative;}#sk-container-id-1 div.sk-item {position: relative;z-index: 1;}#sk-container-id-1 div.sk-parallel {display: flex;align-items: stretch;justify-content: center;background-color: white;position: relative;}#sk-container-id-1 div.sk-item::before, #sk-container-id-1 div.sk-parallel-item::before {content: \"\";position: absolute;border-left: 1px solid gray;box-sizing: border-box;top: 0;bottom: 0;left: 50%;z-index: -1;}#sk-container-id-1 div.sk-parallel-item {display: flex;flex-direction: column;z-index: 1;position: relative;background-color: white;}#sk-container-id-1 div.sk-parallel-item:first-child::after {align-self: flex-end;width: 50%;}#sk-container-id-1 div.sk-parallel-item:last-child::after {align-self: flex-start;width: 50%;}#sk-container-id-1 div.sk-parallel-item:only-child::after {width: 0;}#sk-container-id-1 div.sk-dashed-wrapped {border: 1px dashed gray;margin: 0 0.4em 0.5em 0.4em;box-sizing: border-box;padding-bottom: 0.4em;background-color: white;}#sk-container-id-1 div.sk-label label {font-family: monospace;font-weight: bold;display: inline-block;line-height: 1.2em;}#sk-container-id-1 div.sk-label-container {text-align: center;}#sk-container-id-1 div.sk-container {/* jupyter's `normalize.less` sets `[hidden] { display: none; }` but bootstrap.min.css set `[hidden] { display: none !important; }` so we also need the `!important` here to be able to override the default hidden behavior on the sphinx rendered scikit-learn.org. See: https://github.com/scikit-learn/scikit-learn/issues/21755 */display: inline-block !important;position: relative;}#sk-container-id-1 div.sk-text-repr-fallback {display: none;}</style><div id=\"sk-container-id-1\" class=\"sk-top-container\"><div class=\"sk-text-repr-fallback\"><pre>LinearRegression()</pre><b>In a Jupyter environment, please rerun this cell to show the HTML representation or trust the notebook. <br />On GitHub, the HTML representation is unable to render, please try loading this page with nbviewer.org.</b></div><div class=\"sk-container\" hidden><div class=\"sk-item\"><div class=\"sk-estimator sk-toggleable\"><input class=\"sk-toggleable__control sk-hidden--visually\" id=\"sk-estimator-id-1\" type=\"checkbox\" checked><label for=\"sk-estimator-id-1\" class=\"sk-toggleable__label sk-toggleable__label-arrow\">LinearRegression</label><div class=\"sk-toggleable__content\"><pre>LinearRegression()</pre></div></div></div></div></div>"
      ],
      "text/plain": [
       "LinearRegression()"
      ]
     },
     "execution_count": 9,
     "metadata": {},
     "output_type": "execute_result"
    }
   ],
   "source": [
    "from sklearn.linear_model import LinearRegression\n",
    "lin_reg = LinearRegression()\n",
    "lin_reg.fit(train, train_labels)"
   ]
  },
  {
   "cell_type": "code",
   "execution_count": 10,
   "metadata": {},
   "outputs": [
    {
     "data": {
      "text/plain": [
       "2.8321200176317736"
      ]
     },
     "execution_count": 10,
     "metadata": {},
     "output_type": "execute_result"
    }
   ],
   "source": [
    "from sklearn.metrics import mean_squared_error\n",
    "predictions = lin_reg.predict(train)\n",
    "lin_mse = mean_squared_error(np.array(train_labels), predictions)\n",
    "lin_rmse = np.sqrt(lin_mse)\n",
    "lin_rmse"
   ]
  },
  {
   "cell_type": "code",
   "execution_count": 11,
   "metadata": {},
   "outputs": [],
   "source": [
    "scores = cross_val_score(lin_reg, train, train_labels, scoring=\"neg_mean_squared_error\", cv=10)\n",
    "lin_rmse_scores = np.sqrt(-scores)"
   ]
  },
  {
   "cell_type": "code",
   "execution_count": 12,
   "metadata": {},
   "outputs": [
    {
     "name": "stdout",
     "output_type": "stream",
     "text": [
      "Scores: [2.7591169  2.81719053 2.69408479 2.89161287 3.11142801 2.85048284\n",
      " 2.66795585 2.72331682 2.66914356 3.14585575]\n",
      "Mean: 2.8330187934266045\n",
      "Standard deviation: 0.16439798926184856\n"
     ]
    }
   ],
   "source": [
    "def display_scores(scores):\n",
    "    print(\"Scores:\", scores)\n",
    "    print(\"Mean:\", scores.mean())\n",
    "    print(\"Standard deviation:\", scores.std())\n",
    "display_scores(lin_rmse_scores)"
   ]
  },
  {
   "cell_type": "markdown",
   "metadata": {},
   "source": [
    "# 2. Decision Tree Regressor"
   ]
  },
  {
   "cell_type": "code",
   "execution_count": 13,
   "metadata": {},
   "outputs": [
    {
     "data": {
      "text/html": [
       "<style>#sk-container-id-2 {color: black;}#sk-container-id-2 pre{padding: 0;}#sk-container-id-2 div.sk-toggleable {background-color: white;}#sk-container-id-2 label.sk-toggleable__label {cursor: pointer;display: block;width: 100%;margin-bottom: 0;padding: 0.3em;box-sizing: border-box;text-align: center;}#sk-container-id-2 label.sk-toggleable__label-arrow:before {content: \"▸\";float: left;margin-right: 0.25em;color: #696969;}#sk-container-id-2 label.sk-toggleable__label-arrow:hover:before {color: black;}#sk-container-id-2 div.sk-estimator:hover label.sk-toggleable__label-arrow:before {color: black;}#sk-container-id-2 div.sk-toggleable__content {max-height: 0;max-width: 0;overflow: hidden;text-align: left;background-color: #f0f8ff;}#sk-container-id-2 div.sk-toggleable__content pre {margin: 0.2em;color: black;border-radius: 0.25em;background-color: #f0f8ff;}#sk-container-id-2 input.sk-toggleable__control:checked~div.sk-toggleable__content {max-height: 200px;max-width: 100%;overflow: auto;}#sk-container-id-2 input.sk-toggleable__control:checked~label.sk-toggleable__label-arrow:before {content: \"▾\";}#sk-container-id-2 div.sk-estimator input.sk-toggleable__control:checked~label.sk-toggleable__label {background-color: #d4ebff;}#sk-container-id-2 div.sk-label input.sk-toggleable__control:checked~label.sk-toggleable__label {background-color: #d4ebff;}#sk-container-id-2 input.sk-hidden--visually {border: 0;clip: rect(1px 1px 1px 1px);clip: rect(1px, 1px, 1px, 1px);height: 1px;margin: -1px;overflow: hidden;padding: 0;position: absolute;width: 1px;}#sk-container-id-2 div.sk-estimator {font-family: monospace;background-color: #f0f8ff;border: 1px dotted black;border-radius: 0.25em;box-sizing: border-box;margin-bottom: 0.5em;}#sk-container-id-2 div.sk-estimator:hover {background-color: #d4ebff;}#sk-container-id-2 div.sk-parallel-item::after {content: \"\";width: 100%;border-bottom: 1px solid gray;flex-grow: 1;}#sk-container-id-2 div.sk-label:hover label.sk-toggleable__label {background-color: #d4ebff;}#sk-container-id-2 div.sk-serial::before {content: \"\";position: absolute;border-left: 1px solid gray;box-sizing: border-box;top: 0;bottom: 0;left: 50%;z-index: 0;}#sk-container-id-2 div.sk-serial {display: flex;flex-direction: column;align-items: center;background-color: white;padding-right: 0.2em;padding-left: 0.2em;position: relative;}#sk-container-id-2 div.sk-item {position: relative;z-index: 1;}#sk-container-id-2 div.sk-parallel {display: flex;align-items: stretch;justify-content: center;background-color: white;position: relative;}#sk-container-id-2 div.sk-item::before, #sk-container-id-2 div.sk-parallel-item::before {content: \"\";position: absolute;border-left: 1px solid gray;box-sizing: border-box;top: 0;bottom: 0;left: 50%;z-index: -1;}#sk-container-id-2 div.sk-parallel-item {display: flex;flex-direction: column;z-index: 1;position: relative;background-color: white;}#sk-container-id-2 div.sk-parallel-item:first-child::after {align-self: flex-end;width: 50%;}#sk-container-id-2 div.sk-parallel-item:last-child::after {align-self: flex-start;width: 50%;}#sk-container-id-2 div.sk-parallel-item:only-child::after {width: 0;}#sk-container-id-2 div.sk-dashed-wrapped {border: 1px dashed gray;margin: 0 0.4em 0.5em 0.4em;box-sizing: border-box;padding-bottom: 0.4em;background-color: white;}#sk-container-id-2 div.sk-label label {font-family: monospace;font-weight: bold;display: inline-block;line-height: 1.2em;}#sk-container-id-2 div.sk-label-container {text-align: center;}#sk-container-id-2 div.sk-container {/* jupyter's `normalize.less` sets `[hidden] { display: none; }` but bootstrap.min.css set `[hidden] { display: none !important; }` so we also need the `!important` here to be able to override the default hidden behavior on the sphinx rendered scikit-learn.org. See: https://github.com/scikit-learn/scikit-learn/issues/21755 */display: inline-block !important;position: relative;}#sk-container-id-2 div.sk-text-repr-fallback {display: none;}</style><div id=\"sk-container-id-2\" class=\"sk-top-container\"><div class=\"sk-text-repr-fallback\"><pre>DecisionTreeRegressor()</pre><b>In a Jupyter environment, please rerun this cell to show the HTML representation or trust the notebook. <br />On GitHub, the HTML representation is unable to render, please try loading this page with nbviewer.org.</b></div><div class=\"sk-container\" hidden><div class=\"sk-item\"><div class=\"sk-estimator sk-toggleable\"><input class=\"sk-toggleable__control sk-hidden--visually\" id=\"sk-estimator-id-2\" type=\"checkbox\" checked><label for=\"sk-estimator-id-2\" class=\"sk-toggleable__label sk-toggleable__label-arrow\">DecisionTreeRegressor</label><div class=\"sk-toggleable__content\"><pre>DecisionTreeRegressor()</pre></div></div></div></div></div>"
      ],
      "text/plain": [
       "DecisionTreeRegressor()"
      ]
     },
     "execution_count": 13,
     "metadata": {},
     "output_type": "execute_result"
    }
   ],
   "source": [
    "from sklearn.tree import DecisionTreeRegressor\n",
    "tree_reg = DecisionTreeRegressor()\n",
    "tree_reg.fit(train, train_labels)"
   ]
  },
  {
   "cell_type": "code",
   "execution_count": 14,
   "metadata": {},
   "outputs": [
    {
     "data": {
      "text/plain": [
       "0.8129826302133111"
      ]
     },
     "execution_count": 14,
     "metadata": {},
     "output_type": "execute_result"
    }
   ],
   "source": [
    "predictions = tree_reg.predict(train)\n",
    "tree_mse = mean_squared_error(train_labels, predictions)\n",
    "tree_rmse = np.sqrt(tree_mse)\n",
    "tree_rmse"
   ]
  },
  {
   "cell_type": "code",
   "execution_count": 15,
   "metadata": {},
   "outputs": [],
   "source": [
    "scores = cross_val_score(tree_reg, train, train_labels, scoring=\"neg_mean_squared_error\", cv=10)\n",
    "tree_rmse_scores = np.sqrt(-scores)"
   ]
  },
  {
   "cell_type": "code",
   "execution_count": 16,
   "metadata": {},
   "outputs": [
    {
     "name": "stdout",
     "output_type": "stream",
     "text": [
      "Scores: [2.27621769 2.53549209 2.33094703 2.58176495 2.57477794 2.40943015\n",
      " 2.27319407 2.70954968 2.68417417 2.81856193]\n",
      "Mean: 2.5194109694603375\n",
      "Standard deviation: 0.18093734510567627\n"
     ]
    }
   ],
   "source": [
    "def display_scores(scores):\n",
    "    print(\"Scores:\", scores)\n",
    "    print(\"Mean:\", scores.mean())\n",
    "    print(\"Standard deviation:\", scores.std())\n",
    "display_scores(tree_rmse_scores)"
   ]
  },
  {
   "cell_type": "markdown",
   "metadata": {},
   "source": [
    "# 3.Random Forest Regressor"
   ]
  },
  {
   "cell_type": "code",
   "execution_count": 17,
   "metadata": {},
   "outputs": [
    {
     "name": "stderr",
     "output_type": "stream",
     "text": [
      "c:\\Users\\m.pham\\AppData\\Local\\anaconda3\\Lib\\site-packages\\sklearn\\base.py:1151: DataConversionWarning: A column-vector y was passed when a 1d array was expected. Please change the shape of y to (n_samples,), for example using ravel().\n",
      "  return fit_method(estimator, *args, **kwargs)\n"
     ]
    },
    {
     "data": {
      "text/html": [
       "<style>#sk-container-id-3 {color: black;}#sk-container-id-3 pre{padding: 0;}#sk-container-id-3 div.sk-toggleable {background-color: white;}#sk-container-id-3 label.sk-toggleable__label {cursor: pointer;display: block;width: 100%;margin-bottom: 0;padding: 0.3em;box-sizing: border-box;text-align: center;}#sk-container-id-3 label.sk-toggleable__label-arrow:before {content: \"▸\";float: left;margin-right: 0.25em;color: #696969;}#sk-container-id-3 label.sk-toggleable__label-arrow:hover:before {color: black;}#sk-container-id-3 div.sk-estimator:hover label.sk-toggleable__label-arrow:before {color: black;}#sk-container-id-3 div.sk-toggleable__content {max-height: 0;max-width: 0;overflow: hidden;text-align: left;background-color: #f0f8ff;}#sk-container-id-3 div.sk-toggleable__content pre {margin: 0.2em;color: black;border-radius: 0.25em;background-color: #f0f8ff;}#sk-container-id-3 input.sk-toggleable__control:checked~div.sk-toggleable__content {max-height: 200px;max-width: 100%;overflow: auto;}#sk-container-id-3 input.sk-toggleable__control:checked~label.sk-toggleable__label-arrow:before {content: \"▾\";}#sk-container-id-3 div.sk-estimator input.sk-toggleable__control:checked~label.sk-toggleable__label {background-color: #d4ebff;}#sk-container-id-3 div.sk-label input.sk-toggleable__control:checked~label.sk-toggleable__label {background-color: #d4ebff;}#sk-container-id-3 input.sk-hidden--visually {border: 0;clip: rect(1px 1px 1px 1px);clip: rect(1px, 1px, 1px, 1px);height: 1px;margin: -1px;overflow: hidden;padding: 0;position: absolute;width: 1px;}#sk-container-id-3 div.sk-estimator {font-family: monospace;background-color: #f0f8ff;border: 1px dotted black;border-radius: 0.25em;box-sizing: border-box;margin-bottom: 0.5em;}#sk-container-id-3 div.sk-estimator:hover {background-color: #d4ebff;}#sk-container-id-3 div.sk-parallel-item::after {content: \"\";width: 100%;border-bottom: 1px solid gray;flex-grow: 1;}#sk-container-id-3 div.sk-label:hover label.sk-toggleable__label {background-color: #d4ebff;}#sk-container-id-3 div.sk-serial::before {content: \"\";position: absolute;border-left: 1px solid gray;box-sizing: border-box;top: 0;bottom: 0;left: 50%;z-index: 0;}#sk-container-id-3 div.sk-serial {display: flex;flex-direction: column;align-items: center;background-color: white;padding-right: 0.2em;padding-left: 0.2em;position: relative;}#sk-container-id-3 div.sk-item {position: relative;z-index: 1;}#sk-container-id-3 div.sk-parallel {display: flex;align-items: stretch;justify-content: center;background-color: white;position: relative;}#sk-container-id-3 div.sk-item::before, #sk-container-id-3 div.sk-parallel-item::before {content: \"\";position: absolute;border-left: 1px solid gray;box-sizing: border-box;top: 0;bottom: 0;left: 50%;z-index: -1;}#sk-container-id-3 div.sk-parallel-item {display: flex;flex-direction: column;z-index: 1;position: relative;background-color: white;}#sk-container-id-3 div.sk-parallel-item:first-child::after {align-self: flex-end;width: 50%;}#sk-container-id-3 div.sk-parallel-item:last-child::after {align-self: flex-start;width: 50%;}#sk-container-id-3 div.sk-parallel-item:only-child::after {width: 0;}#sk-container-id-3 div.sk-dashed-wrapped {border: 1px dashed gray;margin: 0 0.4em 0.5em 0.4em;box-sizing: border-box;padding-bottom: 0.4em;background-color: white;}#sk-container-id-3 div.sk-label label {font-family: monospace;font-weight: bold;display: inline-block;line-height: 1.2em;}#sk-container-id-3 div.sk-label-container {text-align: center;}#sk-container-id-3 div.sk-container {/* jupyter's `normalize.less` sets `[hidden] { display: none; }` but bootstrap.min.css set `[hidden] { display: none !important; }` so we also need the `!important` here to be able to override the default hidden behavior on the sphinx rendered scikit-learn.org. See: https://github.com/scikit-learn/scikit-learn/issues/21755 */display: inline-block !important;position: relative;}#sk-container-id-3 div.sk-text-repr-fallback {display: none;}</style><div id=\"sk-container-id-3\" class=\"sk-top-container\"><div class=\"sk-text-repr-fallback\"><pre>RandomForestRegressor()</pre><b>In a Jupyter environment, please rerun this cell to show the HTML representation or trust the notebook. <br />On GitHub, the HTML representation is unable to render, please try loading this page with nbviewer.org.</b></div><div class=\"sk-container\" hidden><div class=\"sk-item\"><div class=\"sk-estimator sk-toggleable\"><input class=\"sk-toggleable__control sk-hidden--visually\" id=\"sk-estimator-id-3\" type=\"checkbox\" checked><label for=\"sk-estimator-id-3\" class=\"sk-toggleable__label sk-toggleable__label-arrow\">RandomForestRegressor</label><div class=\"sk-toggleable__content\"><pre>RandomForestRegressor()</pre></div></div></div></div></div>"
      ],
      "text/plain": [
       "RandomForestRegressor()"
      ]
     },
     "execution_count": 17,
     "metadata": {},
     "output_type": "execute_result"
    }
   ],
   "source": [
    "from sklearn.ensemble import RandomForestRegressor\n",
    "forest_reg = RandomForestRegressor()\n",
    "forest_reg.fit(train, train_labels)"
   ]
  },
  {
   "cell_type": "code",
   "execution_count": 18,
   "metadata": {},
   "outputs": [
    {
     "name": "stdout",
     "output_type": "stream",
     "text": [
      "0.9950727244187846\n"
     ]
    }
   ],
   "source": [
    "predictions = forest_reg.predict(train)\n",
    "forest_mse = mean_squared_error(train_labels, predictions)\n",
    "forest_rmse = np.sqrt(forest_mse)\n",
    "print(forest_rmse)"
   ]
  },
  {
   "cell_type": "code",
   "execution_count": 19,
   "metadata": {},
   "outputs": [
    {
     "name": "stderr",
     "output_type": "stream",
     "text": [
      "c:\\Users\\m.pham\\AppData\\Local\\anaconda3\\Lib\\site-packages\\sklearn\\base.py:1151: DataConversionWarning: A column-vector y was passed when a 1d array was expected. Please change the shape of y to (n_samples,), for example using ravel().\n",
      "  return fit_method(estimator, *args, **kwargs)\n",
      "c:\\Users\\m.pham\\AppData\\Local\\anaconda3\\Lib\\site-packages\\sklearn\\base.py:1151: DataConversionWarning: A column-vector y was passed when a 1d array was expected. Please change the shape of y to (n_samples,), for example using ravel().\n",
      "  return fit_method(estimator, *args, **kwargs)\n",
      "c:\\Users\\m.pham\\AppData\\Local\\anaconda3\\Lib\\site-packages\\sklearn\\base.py:1151: DataConversionWarning: A column-vector y was passed when a 1d array was expected. Please change the shape of y to (n_samples,), for example using ravel().\n",
      "  return fit_method(estimator, *args, **kwargs)\n",
      "c:\\Users\\m.pham\\AppData\\Local\\anaconda3\\Lib\\site-packages\\sklearn\\base.py:1151: DataConversionWarning: A column-vector y was passed when a 1d array was expected. Please change the shape of y to (n_samples,), for example using ravel().\n",
      "  return fit_method(estimator, *args, **kwargs)\n",
      "c:\\Users\\m.pham\\AppData\\Local\\anaconda3\\Lib\\site-packages\\sklearn\\base.py:1151: DataConversionWarning: A column-vector y was passed when a 1d array was expected. Please change the shape of y to (n_samples,), for example using ravel().\n",
      "  return fit_method(estimator, *args, **kwargs)\n",
      "c:\\Users\\m.pham\\AppData\\Local\\anaconda3\\Lib\\site-packages\\sklearn\\base.py:1151: DataConversionWarning: A column-vector y was passed when a 1d array was expected. Please change the shape of y to (n_samples,), for example using ravel().\n",
      "  return fit_method(estimator, *args, **kwargs)\n",
      "c:\\Users\\m.pham\\AppData\\Local\\anaconda3\\Lib\\site-packages\\sklearn\\base.py:1151: DataConversionWarning: A column-vector y was passed when a 1d array was expected. Please change the shape of y to (n_samples,), for example using ravel().\n",
      "  return fit_method(estimator, *args, **kwargs)\n",
      "c:\\Users\\m.pham\\AppData\\Local\\anaconda3\\Lib\\site-packages\\sklearn\\base.py:1151: DataConversionWarning: A column-vector y was passed when a 1d array was expected. Please change the shape of y to (n_samples,), for example using ravel().\n",
      "  return fit_method(estimator, *args, **kwargs)\n",
      "c:\\Users\\m.pham\\AppData\\Local\\anaconda3\\Lib\\site-packages\\sklearn\\base.py:1151: DataConversionWarning: A column-vector y was passed when a 1d array was expected. Please change the shape of y to (n_samples,), for example using ravel().\n",
      "  return fit_method(estimator, *args, **kwargs)\n",
      "c:\\Users\\m.pham\\AppData\\Local\\anaconda3\\Lib\\site-packages\\sklearn\\base.py:1151: DataConversionWarning: A column-vector y was passed when a 1d array was expected. Please change the shape of y to (n_samples,), for example using ravel().\n",
      "  return fit_method(estimator, *args, **kwargs)\n"
     ]
    }
   ],
   "source": [
    "scores = cross_val_score(forest_reg, train, train_labels, scoring=\"neg_mean_squared_error\", cv=10)\n",
    "forest_rmse_scores = np.sqrt(-scores)"
   ]
  },
  {
   "cell_type": "code",
   "execution_count": 20,
   "metadata": {},
   "outputs": [
    {
     "name": "stdout",
     "output_type": "stream",
     "text": [
      "Scores: [1.6559784  1.70065072 1.73241928 1.63919789 1.91932757 1.7697643\n",
      " 1.59772987 1.73369812 2.10385008 1.96382541]\n",
      "Mean: 1.7816441647415284\n",
      "Standard deviation: 0.15404338809605572\n"
     ]
    }
   ],
   "source": [
    "def display_scores(scores):\n",
    "    print(\"Scores:\", scores)\n",
    "    print(\"Mean:\", scores.mean())\n",
    "    print(\"Standard deviation:\", scores.std())\n",
    "display_scores(forest_rmse_scores)"
   ]
  },
  {
   "cell_type": "markdown",
   "metadata": {},
   "source": [
    "# 4. ANN Models"
   ]
  },
  {
   "cell_type": "code",
   "execution_count": 21,
   "metadata": {},
   "outputs": [
    {
     "name": "stdout",
     "output_type": "stream",
     "text": [
      "WARNING:tensorflow:From c:\\Users\\m.pham\\AppData\\Local\\anaconda3\\Lib\\site-packages\\keras\\backend.py:873: The name tf.get_default_graph is deprecated. Please use tf.compat.v1.get_default_graph instead.\n",
      "\n",
      "WARNING:tensorflow:From c:\\Users\\m.pham\\AppData\\Local\\anaconda3\\Lib\\site-packages\\keras\\optimizers\\__init__.py:300: The name tf.train.Optimizer is deprecated. Please use tf.compat.v1.train.Optimizer instead.\n",
      "\n",
      "Epoch 1/100\n",
      "WARNING:tensorflow:From c:\\Users\\m.pham\\AppData\\Local\\anaconda3\\Lib\\site-packages\\keras\\utils\\tf_utils.py:490: The name tf.ragged.RaggedTensorValue is deprecated. Please use tf.compat.v1.ragged.RaggedTensorValue instead.\n",
      "\n",
      "WARNING:tensorflow:From c:\\Users\\m.pham\\AppData\\Local\\anaconda3\\Lib\\site-packages\\keras\\engine\\base_layer_utils.py:380: The name tf.executing_eagerly_outside_functions is deprecated. Please use tf.compat.v1.executing_eagerly_outside_functions instead.\n",
      "\n",
      "128/128 [==============================] - 2s 6ms/step - loss: 336.6970 - rmse: 14.7523 - val_loss: 79.2054 - val_rmse: 8.7004\n",
      "Epoch 2/100\n",
      "128/128 [==============================] - 1s 4ms/step - loss: 91.5794 - rmse: 9.4105 - val_loss: 71.1124 - val_rmse: 8.2663\n",
      "Epoch 3/100\n",
      "128/128 [==============================] - 1s 5ms/step - loss: 76.3059 - rmse: 8.5787 - val_loss: 52.6452 - val_rmse: 7.1150\n",
      "Epoch 4/100\n",
      "128/128 [==============================] - 1s 4ms/step - loss: 60.5975 - rmse: 7.6685 - val_loss: 34.4937 - val_rmse: 5.7615\n",
      "Epoch 5/100\n",
      "128/128 [==============================] - 1s 5ms/step - loss: 45.4343 - rmse: 6.6591 - val_loss: 24.1066 - val_rmse: 4.8336\n",
      "Epoch 6/100\n",
      "128/128 [==============================] - 1s 5ms/step - loss: 31.9645 - rmse: 5.5792 - val_loss: 14.0605 - val_rmse: 3.7126\n",
      "Epoch 7/100\n",
      "128/128 [==============================] - 1s 4ms/step - loss: 27.3083 - rmse: 5.1666 - val_loss: 8.8643 - val_rmse: 2.9387\n",
      "Epoch 8/100\n",
      "128/128 [==============================] - 1s 4ms/step - loss: 25.7002 - rmse: 5.0033 - val_loss: 33.6206 - val_rmse: 5.7805\n",
      "Epoch 9/100\n",
      "128/128 [==============================] - 0s 4ms/step - loss: 21.6918 - rmse: 4.6031 - val_loss: 5.3809 - val_rmse: 2.2970\n",
      "Epoch 10/100\n",
      "128/128 [==============================] - 0s 4ms/step - loss: 21.4487 - rmse: 4.5798 - val_loss: 5.0421 - val_rmse: 2.2079\n",
      "Epoch 11/100\n",
      "128/128 [==============================] - 1s 5ms/step - loss: 19.0379 - rmse: 4.3191 - val_loss: 6.5592 - val_rmse: 2.5170\n",
      "Epoch 12/100\n",
      "128/128 [==============================] - 1s 4ms/step - loss: 19.6339 - rmse: 4.3816 - val_loss: 10.6319 - val_rmse: 3.2442\n",
      "Epoch 13/100\n",
      "128/128 [==============================] - 1s 4ms/step - loss: 18.3927 - rmse: 4.2495 - val_loss: 5.4139 - val_rmse: 2.2992\n",
      "Epoch 14/100\n",
      "128/128 [==============================] - 1s 4ms/step - loss: 17.5794 - rmse: 4.1492 - val_loss: 14.8270 - val_rmse: 3.8390\n",
      "Epoch 15/100\n",
      "128/128 [==============================] - 1s 5ms/step - loss: 18.1167 - rmse: 4.2040 - val_loss: 7.1957 - val_rmse: 2.6471\n",
      "Epoch 16/100\n",
      "128/128 [==============================] - 1s 4ms/step - loss: 17.8605 - rmse: 4.1651 - val_loss: 6.3111 - val_rmse: 2.4879\n",
      "Epoch 17/100\n",
      "128/128 [==============================] - 1s 5ms/step - loss: 16.6935 - rmse: 4.0341 - val_loss: 5.4869 - val_rmse: 2.3237\n",
      "Epoch 18/100\n",
      "128/128 [==============================] - 1s 5ms/step - loss: 15.9784 - rmse: 3.9481 - val_loss: 14.7869 - val_rmse: 3.8332\n",
      "Epoch 19/100\n",
      "128/128 [==============================] - 1s 4ms/step - loss: 18.1164 - rmse: 4.1929 - val_loss: 5.5622 - val_rmse: 2.3408\n",
      "Epoch 20/100\n",
      "128/128 [==============================] - 0s 4ms/step - loss: 15.6287 - rmse: 3.8890 - val_loss: 9.5362 - val_rmse: 3.0754\n",
      "Epoch 21/100\n",
      "128/128 [==============================] - 0s 4ms/step - loss: 17.9669 - rmse: 4.1768 - val_loss: 12.8195 - val_rmse: 3.5609\n",
      "Epoch 22/100\n",
      "128/128 [==============================] - 1s 4ms/step - loss: 16.8306 - rmse: 4.0640 - val_loss: 3.3446 - val_rmse: 1.8042\n",
      "Epoch 23/100\n",
      "128/128 [==============================] - 1s 4ms/step - loss: 15.5081 - rmse: 3.9028 - val_loss: 3.7654 - val_rmse: 1.9116\n",
      "Epoch 24/100\n",
      "128/128 [==============================] - 0s 4ms/step - loss: 15.0170 - rmse: 3.8267 - val_loss: 4.0925 - val_rmse: 2.0023\n",
      "Epoch 25/100\n",
      "128/128 [==============================] - 0s 4ms/step - loss: 15.1159 - rmse: 3.8544 - val_loss: 6.3324 - val_rmse: 2.5022\n",
      "Epoch 26/100\n",
      "128/128 [==============================] - 0s 4ms/step - loss: 14.7770 - rmse: 3.7879 - val_loss: 7.3519 - val_rmse: 2.6810\n",
      "Epoch 27/100\n",
      "128/128 [==============================] - 0s 4ms/step - loss: 14.9314 - rmse: 3.8239 - val_loss: 3.1297 - val_rmse: 1.7435\n",
      "Epoch 28/100\n",
      "128/128 [==============================] - 1s 4ms/step - loss: 14.7885 - rmse: 3.8030 - val_loss: 3.2234 - val_rmse: 1.7674\n",
      "Epoch 29/100\n",
      "128/128 [==============================] - 0s 4ms/step - loss: 14.4985 - rmse: 3.7608 - val_loss: 3.3273 - val_rmse: 1.8037\n",
      "Epoch 30/100\n",
      "128/128 [==============================] - 0s 4ms/step - loss: 14.9326 - rmse: 3.8186 - val_loss: 4.4170 - val_rmse: 2.0631\n",
      "Epoch 31/100\n",
      "128/128 [==============================] - 0s 4ms/step - loss: 15.0429 - rmse: 3.8411 - val_loss: 8.0419 - val_rmse: 2.8113\n",
      "Epoch 32/100\n",
      "128/128 [==============================] - 0s 4ms/step - loss: 15.1470 - rmse: 3.8388 - val_loss: 3.0480 - val_rmse: 1.7195\n",
      "Epoch 33/100\n",
      "128/128 [==============================] - 0s 4ms/step - loss: 14.2053 - rmse: 3.7251 - val_loss: 3.1583 - val_rmse: 1.7494\n",
      "Epoch 34/100\n",
      "128/128 [==============================] - 0s 4ms/step - loss: 14.4554 - rmse: 3.7706 - val_loss: 4.5386 - val_rmse: 2.1085\n",
      "Epoch 35/100\n",
      "128/128 [==============================] - 1s 4ms/step - loss: 14.1945 - rmse: 3.7188 - val_loss: 3.2020 - val_rmse: 1.7491\n",
      "Epoch 36/100\n",
      "128/128 [==============================] - 1s 5ms/step - loss: 14.0455 - rmse: 3.7152 - val_loss: 3.2428 - val_rmse: 1.7411\n",
      "Epoch 37/100\n",
      "128/128 [==============================] - 1s 5ms/step - loss: 14.1792 - rmse: 3.7267 - val_loss: 3.3773 - val_rmse: 1.8111\n",
      "Epoch 38/100\n",
      "128/128 [==============================] - 1s 5ms/step - loss: 14.7231 - rmse: 3.7877 - val_loss: 4.2449 - val_rmse: 2.0391\n",
      "Epoch 39/100\n",
      "128/128 [==============================] - 1s 5ms/step - loss: 14.5922 - rmse: 3.7791 - val_loss: 5.0253 - val_rmse: 2.2110\n",
      "Epoch 40/100\n",
      "128/128 [==============================] - 1s 4ms/step - loss: 14.1966 - rmse: 3.7132 - val_loss: 11.4382 - val_rmse: 3.3665\n",
      "Epoch 41/100\n",
      "128/128 [==============================] - 1s 4ms/step - loss: 14.6997 - rmse: 3.7824 - val_loss: 3.3046 - val_rmse: 1.7905\n",
      "Epoch 42/100\n",
      "128/128 [==============================] - 1s 5ms/step - loss: 14.1450 - rmse: 3.7301 - val_loss: 2.9868 - val_rmse: 1.7023\n",
      "Epoch 43/100\n",
      "128/128 [==============================] - 1s 5ms/step - loss: 14.2411 - rmse: 3.7308 - val_loss: 3.7789 - val_rmse: 1.9113\n",
      "Epoch 44/100\n",
      "128/128 [==============================] - 1s 4ms/step - loss: 13.7086 - rmse: 3.6562 - val_loss: 3.9078 - val_rmse: 1.9419\n",
      "Epoch 45/100\n",
      "128/128 [==============================] - 1s 5ms/step - loss: 14.9366 - rmse: 3.8218 - val_loss: 5.3750 - val_rmse: 2.2990\n",
      "Epoch 46/100\n",
      "128/128 [==============================] - 1s 5ms/step - loss: 14.0338 - rmse: 3.6998 - val_loss: 3.6358 - val_rmse: 1.8758\n",
      "Epoch 47/100\n",
      "128/128 [==============================] - 2s 15ms/step - loss: 14.1449 - rmse: 3.7085 - val_loss: 2.7181 - val_rmse: 1.6226\n",
      "Epoch 48/100\n",
      "128/128 [==============================] - 1s 6ms/step - loss: 12.6862 - rmse: 3.5147 - val_loss: 3.3253 - val_rmse: 1.8086\n",
      "Epoch 49/100\n",
      "128/128 [==============================] - 1s 4ms/step - loss: 13.9132 - rmse: 3.6871 - val_loss: 3.7038 - val_rmse: 1.8886\n",
      "Epoch 50/100\n",
      "128/128 [==============================] - 0s 3ms/step - loss: 13.8622 - rmse: 3.6744 - val_loss: 4.8771 - val_rmse: 2.1921\n",
      "Epoch 51/100\n",
      "128/128 [==============================] - 0s 4ms/step - loss: 14.4584 - rmse: 3.7620 - val_loss: 2.8252 - val_rmse: 1.6536\n",
      "Epoch 52/100\n",
      "128/128 [==============================] - 2s 16ms/step - loss: 12.9492 - rmse: 3.5654 - val_loss: 2.9589 - val_rmse: 1.6908\n",
      "Epoch 53/100\n",
      "128/128 [==============================] - 1s 5ms/step - loss: 13.4649 - rmse: 3.6246 - val_loss: 3.2757 - val_rmse: 1.7823\n",
      "Epoch 54/100\n",
      "128/128 [==============================] - 0s 4ms/step - loss: 14.4498 - rmse: 3.7550 - val_loss: 3.7262 - val_rmse: 1.8799\n",
      "Epoch 55/100\n",
      "128/128 [==============================] - 0s 4ms/step - loss: 13.1910 - rmse: 3.5877 - val_loss: 4.5317 - val_rmse: 2.1141\n",
      "Epoch 56/100\n",
      "128/128 [==============================] - 0s 3ms/step - loss: 14.7536 - rmse: 3.7945 - val_loss: 9.7294 - val_rmse: 3.1055\n",
      "Epoch 57/100\n",
      "128/128 [==============================] - 0s 3ms/step - loss: 13.8143 - rmse: 3.6674 - val_loss: 3.0469 - val_rmse: 1.7125\n",
      "Epoch 58/100\n",
      "128/128 [==============================] - 0s 3ms/step - loss: 13.3330 - rmse: 3.6097 - val_loss: 5.6792 - val_rmse: 2.3676\n",
      "Epoch 59/100\n",
      "128/128 [==============================] - 0s 3ms/step - loss: 14.3054 - rmse: 3.7385 - val_loss: 8.0296 - val_rmse: 2.8223\n",
      "Epoch 60/100\n",
      "128/128 [==============================] - 0s 4ms/step - loss: 14.2556 - rmse: 3.7173 - val_loss: 4.7322 - val_rmse: 2.1355\n",
      "Epoch 61/100\n",
      "128/128 [==============================] - 0s 4ms/step - loss: 13.4304 - rmse: 3.6246 - val_loss: 5.4650 - val_rmse: 2.3175\n",
      "Epoch 62/100\n",
      "128/128 [==============================] - 0s 3ms/step - loss: 13.9970 - rmse: 3.6944 - val_loss: 5.6290 - val_rmse: 2.3377\n",
      "Epoch 63/100\n",
      "128/128 [==============================] - 0s 3ms/step - loss: 12.5170 - rmse: 3.4989 - val_loss: 10.1555 - val_rmse: 3.1700\n",
      "Epoch 64/100\n",
      "128/128 [==============================] - 0s 4ms/step - loss: 13.2184 - rmse: 3.5889 - val_loss: 4.2687 - val_rmse: 2.0372\n",
      "Epoch 65/100\n",
      "128/128 [==============================] - 1s 4ms/step - loss: 13.0218 - rmse: 3.5653 - val_loss: 3.3571 - val_rmse: 1.7986\n",
      "Epoch 66/100\n",
      "128/128 [==============================] - 0s 3ms/step - loss: 12.5722 - rmse: 3.5048 - val_loss: 2.7287 - val_rmse: 1.6339\n",
      "Epoch 67/100\n",
      "128/128 [==============================] - 2s 13ms/step - loss: 13.1247 - rmse: 3.5743 - val_loss: 3.0282 - val_rmse: 1.7157\n",
      "Epoch 68/100\n",
      "128/128 [==============================] - 1s 7ms/step - loss: 11.7937 - rmse: 3.3962 - val_loss: 3.1286 - val_rmse: 1.7389\n",
      "Epoch 69/100\n",
      "128/128 [==============================] - 0s 3ms/step - loss: 12.0642 - rmse: 3.4361 - val_loss: 4.7322 - val_rmse: 2.1443\n",
      "Epoch 70/100\n",
      "128/128 [==============================] - 0s 4ms/step - loss: 13.6401 - rmse: 3.6381 - val_loss: 6.1215 - val_rmse: 2.4464\n",
      "Epoch 71/100\n",
      "128/128 [==============================] - 0s 3ms/step - loss: 13.7759 - rmse: 3.6586 - val_loss: 3.0290 - val_rmse: 1.7092\n",
      "Epoch 72/100\n",
      "128/128 [==============================] - 0s 3ms/step - loss: 14.5596 - rmse: 3.7764 - val_loss: 2.6709 - val_rmse: 1.6089\n",
      "Epoch 73/100\n",
      "128/128 [==============================] - 0s 3ms/step - loss: 13.6386 - rmse: 3.6453 - val_loss: 4.7912 - val_rmse: 2.1712\n",
      "Epoch 74/100\n",
      "128/128 [==============================] - 0s 3ms/step - loss: 13.7383 - rmse: 3.6584 - val_loss: 4.2179 - val_rmse: 2.0106\n",
      "Epoch 75/100\n",
      "128/128 [==============================] - 0s 4ms/step - loss: 12.4057 - rmse: 3.4797 - val_loss: 3.4767 - val_rmse: 1.8380\n",
      "Epoch 76/100\n",
      "128/128 [==============================] - 0s 4ms/step - loss: 12.6721 - rmse: 3.5181 - val_loss: 8.9018 - val_rmse: 2.9592\n",
      "Epoch 77/100\n",
      "128/128 [==============================] - 0s 3ms/step - loss: 14.1494 - rmse: 3.6947 - val_loss: 2.7352 - val_rmse: 1.6352\n",
      "Epoch 78/100\n",
      "128/128 [==============================] - 0s 4ms/step - loss: 13.8392 - rmse: 3.6753 - val_loss: 2.8581 - val_rmse: 1.6683\n",
      "Epoch 79/100\n",
      "128/128 [==============================] - 0s 4ms/step - loss: 11.4224 - rmse: 3.3444 - val_loss: 2.7447 - val_rmse: 1.6380\n",
      "Epoch 80/100\n",
      "128/128 [==============================] - 0s 4ms/step - loss: 12.7246 - rmse: 3.5333 - val_loss: 5.2200 - val_rmse: 2.2645\n",
      "Epoch 81/100\n",
      "128/128 [==============================] - 0s 4ms/step - loss: 12.5729 - rmse: 3.5116 - val_loss: 2.9300 - val_rmse: 1.6928\n",
      "Epoch 82/100\n",
      "128/128 [==============================] - 0s 3ms/step - loss: 12.7632 - rmse: 3.5286 - val_loss: 3.9215 - val_rmse: 1.9493\n",
      "Epoch 83/100\n",
      "128/128 [==============================] - 0s 4ms/step - loss: 12.5894 - rmse: 3.5036 - val_loss: 4.5021 - val_rmse: 2.0987\n",
      "Epoch 84/100\n",
      "128/128 [==============================] - 0s 4ms/step - loss: 12.7844 - rmse: 3.5218 - val_loss: 9.0456 - val_rmse: 2.9898\n",
      "Epoch 85/100\n",
      "128/128 [==============================] - 0s 4ms/step - loss: 13.4973 - rmse: 3.6246 - val_loss: 3.1207 - val_rmse: 1.7417\n",
      "Epoch 86/100\n",
      "128/128 [==============================] - 0s 3ms/step - loss: 12.4067 - rmse: 3.4875 - val_loss: 3.6648 - val_rmse: 1.8812\n",
      "Epoch 87/100\n",
      "128/128 [==============================] - 0s 4ms/step - loss: 12.7783 - rmse: 3.5272 - val_loss: 3.1207 - val_rmse: 1.7252\n",
      "Epoch 88/100\n",
      "128/128 [==============================] - 0s 3ms/step - loss: 11.7567 - rmse: 3.3905 - val_loss: 3.5963 - val_rmse: 1.8710\n",
      "Epoch 89/100\n",
      "128/128 [==============================] - 0s 4ms/step - loss: 12.0511 - rmse: 3.4363 - val_loss: 2.7347 - val_rmse: 1.6249\n",
      "Epoch 90/100\n",
      "128/128 [==============================] - 0s 3ms/step - loss: 12.3117 - rmse: 3.4751 - val_loss: 5.9245 - val_rmse: 2.4084\n",
      "Epoch 91/100\n",
      "128/128 [==============================] - 0s 4ms/step - loss: 12.9220 - rmse: 3.5497 - val_loss: 2.9696 - val_rmse: 1.7002\n",
      "Epoch 92/100\n",
      "128/128 [==============================] - 0s 4ms/step - loss: 12.7841 - rmse: 3.5256 - val_loss: 3.1874 - val_rmse: 1.7551\n",
      "Epoch 93/100\n",
      "128/128 [==============================] - 0s 4ms/step - loss: 12.5838 - rmse: 3.5071 - val_loss: 4.4048 - val_rmse: 2.0828\n",
      "Epoch 94/100\n",
      "128/128 [==============================] - 0s 4ms/step - loss: 12.5852 - rmse: 3.5019 - val_loss: 2.9815 - val_rmse: 1.6975\n",
      "Epoch 95/100\n",
      "128/128 [==============================] - 0s 4ms/step - loss: 11.7026 - rmse: 3.3801 - val_loss: 6.2108 - val_rmse: 2.4809\n",
      "Epoch 96/100\n",
      "128/128 [==============================] - 0s 3ms/step - loss: 12.5828 - rmse: 3.5002 - val_loss: 3.2969 - val_rmse: 1.7897\n",
      "Epoch 97/100\n",
      "128/128 [==============================] - 0s 4ms/step - loss: 11.4823 - rmse: 3.3491 - val_loss: 3.1267 - val_rmse: 1.7472\n",
      "Epoch 98/100\n",
      "128/128 [==============================] - 1s 11ms/step - loss: 12.4262 - rmse: 3.4814 - val_loss: 3.0823 - val_rmse: 1.7218\n",
      "Epoch 99/100\n",
      "128/128 [==============================] - 1s 9ms/step - loss: 12.6288 - rmse: 3.5044 - val_loss: 11.0709 - val_rmse: 3.3142\n",
      "Epoch 100/100\n",
      "128/128 [==============================] - 1s 5ms/step - loss: 12.2416 - rmse: 3.4397 - val_loss: 3.5052 - val_rmse: 1.8374\n"
     ]
    },
    {
     "data": {
      "image/png": "[encoded data removed]",
      "text/plain": [
       "<Figure size 640x480 with 1 Axes>"
      ]
     },
     "metadata": {},
     "output_type": "display_data"
    }
   ],
   "source": [
    "# Define a custom metric function for RMSE\n",
    "def rmse(y_true, y_pred):\n",
    "    return tf.sqrt(tf.reduce_mean(tf.square(y_pred - y_true)))\n",
    "\n",
    "# Define a function to create the model\n",
    "def create_model():\n",
    "# Step 2: Define the model\n",
    "    model = Sequential([\n",
    "        Dense(782, activation='relu', input_shape=(train.shape[1],)),  # Input layer with 782 neurons and ReLU activation\n",
    "        Dropout(0.314),  # Dropout rate of 0.314\n",
    "        Dense(501, activation='relu'),  # Hidden layer with 501 neurons and ReLU activation\n",
    "        Dropout(0.314),  # Dropout rate of 0.314\n",
    "        Dense(1, activation='linear')  # Output layer for numerical prediction\n",
    "    ])\n",
    "    model.compile(optimizer='adam', loss='mse', metrics=['mse'])  # Using MSE loss for regression and MSE as a metric\n",
    "    return model\n",
    "\n",
    "# Step 2: Define the model\n",
    "model = create_model()\n",
    "\n",
    "# Step 3: Compile the model\n",
    "model.compile(optimizer='adam', loss='mse', metrics=[rmse])  # Using MSE loss for regression and RMSE as a metric\n",
    "\n",
    "# Step 4: Train the model\n",
    "history = model.fit(train, train_labels, epochs=100, batch_size=32, validation_split=0.2)\n",
    "\n",
    "# Extract RMSE values from history\n",
    "train_rmse = history.history['rmse']\n",
    "val_rmse = history.history['val_rmse']\n",
    "epochs = range(1, len(train_rmse) + 1)\n",
    "\n",
    "# Plot RMSE for training and validation data\n",
    "plt.plot(epochs, train_rmse, 'b', label='Training RMSE')\n",
    "plt.plot(epochs, val_rmse, 'r', label='Validation RMSE')\n",
    "plt.title('Training and Validation RMSE')\n",
    "plt.xlabel('Epochs')\n",
    "plt.ylabel('RMSE')\n",
    "plt.legend()\n",
    "plt.show()"
   ]
  },
  {
   "cell_type": "code",
   "execution_count": 22,
   "metadata": {},
   "outputs": [
    {
     "name": "stdout",
     "output_type": "stream",
     "text": [
      "MSE scores: [2.7509329319000244, 2.384981155395508, 2.544145345687866, 2.6721346378326416, 4.616608142852783, 2.636866807937622, 2.7503583431243896, 2.9752986431121826, 2.0469448566436768, 4.259017467498779]\n",
      "Mean MSE: 2.963728833198547\n",
      "Root Mean Squared Error (RMSE): 1.7215483824739133\n"
     ]
    }
   ],
   "source": [
    "# Assuming train and train_labels are defined (e.g., train is a pandas DataFrame, train_labels is a pandas Series)\n",
    "# Perform k-fold cross-validation\n",
    "kfold = KFold(n_splits=10, shuffle=True, random_state=42)\n",
    "mse_scores = []\n",
    "for train_indices, val_indices in kfold.split(train):\n",
    "    X_train, X_val = train.iloc[train_indices], train.iloc[val_indices]\n",
    "    y_train, y_val = train_labels.iloc[train_indices], train_labels.iloc[val_indices]\n",
    "    model = create_model()\n",
    "    history = model.fit(X_train, y_train, epochs=100, batch_size=32, validation_data=(X_val, y_val), verbose=0)\n",
    "    # Evaluate the model on validation data\n",
    "    mse = model.evaluate(X_val, y_val, verbose=0)[0]\n",
    "    mse_scores.append(mse)\n",
    "\n",
    "# Display MSE scores\n",
    "print(\"MSE scores:\", mse_scores)\n",
    "print(\"Mean MSE:\", np.mean(mse_scores))\n",
    "print(\"Root Mean Squared Error (RMSE):\", np.sqrt(np.mean(mse_scores)))\n",
    "# test"
   ]
  },
  {
   "cell_type": "code",
   "execution_count": null,
   "metadata": {},
   "outputs": [],
   "source": []
  }
 ],
 "metadata": {
  "kernelspec": {
   "display_name": "base",
   "language": "python",
   "name": "python3"
  },
  "language_info": {
   "codemirror_mode": {
    "name": "ipython",
    "version": 3
   },
   "file_extension": ".py",
   "mimetype": "text/x-python",
   "name": "python",
   "nbconvert_exporter": "python",
   "pygments_lexer": "ipython3",
   "version": "3.11.5"
  }
 },
 "nbformat": 4,
 "nbformat_minor": 2
}
