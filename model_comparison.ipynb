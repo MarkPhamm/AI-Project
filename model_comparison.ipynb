{
 "cells": [
  {
   "cell_type": "code",
   "execution_count": 55,
   "metadata": {},
   "outputs": [],
   "source": [
    "import pandas as pd\n",
    "from sklearn.model_selection import train_test_split\n",
    "from sklearn.tree import DecisionTreeRegressor\n",
    "import matplotlib.pyplot as plt\n",
    "\n",
    "from sklearn.model_selection import cross_val_score\n",
    "from sklearn.model_selection import cross_val_score, KFold\n",
    "\n",
    "\n",
    "import tensorflow as tf\n",
    "from tensorflow.keras.models import Sequential\n",
    "from tensorflow.keras.layers import Dense\n",
    "from tensorflow.keras.layers import Dropout\n",
    "\n",
    "import numpy as np\n",
    "pd.set_option('display.max_columns', None)"
   ]
  },
  {
   "cell_type": "code",
   "execution_count": 56,
   "metadata": {},
   "outputs": [],
   "source": [
    "df = pd.read_csv(\"NFWBS_PUF_2016_data.csv\")"
   ]
  },
  {
   "cell_type": "code",
   "execution_count": 57,
   "metadata": {},
   "outputs": [],
   "source": [
    "def filter_columns(df, include_strings):\n",
    "    \"\"\"\n",
    "    Filter DataFrame columns containing any of the strings in include_strings.\n",
    "    \n",
    "    Args:\n",
    "    df (pandas.DataFrame): Input DataFrame.\n",
    "    include_strings (list): List of strings that need to be included in the column names.\n",
    "    \n",
    "    Returns:\n",
    "    pandas.DataFrame: Filtered DataFrame.\n",
    "    \"\"\"\n",
    "    filtered_columns = []\n",
    "    for col in df.columns:\n",
    "        if any(include_string in col.lower() for include_string in include_strings):\n",
    "            filtered_columns.append(col)\n",
    "    return df[filtered_columns]"
   ]
  },
  {
   "cell_type": "code",
   "execution_count": 58,
   "metadata": {},
   "outputs": [],
   "source": [
    "df = filter_columns(df, include_strings=['fwb'])"
   ]
  },
  {
   "cell_type": "code",
   "execution_count": 59,
   "metadata": {},
   "outputs": [],
   "source": [
    "def rename_columns(df):\n",
    "   # convert form camel case to snake case\n",
    "   df.columns = (df.columns\n",
    "                  .str.replace('(?<=[a-z])(?=[A-Z])', '_', regex=True)\n",
    "                  .str.lower()\n",
    "               )\n",
    "   # convert \" \" to _\n",
    "   df.columns = df.columns.str.replace(' ', '_')\n",
    "   return df"
   ]
  },
  {
   "cell_type": "code",
   "execution_count": 60,
   "metadata": {},
   "outputs": [],
   "source": [
    "def drop_negative_values(df):\n",
    "    \"\"\"\n",
    "    Drop all values in the DataFrame that are less than 0.\n",
    "\n",
    "    Parameters:\n",
    "        df (pandas.DataFrame): Input DataFrame.\n",
    "\n",
    "    Returns:\n",
    "        pandas.DataFrame: DataFrame with negative values dropped.\n",
    "    \"\"\"\n",
    "    df_without_null = df[df >= 0]\n",
    "    print(len(df)-len(df_without_null.dropna()))\n",
    "    return df_without_null.dropna()"
   ]
  },
  {
   "cell_type": "code",
   "execution_count": 61,
   "metadata": {},
   "outputs": [
    {
     "name": "stdout",
     "output_type": "stream",
     "text": [
      "19\n"
     ]
    }
   ],
   "source": [
    "df = drop_negative_values(df)"
   ]
  },
  {
   "cell_type": "code",
   "execution_count": 62,
   "metadata": {},
   "outputs": [],
   "source": [
    "target_column = [col for col in df.columns if 'score' in col.lower()]\n",
    "train_set, test_set = train_test_split(df, test_size=0.2, random_state=42)\n",
    "\n",
    "train = train_set.drop(columns=target_column, errors='ignore')\n",
    "train_labels = train_set[target_column]\n",
    "\n",
    "test = test_set.drop(columns=target_column, errors='ignore')\n",
    "test_labels = test_set[target_column]"
   ]
  },
  {
   "cell_type": "markdown",
   "metadata": {},
   "source": [
    "# Model 1: Linear Reg"
   ]
  },
  {
   "cell_type": "code",
   "execution_count": 63,
   "metadata": {},
   "outputs": [
    {
     "data": {
      "text/html": [
       "<style>#sk-container-id-10 {color: black;}#sk-container-id-10 pre{padding: 0;}#sk-container-id-10 div.sk-toggleable {background-color: white;}#sk-container-id-10 label.sk-toggleable__label {cursor: pointer;display: block;width: 100%;margin-bottom: 0;padding: 0.3em;box-sizing: border-box;text-align: center;}#sk-container-id-10 label.sk-toggleable__label-arrow:before {content: \"▸\";float: left;margin-right: 0.25em;color: #696969;}#sk-container-id-10 label.sk-toggleable__label-arrow:hover:before {color: black;}#sk-container-id-10 div.sk-estimator:hover label.sk-toggleable__label-arrow:before {color: black;}#sk-container-id-10 div.sk-toggleable__content {max-height: 0;max-width: 0;overflow: hidden;text-align: left;background-color: #f0f8ff;}#sk-container-id-10 div.sk-toggleable__content pre {margin: 0.2em;color: black;border-radius: 0.25em;background-color: #f0f8ff;}#sk-container-id-10 input.sk-toggleable__control:checked~div.sk-toggleable__content {max-height: 200px;max-width: 100%;overflow: auto;}#sk-container-id-10 input.sk-toggleable__control:checked~label.sk-toggleable__label-arrow:before {content: \"▾\";}#sk-container-id-10 div.sk-estimator input.sk-toggleable__control:checked~label.sk-toggleable__label {background-color: #d4ebff;}#sk-container-id-10 div.sk-label input.sk-toggleable__control:checked~label.sk-toggleable__label {background-color: #d4ebff;}#sk-container-id-10 input.sk-hidden--visually {border: 0;clip: rect(1px 1px 1px 1px);clip: rect(1px, 1px, 1px, 1px);height: 1px;margin: -1px;overflow: hidden;padding: 0;position: absolute;width: 1px;}#sk-container-id-10 div.sk-estimator {font-family: monospace;background-color: #f0f8ff;border: 1px dotted black;border-radius: 0.25em;box-sizing: border-box;margin-bottom: 0.5em;}#sk-container-id-10 div.sk-estimator:hover {background-color: #d4ebff;}#sk-container-id-10 div.sk-parallel-item::after {content: \"\";width: 100%;border-bottom: 1px solid gray;flex-grow: 1;}#sk-container-id-10 div.sk-label:hover label.sk-toggleable__label {background-color: #d4ebff;}#sk-container-id-10 div.sk-serial::before {content: \"\";position: absolute;border-left: 1px solid gray;box-sizing: border-box;top: 0;bottom: 0;left: 50%;z-index: 0;}#sk-container-id-10 div.sk-serial {display: flex;flex-direction: column;align-items: center;background-color: white;padding-right: 0.2em;padding-left: 0.2em;position: relative;}#sk-container-id-10 div.sk-item {position: relative;z-index: 1;}#sk-container-id-10 div.sk-parallel {display: flex;align-items: stretch;justify-content: center;background-color: white;position: relative;}#sk-container-id-10 div.sk-item::before, #sk-container-id-10 div.sk-parallel-item::before {content: \"\";position: absolute;border-left: 1px solid gray;box-sizing: border-box;top: 0;bottom: 0;left: 50%;z-index: -1;}#sk-container-id-10 div.sk-parallel-item {display: flex;flex-direction: column;z-index: 1;position: relative;background-color: white;}#sk-container-id-10 div.sk-parallel-item:first-child::after {align-self: flex-end;width: 50%;}#sk-container-id-10 div.sk-parallel-item:last-child::after {align-self: flex-start;width: 50%;}#sk-container-id-10 div.sk-parallel-item:only-child::after {width: 0;}#sk-container-id-10 div.sk-dashed-wrapped {border: 1px dashed gray;margin: 0 0.4em 0.5em 0.4em;box-sizing: border-box;padding-bottom: 0.4em;background-color: white;}#sk-container-id-10 div.sk-label label {font-family: monospace;font-weight: bold;display: inline-block;line-height: 1.2em;}#sk-container-id-10 div.sk-label-container {text-align: center;}#sk-container-id-10 div.sk-container {/* jupyter's `normalize.less` sets `[hidden] { display: none; }` but bootstrap.min.css set `[hidden] { display: none !important; }` so we also need the `!important` here to be able to override the default hidden behavior on the sphinx rendered scikit-learn.org. See: https://github.com/scikit-learn/scikit-learn/issues/21755 */display: inline-block !important;position: relative;}#sk-container-id-10 div.sk-text-repr-fallback {display: none;}</style><div id=\"sk-container-id-10\" class=\"sk-top-container\"><div class=\"sk-text-repr-fallback\"><pre>LinearRegression()</pre><b>In a Jupyter environment, please rerun this cell to show the HTML representation or trust the notebook. <br />On GitHub, the HTML representation is unable to render, please try loading this page with nbviewer.org.</b></div><div class=\"sk-container\" hidden><div class=\"sk-item\"><div class=\"sk-estimator sk-toggleable\"><input class=\"sk-toggleable__control sk-hidden--visually\" id=\"sk-estimator-id-10\" type=\"checkbox\" checked><label for=\"sk-estimator-id-10\" class=\"sk-toggleable__label sk-toggleable__label-arrow\">LinearRegression</label><div class=\"sk-toggleable__content\"><pre>LinearRegression()</pre></div></div></div></div></div>"
      ],
      "text/plain": [
       "LinearRegression()"
      ]
     },
     "execution_count": 63,
     "metadata": {},
     "output_type": "execute_result"
    }
   ],
   "source": [
    "from sklearn.linear_model import LinearRegression\n",
    "lin_reg = LinearRegression()\n",
    "lin_reg.fit(train, train_labels)"
   ]
  },
  {
   "cell_type": "code",
   "execution_count": 64,
   "metadata": {},
   "outputs": [
    {
     "data": {
      "text/plain": [
       "2.8321200176317736"
      ]
     },
     "execution_count": 64,
     "metadata": {},
     "output_type": "execute_result"
    }
   ],
   "source": [
    "from sklearn.metrics import mean_squared_error\n",
    "predictions = lin_reg.predict(train)\n",
    "lin_mse = mean_squared_error(np.array(train_labels), predictions)\n",
    "lin_rmse = np.sqrt(lin_mse)\n",
    "lin_rmse"
   ]
  },
  {
   "cell_type": "code",
   "execution_count": 65,
   "metadata": {},
   "outputs": [],
   "source": [
    "scores = cross_val_score(lin_reg, train, train_labels, scoring=\"neg_mean_squared_error\", cv=10)\n",
    "lin_rmse_scores = np.sqrt(-scores)"
   ]
  },
  {
   "cell_type": "code",
   "execution_count": 66,
   "metadata": {},
   "outputs": [
    {
     "name": "stdout",
     "output_type": "stream",
     "text": [
      "Scores: [2.7591169  2.81719053 2.69408479 2.89161287 3.11142801 2.85048284\n",
      " 2.66795585 2.72331682 2.66914356 3.14585575]\n",
      "Mean: 2.8330187934266045\n",
      "Standard deviation: 0.16439798926184856\n"
     ]
    }
   ],
   "source": [
    "def display_scores(scores):\n",
    "    print(\"Scores:\", scores)\n",
    "    print(\"Mean:\", scores.mean())\n",
    "    print(\"Standard deviation:\", scores.std())\n",
    "display_scores(lin_rmse_scores)"
   ]
  },
  {
   "cell_type": "markdown",
   "metadata": {},
   "source": [
    "# 2. Decision Tree Regressor"
   ]
  },
  {
   "cell_type": "code",
   "execution_count": 67,
   "metadata": {},
   "outputs": [
    {
     "data": {
      "text/html": [
       "<style>#sk-container-id-11 {color: black;}#sk-container-id-11 pre{padding: 0;}#sk-container-id-11 div.sk-toggleable {background-color: white;}#sk-container-id-11 label.sk-toggleable__label {cursor: pointer;display: block;width: 100%;margin-bottom: 0;padding: 0.3em;box-sizing: border-box;text-align: center;}#sk-container-id-11 label.sk-toggleable__label-arrow:before {content: \"▸\";float: left;margin-right: 0.25em;color: #696969;}#sk-container-id-11 label.sk-toggleable__label-arrow:hover:before {color: black;}#sk-container-id-11 div.sk-estimator:hover label.sk-toggleable__label-arrow:before {color: black;}#sk-container-id-11 div.sk-toggleable__content {max-height: 0;max-width: 0;overflow: hidden;text-align: left;background-color: #f0f8ff;}#sk-container-id-11 div.sk-toggleable__content pre {margin: 0.2em;color: black;border-radius: 0.25em;background-color: #f0f8ff;}#sk-container-id-11 input.sk-toggleable__control:checked~div.sk-toggleable__content {max-height: 200px;max-width: 100%;overflow: auto;}#sk-container-id-11 input.sk-toggleable__control:checked~label.sk-toggleable__label-arrow:before {content: \"▾\";}#sk-container-id-11 div.sk-estimator input.sk-toggleable__control:checked~label.sk-toggleable__label {background-color: #d4ebff;}#sk-container-id-11 div.sk-label input.sk-toggleable__control:checked~label.sk-toggleable__label {background-color: #d4ebff;}#sk-container-id-11 input.sk-hidden--visually {border: 0;clip: rect(1px 1px 1px 1px);clip: rect(1px, 1px, 1px, 1px);height: 1px;margin: -1px;overflow: hidden;padding: 0;position: absolute;width: 1px;}#sk-container-id-11 div.sk-estimator {font-family: monospace;background-color: #f0f8ff;border: 1px dotted black;border-radius: 0.25em;box-sizing: border-box;margin-bottom: 0.5em;}#sk-container-id-11 div.sk-estimator:hover {background-color: #d4ebff;}#sk-container-id-11 div.sk-parallel-item::after {content: \"\";width: 100%;border-bottom: 1px solid gray;flex-grow: 1;}#sk-container-id-11 div.sk-label:hover label.sk-toggleable__label {background-color: #d4ebff;}#sk-container-id-11 div.sk-serial::before {content: \"\";position: absolute;border-left: 1px solid gray;box-sizing: border-box;top: 0;bottom: 0;left: 50%;z-index: 0;}#sk-container-id-11 div.sk-serial {display: flex;flex-direction: column;align-items: center;background-color: white;padding-right: 0.2em;padding-left: 0.2em;position: relative;}#sk-container-id-11 div.sk-item {position: relative;z-index: 1;}#sk-container-id-11 div.sk-parallel {display: flex;align-items: stretch;justify-content: center;background-color: white;position: relative;}#sk-container-id-11 div.sk-item::before, #sk-container-id-11 div.sk-parallel-item::before {content: \"\";position: absolute;border-left: 1px solid gray;box-sizing: border-box;top: 0;bottom: 0;left: 50%;z-index: -1;}#sk-container-id-11 div.sk-parallel-item {display: flex;flex-direction: column;z-index: 1;position: relative;background-color: white;}#sk-container-id-11 div.sk-parallel-item:first-child::after {align-self: flex-end;width: 50%;}#sk-container-id-11 div.sk-parallel-item:last-child::after {align-self: flex-start;width: 50%;}#sk-container-id-11 div.sk-parallel-item:only-child::after {width: 0;}#sk-container-id-11 div.sk-dashed-wrapped {border: 1px dashed gray;margin: 0 0.4em 0.5em 0.4em;box-sizing: border-box;padding-bottom: 0.4em;background-color: white;}#sk-container-id-11 div.sk-label label {font-family: monospace;font-weight: bold;display: inline-block;line-height: 1.2em;}#sk-container-id-11 div.sk-label-container {text-align: center;}#sk-container-id-11 div.sk-container {/* jupyter's `normalize.less` sets `[hidden] { display: none; }` but bootstrap.min.css set `[hidden] { display: none !important; }` so we also need the `!important` here to be able to override the default hidden behavior on the sphinx rendered scikit-learn.org. See: https://github.com/scikit-learn/scikit-learn/issues/21755 */display: inline-block !important;position: relative;}#sk-container-id-11 div.sk-text-repr-fallback {display: none;}</style><div id=\"sk-container-id-11\" class=\"sk-top-container\"><div class=\"sk-text-repr-fallback\"><pre>DecisionTreeRegressor()</pre><b>In a Jupyter environment, please rerun this cell to show the HTML representation or trust the notebook. <br />On GitHub, the HTML representation is unable to render, please try loading this page with nbviewer.org.</b></div><div class=\"sk-container\" hidden><div class=\"sk-item\"><div class=\"sk-estimator sk-toggleable\"><input class=\"sk-toggleable__control sk-hidden--visually\" id=\"sk-estimator-id-11\" type=\"checkbox\" checked><label for=\"sk-estimator-id-11\" class=\"sk-toggleable__label sk-toggleable__label-arrow\">DecisionTreeRegressor</label><div class=\"sk-toggleable__content\"><pre>DecisionTreeRegressor()</pre></div></div></div></div></div>"
      ],
      "text/plain": [
       "DecisionTreeRegressor()"
      ]
     },
     "execution_count": 67,
     "metadata": {},
     "output_type": "execute_result"
    }
   ],
   "source": [
    "from sklearn.tree import DecisionTreeRegressor\n",
    "tree_reg = DecisionTreeRegressor()\n",
    "tree_reg.fit(train, train_labels)"
   ]
  },
  {
   "cell_type": "code",
   "execution_count": 68,
   "metadata": {},
   "outputs": [
    {
     "data": {
      "text/plain": [
       "0.8129826302133111"
      ]
     },
     "execution_count": 68,
     "metadata": {},
     "output_type": "execute_result"
    }
   ],
   "source": [
    "predictions = tree_reg.predict(train)\n",
    "tree_mse = mean_squared_error(train_labels, predictions)\n",
    "tree_rmse = np.sqrt(tree_mse)\n",
    "tree_rmse"
   ]
  },
  {
   "cell_type": "code",
   "execution_count": 69,
   "metadata": {},
   "outputs": [],
   "source": [
    "scores = cross_val_score(tree_reg, train, train_labels, scoring=\"neg_mean_squared_error\", cv=10)\n",
    "tree_rmse_scores = np.sqrt(-scores)"
   ]
  },
  {
   "cell_type": "code",
   "execution_count": 70,
   "metadata": {},
   "outputs": [
    {
     "name": "stdout",
     "output_type": "stream",
     "text": [
      "Scores: [2.35074023 2.50890898 2.35653031 2.5849376  2.5173827  2.53039575\n",
      " 2.31741385 2.62892892 2.6660886  2.57488276]\n",
      "Mean: 2.5036209693231513\n",
      "Standard deviation: 0.11593272423774142\n"
     ]
    }
   ],
   "source": [
    "def display_scores(scores):\n",
    "    print(\"Scores:\", scores)\n",
    "    print(\"Mean:\", scores.mean())\n",
    "    print(\"Standard deviation:\", scores.std())\n",
    "display_scores(tree_rmse_scores)"
   ]
  },
  {
   "cell_type": "markdown",
   "metadata": {},
   "source": [
    "# 3.Random Forest Regressor"
   ]
  },
  {
   "cell_type": "code",
   "execution_count": 71,
   "metadata": {},
   "outputs": [
    {
     "name": "stderr",
     "output_type": "stream",
     "text": [
      "c:\\Users\\hamin\\anaconda3\\Lib\\site-packages\\sklearn\\base.py:1152: DataConversionWarning: A column-vector y was passed when a 1d array was expected. Please change the shape of y to (n_samples,), for example using ravel().\n",
      "  return fit_method(estimator, *args, **kwargs)\n"
     ]
    },
    {
     "data": {
      "text/html": [
       "<style>#sk-container-id-12 {color: black;}#sk-container-id-12 pre{padding: 0;}#sk-container-id-12 div.sk-toggleable {background-color: white;}#sk-container-id-12 label.sk-toggleable__label {cursor: pointer;display: block;width: 100%;margin-bottom: 0;padding: 0.3em;box-sizing: border-box;text-align: center;}#sk-container-id-12 label.sk-toggleable__label-arrow:before {content: \"▸\";float: left;margin-right: 0.25em;color: #696969;}#sk-container-id-12 label.sk-toggleable__label-arrow:hover:before {color: black;}#sk-container-id-12 div.sk-estimator:hover label.sk-toggleable__label-arrow:before {color: black;}#sk-container-id-12 div.sk-toggleable__content {max-height: 0;max-width: 0;overflow: hidden;text-align: left;background-color: #f0f8ff;}#sk-container-id-12 div.sk-toggleable__content pre {margin: 0.2em;color: black;border-radius: 0.25em;background-color: #f0f8ff;}#sk-container-id-12 input.sk-toggleable__control:checked~div.sk-toggleable__content {max-height: 200px;max-width: 100%;overflow: auto;}#sk-container-id-12 input.sk-toggleable__control:checked~label.sk-toggleable__label-arrow:before {content: \"▾\";}#sk-container-id-12 div.sk-estimator input.sk-toggleable__control:checked~label.sk-toggleable__label {background-color: #d4ebff;}#sk-container-id-12 div.sk-label input.sk-toggleable__control:checked~label.sk-toggleable__label {background-color: #d4ebff;}#sk-container-id-12 input.sk-hidden--visually {border: 0;clip: rect(1px 1px 1px 1px);clip: rect(1px, 1px, 1px, 1px);height: 1px;margin: -1px;overflow: hidden;padding: 0;position: absolute;width: 1px;}#sk-container-id-12 div.sk-estimator {font-family: monospace;background-color: #f0f8ff;border: 1px dotted black;border-radius: 0.25em;box-sizing: border-box;margin-bottom: 0.5em;}#sk-container-id-12 div.sk-estimator:hover {background-color: #d4ebff;}#sk-container-id-12 div.sk-parallel-item::after {content: \"\";width: 100%;border-bottom: 1px solid gray;flex-grow: 1;}#sk-container-id-12 div.sk-label:hover label.sk-toggleable__label {background-color: #d4ebff;}#sk-container-id-12 div.sk-serial::before {content: \"\";position: absolute;border-left: 1px solid gray;box-sizing: border-box;top: 0;bottom: 0;left: 50%;z-index: 0;}#sk-container-id-12 div.sk-serial {display: flex;flex-direction: column;align-items: center;background-color: white;padding-right: 0.2em;padding-left: 0.2em;position: relative;}#sk-container-id-12 div.sk-item {position: relative;z-index: 1;}#sk-container-id-12 div.sk-parallel {display: flex;align-items: stretch;justify-content: center;background-color: white;position: relative;}#sk-container-id-12 div.sk-item::before, #sk-container-id-12 div.sk-parallel-item::before {content: \"\";position: absolute;border-left: 1px solid gray;box-sizing: border-box;top: 0;bottom: 0;left: 50%;z-index: -1;}#sk-container-id-12 div.sk-parallel-item {display: flex;flex-direction: column;z-index: 1;position: relative;background-color: white;}#sk-container-id-12 div.sk-parallel-item:first-child::after {align-self: flex-end;width: 50%;}#sk-container-id-12 div.sk-parallel-item:last-child::after {align-self: flex-start;width: 50%;}#sk-container-id-12 div.sk-parallel-item:only-child::after {width: 0;}#sk-container-id-12 div.sk-dashed-wrapped {border: 1px dashed gray;margin: 0 0.4em 0.5em 0.4em;box-sizing: border-box;padding-bottom: 0.4em;background-color: white;}#sk-container-id-12 div.sk-label label {font-family: monospace;font-weight: bold;display: inline-block;line-height: 1.2em;}#sk-container-id-12 div.sk-label-container {text-align: center;}#sk-container-id-12 div.sk-container {/* jupyter's `normalize.less` sets `[hidden] { display: none; }` but bootstrap.min.css set `[hidden] { display: none !important; }` so we also need the `!important` here to be able to override the default hidden behavior on the sphinx rendered scikit-learn.org. See: https://github.com/scikit-learn/scikit-learn/issues/21755 */display: inline-block !important;position: relative;}#sk-container-id-12 div.sk-text-repr-fallback {display: none;}</style><div id=\"sk-container-id-12\" class=\"sk-top-container\"><div class=\"sk-text-repr-fallback\"><pre>RandomForestRegressor()</pre><b>In a Jupyter environment, please rerun this cell to show the HTML representation or trust the notebook. <br />On GitHub, the HTML representation is unable to render, please try loading this page with nbviewer.org.</b></div><div class=\"sk-container\" hidden><div class=\"sk-item\"><div class=\"sk-estimator sk-toggleable\"><input class=\"sk-toggleable__control sk-hidden--visually\" id=\"sk-estimator-id-12\" type=\"checkbox\" checked><label for=\"sk-estimator-id-12\" class=\"sk-toggleable__label sk-toggleable__label-arrow\">RandomForestRegressor</label><div class=\"sk-toggleable__content\"><pre>RandomForestRegressor()</pre></div></div></div></div></div>"
      ],
      "text/plain": [
       "RandomForestRegressor()"
      ]
     },
     "execution_count": 71,
     "metadata": {},
     "output_type": "execute_result"
    }
   ],
   "source": [
    "from sklearn.ensemble import RandomForestRegressor\n",
    "forest_reg = RandomForestRegressor()\n",
    "forest_reg.fit(train, train_labels)"
   ]
  },
  {
   "cell_type": "code",
   "execution_count": 72,
   "metadata": {},
   "outputs": [
    {
     "name": "stdout",
     "output_type": "stream",
     "text": [
      "0.9914648345284329\n"
     ]
    }
   ],
   "source": [
    "predictions = forest_reg.predict(train)\n",
    "forest_mse = mean_squared_error(train_labels, predictions)\n",
    "forest_rmse = np.sqrt(forest_mse)\n",
    "print(forest_rmse)"
   ]
  },
  {
   "cell_type": "code",
   "execution_count": 73,
   "metadata": {},
   "outputs": [
    {
     "name": "stderr",
     "output_type": "stream",
     "text": [
      "c:\\Users\\hamin\\anaconda3\\Lib\\site-packages\\sklearn\\base.py:1152: DataConversionWarning: A column-vector y was passed when a 1d array was expected. Please change the shape of y to (n_samples,), for example using ravel().\n",
      "  return fit_method(estimator, *args, **kwargs)\n",
      "c:\\Users\\hamin\\anaconda3\\Lib\\site-packages\\sklearn\\base.py:1152: DataConversionWarning: A column-vector y was passed when a 1d array was expected. Please change the shape of y to (n_samples,), for example using ravel().\n",
      "  return fit_method(estimator, *args, **kwargs)\n",
      "c:\\Users\\hamin\\anaconda3\\Lib\\site-packages\\sklearn\\base.py:1152: DataConversionWarning: A column-vector y was passed when a 1d array was expected. Please change the shape of y to (n_samples,), for example using ravel().\n",
      "  return fit_method(estimator, *args, **kwargs)\n",
      "c:\\Users\\hamin\\anaconda3\\Lib\\site-packages\\sklearn\\base.py:1152: DataConversionWarning: A column-vector y was passed when a 1d array was expected. Please change the shape of y to (n_samples,), for example using ravel().\n",
      "  return fit_method(estimator, *args, **kwargs)\n",
      "c:\\Users\\hamin\\anaconda3\\Lib\\site-packages\\sklearn\\base.py:1152: DataConversionWarning: A column-vector y was passed when a 1d array was expected. Please change the shape of y to (n_samples,), for example using ravel().\n",
      "  return fit_method(estimator, *args, **kwargs)\n",
      "c:\\Users\\hamin\\anaconda3\\Lib\\site-packages\\sklearn\\base.py:1152: DataConversionWarning: A column-vector y was passed when a 1d array was expected. Please change the shape of y to (n_samples,), for example using ravel().\n",
      "  return fit_method(estimator, *args, **kwargs)\n",
      "c:\\Users\\hamin\\anaconda3\\Lib\\site-packages\\sklearn\\base.py:1152: DataConversionWarning: A column-vector y was passed when a 1d array was expected. Please change the shape of y to (n_samples,), for example using ravel().\n",
      "  return fit_method(estimator, *args, **kwargs)\n",
      "c:\\Users\\hamin\\anaconda3\\Lib\\site-packages\\sklearn\\base.py:1152: DataConversionWarning: A column-vector y was passed when a 1d array was expected. Please change the shape of y to (n_samples,), for example using ravel().\n",
      "  return fit_method(estimator, *args, **kwargs)\n",
      "c:\\Users\\hamin\\anaconda3\\Lib\\site-packages\\sklearn\\base.py:1152: DataConversionWarning: A column-vector y was passed when a 1d array was expected. Please change the shape of y to (n_samples,), for example using ravel().\n",
      "  return fit_method(estimator, *args, **kwargs)\n",
      "c:\\Users\\hamin\\anaconda3\\Lib\\site-packages\\sklearn\\base.py:1152: DataConversionWarning: A column-vector y was passed when a 1d array was expected. Please change the shape of y to (n_samples,), for example using ravel().\n",
      "  return fit_method(estimator, *args, **kwargs)\n"
     ]
    }
   ],
   "source": [
    "scores = cross_val_score(forest_reg, train, train_labels, scoring=\"neg_mean_squared_error\", cv=10)\n",
    "forest_rmse_scores = np.sqrt(-scores)"
   ]
  },
  {
   "cell_type": "code",
   "execution_count": 74,
   "metadata": {},
   "outputs": [
    {
     "name": "stdout",
     "output_type": "stream",
     "text": [
      "Scores: [1.64759661 1.69546997 1.76432907 1.63864722 1.9171688  1.75663424\n",
      " 1.64314586 1.70883306 2.08175537 1.97880415]\n",
      "Mean: 1.783238434394984\n",
      "Standard deviation: 0.14782818184551433\n"
     ]
    }
   ],
   "source": [
    "def display_scores(scores):\n",
    "    print(\"Scores:\", scores)\n",
    "    print(\"Mean:\", scores.mean())\n",
    "    print(\"Standard deviation:\", scores.std())\n",
    "display_scores(forest_rmse_scores)"
   ]
  },
  {
   "cell_type": "markdown",
   "metadata": {},
   "source": [
    "# 4. ANN Models"
   ]
  },
  {
   "cell_type": "code",
   "execution_count": 75,
   "metadata": {},
   "outputs": [
    {
     "name": "stdout",
     "output_type": "stream",
     "text": [
      "Epoch 1/100\n",
      "128/128 [==============================] - 4s 14ms/step - loss: 306.6294 - rmse: 14.2000 - val_loss: 76.9745 - val_rmse: 8.5817\n",
      "Epoch 2/100\n",
      "128/128 [==============================] - 2s 17ms/step - loss: 90.8005 - rmse: 9.3887 - val_loss: 66.8812 - val_rmse: 8.0067\n",
      "Epoch 3/100\n",
      "128/128 [==============================] - 1s 10ms/step - loss: 80.6573 - rmse: 8.8183 - val_loss: 53.9821 - val_rmse: 7.2062\n",
      "Epoch 4/100\n",
      "128/128 [==============================] - 1s 5ms/step - loss: 61.6996 - rmse: 7.7398 - val_loss: 37.9480 - val_rmse: 6.0552\n",
      "Epoch 5/100\n",
      "128/128 [==============================] - 1s 5ms/step - loss: 45.3728 - rmse: 6.6331 - val_loss: 26.7461 - val_rmse: 5.1007\n",
      "Epoch 6/100\n",
      "128/128 [==============================] - 1s 5ms/step - loss: 32.9728 - rmse: 5.6863 - val_loss: 13.2194 - val_rmse: 3.5833\n",
      "Epoch 7/100\n",
      "128/128 [==============================] - 1s 5ms/step - loss: 27.4481 - rmse: 5.1654 - val_loss: 10.2969 - val_rmse: 3.1776\n",
      "Epoch 8/100\n",
      "128/128 [==============================] - 1s 5ms/step - loss: 24.7392 - rmse: 4.9115 - val_loss: 6.9605 - val_rmse: 2.6092\n",
      "Epoch 9/100\n",
      "128/128 [==============================] - 1s 5ms/step - loss: 22.0016 - rmse: 4.6392 - val_loss: 7.1640 - val_rmse: 2.6538\n",
      "Epoch 10/100\n",
      "128/128 [==============================] - 1s 6ms/step - loss: 20.0224 - rmse: 4.4248 - val_loss: 5.3177 - val_rmse: 2.2737\n",
      "Epoch 11/100\n",
      "128/128 [==============================] - 1s 5ms/step - loss: 17.9229 - rmse: 4.1949 - val_loss: 22.8898 - val_rmse: 4.7662\n",
      "Epoch 12/100\n",
      "128/128 [==============================] - 1s 5ms/step - loss: 19.3830 - rmse: 4.3539 - val_loss: 4.4127 - val_rmse: 2.0615\n",
      "Epoch 13/100\n",
      "128/128 [==============================] - 1s 6ms/step - loss: 17.0232 - rmse: 4.0842 - val_loss: 6.8531 - val_rmse: 2.5979\n",
      "Epoch 14/100\n",
      "128/128 [==============================] - 1s 5ms/step - loss: 17.4870 - rmse: 4.1331 - val_loss: 3.9710 - val_rmse: 1.9412\n",
      "Epoch 15/100\n",
      "128/128 [==============================] - 1s 5ms/step - loss: 17.7840 - rmse: 4.1472 - val_loss: 9.3176 - val_rmse: 3.0286\n",
      "Epoch 16/100\n",
      "128/128 [==============================] - 1s 5ms/step - loss: 18.4919 - rmse: 4.2378 - val_loss: 7.9257 - val_rmse: 2.7896\n",
      "Epoch 17/100\n",
      "128/128 [==============================] - 1s 5ms/step - loss: 16.7313 - rmse: 4.0490 - val_loss: 3.4650 - val_rmse: 1.8194\n",
      "Epoch 18/100\n",
      "128/128 [==============================] - 1s 4ms/step - loss: 17.3801 - rmse: 4.1243 - val_loss: 9.1227 - val_rmse: 3.0023\n",
      "Epoch 19/100\n",
      "128/128 [==============================] - 1s 6ms/step - loss: 17.4416 - rmse: 4.1368 - val_loss: 3.7449 - val_rmse: 1.8966\n",
      "Epoch 20/100\n",
      "128/128 [==============================] - 1s 5ms/step - loss: 15.2413 - rmse: 3.8684 - val_loss: 3.8464 - val_rmse: 1.9342\n",
      "Epoch 21/100\n",
      "128/128 [==============================] - 1s 5ms/step - loss: 15.5329 - rmse: 3.8976 - val_loss: 7.2857 - val_rmse: 2.6780\n",
      "Epoch 22/100\n",
      "128/128 [==============================] - 0s 4ms/step - loss: 15.3459 - rmse: 3.8740 - val_loss: 7.0517 - val_rmse: 2.6301\n",
      "Epoch 23/100\n",
      "128/128 [==============================] - 1s 4ms/step - loss: 16.1373 - rmse: 3.9700 - val_loss: 8.0234 - val_rmse: 2.8112\n",
      "Epoch 24/100\n",
      "128/128 [==============================] - 1s 6ms/step - loss: 15.1484 - rmse: 3.8500 - val_loss: 5.7668 - val_rmse: 2.3679\n",
      "Epoch 25/100\n",
      "128/128 [==============================] - 1s 5ms/step - loss: 15.1166 - rmse: 3.8531 - val_loss: 4.9471 - val_rmse: 2.2012\n",
      "Epoch 26/100\n",
      "128/128 [==============================] - 1s 4ms/step - loss: 15.1112 - rmse: 3.8485 - val_loss: 4.7727 - val_rmse: 2.1562\n",
      "Epoch 27/100\n",
      "128/128 [==============================] - 1s 4ms/step - loss: 17.2106 - rmse: 4.1032 - val_loss: 5.4180 - val_rmse: 2.2954\n",
      "Epoch 28/100\n",
      "128/128 [==============================] - 1s 5ms/step - loss: 14.5396 - rmse: 3.7720 - val_loss: 5.3993 - val_rmse: 2.3017\n",
      "Epoch 29/100\n",
      "128/128 [==============================] - 1s 4ms/step - loss: 14.9631 - rmse: 3.8213 - val_loss: 3.1469 - val_rmse: 1.7349\n",
      "Epoch 30/100\n",
      "128/128 [==============================] - 1s 4ms/step - loss: 14.9610 - rmse: 3.8332 - val_loss: 3.5530 - val_rmse: 1.8385\n",
      "Epoch 31/100\n",
      "128/128 [==============================] - 1s 5ms/step - loss: 14.8245 - rmse: 3.8041 - val_loss: 3.7616 - val_rmse: 1.9092\n",
      "Epoch 32/100\n",
      "128/128 [==============================] - 1s 5ms/step - loss: 14.3904 - rmse: 3.7611 - val_loss: 6.5285 - val_rmse: 2.5386\n",
      "Epoch 33/100\n",
      "128/128 [==============================] - 1s 5ms/step - loss: 15.9247 - rmse: 3.9402 - val_loss: 5.1848 - val_rmse: 2.2581\n",
      "Epoch 34/100\n",
      "128/128 [==============================] - 1s 5ms/step - loss: 13.6757 - rmse: 3.6609 - val_loss: 3.7324 - val_rmse: 1.8840\n",
      "Epoch 35/100\n",
      "128/128 [==============================] - 1s 5ms/step - loss: 14.1651 - rmse: 3.7230 - val_loss: 6.3337 - val_rmse: 2.5076\n",
      "Epoch 36/100\n",
      "128/128 [==============================] - 1s 4ms/step - loss: 14.7553 - rmse: 3.8055 - val_loss: 2.8412 - val_rmse: 1.6555\n",
      "Epoch 37/100\n",
      "128/128 [==============================] - 1s 4ms/step - loss: 14.3488 - rmse: 3.7515 - val_loss: 3.4658 - val_rmse: 1.8354\n",
      "Epoch 38/100\n",
      "128/128 [==============================] - 1s 5ms/step - loss: 13.9769 - rmse: 3.7110 - val_loss: 3.1111 - val_rmse: 1.7352\n",
      "Epoch 39/100\n",
      "128/128 [==============================] - 1s 5ms/step - loss: 14.7002 - rmse: 3.7842 - val_loss: 3.0214 - val_rmse: 1.7074\n",
      "Epoch 40/100\n",
      "128/128 [==============================] - 1s 6ms/step - loss: 14.1163 - rmse: 3.7168 - val_loss: 6.5080 - val_rmse: 2.5182\n",
      "Epoch 41/100\n",
      "128/128 [==============================] - 1s 5ms/step - loss: 14.0231 - rmse: 3.7094 - val_loss: 9.0192 - val_rmse: 2.9773\n",
      "Epoch 42/100\n",
      "128/128 [==============================] - 1s 5ms/step - loss: 13.4338 - rmse: 3.6196 - val_loss: 6.3215 - val_rmse: 2.4875\n",
      "Epoch 43/100\n",
      "128/128 [==============================] - 1s 5ms/step - loss: 15.5208 - rmse: 3.8828 - val_loss: 4.0161 - val_rmse: 1.9784\n",
      "Epoch 44/100\n",
      "128/128 [==============================] - 1s 5ms/step - loss: 14.4597 - rmse: 3.7606 - val_loss: 3.7714 - val_rmse: 1.9072\n",
      "Epoch 45/100\n",
      "128/128 [==============================] - 1s 6ms/step - loss: 14.2540 - rmse: 3.7343 - val_loss: 3.1792 - val_rmse: 1.7619\n",
      "Epoch 46/100\n",
      "128/128 [==============================] - 1s 5ms/step - loss: 14.3651 - rmse: 3.7455 - val_loss: 9.7330 - val_rmse: 3.1099\n",
      "Epoch 47/100\n",
      "128/128 [==============================] - 1s 5ms/step - loss: 14.3128 - rmse: 3.7401 - val_loss: 3.0828 - val_rmse: 1.7269\n",
      "Epoch 48/100\n",
      "128/128 [==============================] - 1s 5ms/step - loss: 13.6425 - rmse: 3.6480 - val_loss: 4.7006 - val_rmse: 2.1423\n",
      "Epoch 49/100\n",
      "128/128 [==============================] - 1s 6ms/step - loss: 13.4744 - rmse: 3.6327 - val_loss: 3.1331 - val_rmse: 1.7411\n",
      "Epoch 50/100\n",
      "128/128 [==============================] - 1s 5ms/step - loss: 13.6775 - rmse: 3.6603 - val_loss: 3.0694 - val_rmse: 1.7229\n",
      "Epoch 51/100\n",
      "128/128 [==============================] - 1s 5ms/step - loss: 13.9274 - rmse: 3.6874 - val_loss: 5.1085 - val_rmse: 2.2517\n",
      "Epoch 52/100\n",
      "128/128 [==============================] - 1s 6ms/step - loss: 13.0735 - rmse: 3.5712 - val_loss: 3.4856 - val_rmse: 1.8089\n",
      "Epoch 53/100\n",
      "128/128 [==============================] - 1s 5ms/step - loss: 13.6970 - rmse: 3.6698 - val_loss: 12.4461 - val_rmse: 3.5171\n",
      "Epoch 54/100\n",
      "128/128 [==============================] - 1s 5ms/step - loss: 13.4274 - rmse: 3.6114 - val_loss: 3.3376 - val_rmse: 1.7988\n",
      "Epoch 55/100\n",
      "128/128 [==============================] - 1s 4ms/step - loss: 14.0648 - rmse: 3.7017 - val_loss: 3.4036 - val_rmse: 1.8194\n",
      "Epoch 56/100\n",
      "128/128 [==============================] - 1s 5ms/step - loss: 14.8539 - rmse: 3.8166 - val_loss: 4.6749 - val_rmse: 2.1438\n",
      "Epoch 57/100\n",
      "128/128 [==============================] - 1s 4ms/step - loss: 14.6832 - rmse: 3.7754 - val_loss: 3.4035 - val_rmse: 1.8326\n",
      "Epoch 58/100\n",
      "128/128 [==============================] - 1s 5ms/step - loss: 13.9527 - rmse: 3.6675 - val_loss: 3.5433 - val_rmse: 1.8600\n",
      "Epoch 59/100\n",
      "128/128 [==============================] - 1s 5ms/step - loss: 13.2485 - rmse: 3.5907 - val_loss: 2.8838 - val_rmse: 1.6778\n",
      "Epoch 60/100\n",
      "128/128 [==============================] - 1s 5ms/step - loss: 12.8386 - rmse: 3.5405 - val_loss: 2.9926 - val_rmse: 1.6989\n",
      "Epoch 61/100\n",
      "128/128 [==============================] - 1s 5ms/step - loss: 12.3418 - rmse: 3.4770 - val_loss: 4.8571 - val_rmse: 2.1822\n",
      "Epoch 62/100\n",
      "128/128 [==============================] - 1s 5ms/step - loss: 13.0951 - rmse: 3.5821 - val_loss: 3.0444 - val_rmse: 1.7234\n",
      "Epoch 63/100\n",
      "128/128 [==============================] - 1s 5ms/step - loss: 13.5473 - rmse: 3.6246 - val_loss: 7.3077 - val_rmse: 2.6838\n",
      "Epoch 64/100\n",
      "128/128 [==============================] - 1s 4ms/step - loss: 13.5135 - rmse: 3.6250 - val_loss: 3.2525 - val_rmse: 1.7777\n",
      "Epoch 65/100\n",
      "128/128 [==============================] - 1s 5ms/step - loss: 12.8480 - rmse: 3.5441 - val_loss: 3.1539 - val_rmse: 1.7627\n",
      "Epoch 66/100\n",
      "128/128 [==============================] - 1s 5ms/step - loss: 13.2674 - rmse: 3.6042 - val_loss: 3.5927 - val_rmse: 1.8592\n",
      "Epoch 67/100\n",
      "128/128 [==============================] - 1s 6ms/step - loss: 13.0868 - rmse: 3.5827 - val_loss: 3.2613 - val_rmse: 1.7898\n",
      "Epoch 68/100\n",
      "128/128 [==============================] - 1s 5ms/step - loss: 12.8691 - rmse: 3.5413 - val_loss: 3.9069 - val_rmse: 1.9595\n",
      "Epoch 69/100\n",
      "128/128 [==============================] - 1s 5ms/step - loss: 13.3835 - rmse: 3.6201 - val_loss: 11.9662 - val_rmse: 3.4420\n",
      "Epoch 70/100\n",
      "128/128 [==============================] - 1s 7ms/step - loss: 13.1802 - rmse: 3.5867 - val_loss: 2.9962 - val_rmse: 1.6954\n",
      "Epoch 71/100\n",
      "128/128 [==============================] - 1s 5ms/step - loss: 13.5472 - rmse: 3.6318 - val_loss: 4.8212 - val_rmse: 2.1638\n",
      "Epoch 72/100\n",
      "128/128 [==============================] - 1s 6ms/step - loss: 14.5466 - rmse: 3.7613 - val_loss: 3.3248 - val_rmse: 1.8056\n",
      "Epoch 73/100\n",
      "128/128 [==============================] - 1s 5ms/step - loss: 12.7903 - rmse: 3.5442 - val_loss: 4.0158 - val_rmse: 1.9841\n",
      "Epoch 74/100\n",
      "128/128 [==============================] - 1s 6ms/step - loss: 12.3618 - rmse: 3.4738 - val_loss: 2.9625 - val_rmse: 1.6972\n",
      "Epoch 75/100\n",
      "128/128 [==============================] - 1s 6ms/step - loss: 12.8590 - rmse: 3.5467 - val_loss: 6.1023 - val_rmse: 2.4565\n",
      "Epoch 76/100\n",
      "128/128 [==============================] - 1s 5ms/step - loss: 12.7361 - rmse: 3.5239 - val_loss: 3.9578 - val_rmse: 1.9472\n",
      "Epoch 77/100\n",
      "128/128 [==============================] - 1s 4ms/step - loss: 13.3307 - rmse: 3.5947 - val_loss: 3.6488 - val_rmse: 1.8821\n",
      "Epoch 78/100\n",
      "128/128 [==============================] - 1s 4ms/step - loss: 13.7974 - rmse: 3.6614 - val_loss: 2.8304 - val_rmse: 1.6517\n",
      "Epoch 79/100\n",
      "128/128 [==============================] - 1s 4ms/step - loss: 12.0496 - rmse: 3.4336 - val_loss: 3.1411 - val_rmse: 1.7442\n",
      "Epoch 80/100\n",
      "128/128 [==============================] - 1s 4ms/step - loss: 14.1671 - rmse: 3.7069 - val_loss: 9.2252 - val_rmse: 3.0211\n",
      "Epoch 81/100\n",
      "128/128 [==============================] - 1s 5ms/step - loss: 12.4170 - rmse: 3.4835 - val_loss: 4.4408 - val_rmse: 2.0756\n",
      "Epoch 82/100\n",
      "128/128 [==============================] - 1s 6ms/step - loss: 12.6519 - rmse: 3.5036 - val_loss: 5.8115 - val_rmse: 2.3876\n",
      "Epoch 83/100\n",
      "128/128 [==============================] - 1s 5ms/step - loss: 12.3838 - rmse: 3.4798 - val_loss: 3.5193 - val_rmse: 1.8355\n",
      "Epoch 84/100\n",
      "128/128 [==============================] - 1s 5ms/step - loss: 12.5581 - rmse: 3.4958 - val_loss: 4.6705 - val_rmse: 2.1461\n",
      "Epoch 85/100\n",
      "128/128 [==============================] - 1s 5ms/step - loss: 11.7659 - rmse: 3.3906 - val_loss: 3.3225 - val_rmse: 1.7995\n",
      "Epoch 86/100\n",
      "128/128 [==============================] - 1s 5ms/step - loss: 13.7069 - rmse: 3.6554 - val_loss: 2.7696 - val_rmse: 1.6292\n",
      "Epoch 87/100\n",
      "128/128 [==============================] - 1s 4ms/step - loss: 12.2291 - rmse: 3.4507 - val_loss: 2.7177 - val_rmse: 1.6300\n",
      "Epoch 88/100\n",
      "128/128 [==============================] - 1s 5ms/step - loss: 14.1788 - rmse: 3.7067 - val_loss: 4.9696 - val_rmse: 2.2082\n",
      "Epoch 89/100\n",
      "128/128 [==============================] - 1s 4ms/step - loss: 12.0099 - rmse: 3.4218 - val_loss: 2.8231 - val_rmse: 1.6544\n",
      "Epoch 90/100\n",
      "128/128 [==============================] - 1s 4ms/step - loss: 13.5929 - rmse: 3.6348 - val_loss: 7.2398 - val_rmse: 2.6781\n",
      "Epoch 91/100\n",
      "128/128 [==============================] - 1s 5ms/step - loss: 12.6134 - rmse: 3.5140 - val_loss: 2.5813 - val_rmse: 1.5863\n",
      "Epoch 92/100\n",
      "128/128 [==============================] - 1s 6ms/step - loss: 13.0206 - rmse: 3.5619 - val_loss: 7.0682 - val_rmse: 2.6445\n",
      "Epoch 93/100\n",
      "128/128 [==============================] - 1s 5ms/step - loss: 12.3551 - rmse: 3.4699 - val_loss: 4.2558 - val_rmse: 2.0534\n",
      "Epoch 94/100\n",
      "128/128 [==============================] - 1s 5ms/step - loss: 14.0074 - rmse: 3.6558 - val_loss: 6.0614 - val_rmse: 2.4349\n",
      "Epoch 95/100\n",
      "128/128 [==============================] - 1s 5ms/step - loss: 12.5147 - rmse: 3.4857 - val_loss: 2.6314 - val_rmse: 1.5983\n",
      "Epoch 96/100\n",
      "128/128 [==============================] - 1s 6ms/step - loss: 12.6408 - rmse: 3.5081 - val_loss: 4.3194 - val_rmse: 2.0472\n",
      "Epoch 97/100\n",
      "128/128 [==============================] - 1s 6ms/step - loss: 11.8845 - rmse: 3.4038 - val_loss: 2.9944 - val_rmse: 1.6917\n",
      "Epoch 98/100\n",
      "128/128 [==============================] - 1s 5ms/step - loss: 12.4283 - rmse: 3.4854 - val_loss: 3.2394 - val_rmse: 1.7772\n",
      "Epoch 99/100\n",
      "128/128 [==============================] - 1s 5ms/step - loss: 11.9501 - rmse: 3.4185 - val_loss: 2.8934 - val_rmse: 1.6682\n",
      "Epoch 100/100\n",
      "128/128 [==============================] - 1s 6ms/step - loss: 12.4272 - rmse: 3.4703 - val_loss: 3.8456 - val_rmse: 1.9227\n"
     ]
    },
    {
     "data": {
      "image/png": "[encoded data removed]",
      "text/plain": [
       "<Figure size 640x480 with 1 Axes>"
      ]
     },
     "metadata": {},
     "output_type": "display_data"
    }
   ],
   "source": [
    "# Define a custom metric function for RMSE\n",
    "def rmse(y_true, y_pred):\n",
    "    return tf.sqrt(tf.reduce_mean(tf.square(y_pred - y_true)))\n",
    "\n",
    "# Define a function to create the model\n",
    "def create_model():\n",
    "# Step 2: Define the model\n",
    "    model = Sequential([\n",
    "        Dense(782, activation='relu', input_shape=(train.shape[1],)),  # Input layer with 782 neurons and ReLU activation\n",
    "        Dropout(0.314),  # Dropout rate of 0.314\n",
    "        Dense(501, activation='relu'),  # Hidden layer with 501 neurons and ReLU activation\n",
    "        Dropout(0.314),  # Dropout rate of 0.314\n",
    "        Dense(1, activation='linear')  # Output layer for numerical prediction\n",
    "    ])\n",
    "    model.compile(optimizer='adam', loss='mse', metrics=['mse'])  # Using MSE loss for regression and MSE as a metric\n",
    "    return model\n",
    "\n",
    "# Step 2: Define the model\n",
    "model = create_model()\n",
    "\n",
    "# Step 3: Compile the model\n",
    "model.compile(optimizer='adam', loss='mse', metrics=[rmse])  # Using MSE loss for regression and RMSE as a metric\n",
    "\n",
    "# Step 4: Train the model\n",
    "history = model.fit(train, train_labels, epochs=100, batch_size=32, validation_split=0.2)\n",
    "\n",
    "# Extract RMSE values from history\n",
    "train_rmse = history.history['rmse']\n",
    "val_rmse = history.history['val_rmse']\n",
    "epochs = range(1, len(train_rmse) + 1)\n",
    "\n",
    "# Plot RMSE for training and validation data\n",
    "plt.plot(epochs, train_rmse, 'b', label='Training RMSE')\n",
    "plt.plot(epochs, val_rmse, 'r', label='Validation RMSE')\n",
    "plt.title('Training and Validation RMSE')\n",
    "plt.xlabel('Epochs')\n",
    "plt.ylabel('RMSE')\n",
    "plt.legend()\n",
    "plt.show()"
   ]
  },
  {
   "cell_type": "code",
   "execution_count": 1,
   "metadata": {},
   "outputs": [
    {
     "ename": "NameError",
     "evalue": "name 'KFold' is not defined",
     "output_type": "error",
     "traceback": [
      "\u001b[1;31m---------------------------------------------------------------------------\u001b[0m",
      "\u001b[1;31mNameError\u001b[0m                                 Traceback (most recent call last)",
      "Cell \u001b[1;32mIn[1], line 3\u001b[0m\n\u001b[0;32m      1\u001b[0m \u001b[38;5;66;03m# Assuming train and train_labels are defined (e.g., train is a pandas DataFrame, train_labels is a pandas Series)\u001b[39;00m\n\u001b[0;32m      2\u001b[0m \u001b[38;5;66;03m# Perform k-fold cross-validation\u001b[39;00m\n\u001b[1;32m----> 3\u001b[0m kfold \u001b[38;5;241m=\u001b[39m KFold(n_splits\u001b[38;5;241m=\u001b[39m\u001b[38;5;241m10\u001b[39m, shuffle\u001b[38;5;241m=\u001b[39m\u001b[38;5;28;01mTrue\u001b[39;00m, random_state\u001b[38;5;241m=\u001b[39m\u001b[38;5;241m42\u001b[39m)\n\u001b[0;32m      4\u001b[0m mse_scores \u001b[38;5;241m=\u001b[39m []\n\u001b[0;32m      5\u001b[0m \u001b[38;5;28;01mfor\u001b[39;00m train_indices, val_indices \u001b[38;5;129;01min\u001b[39;00m kfold\u001b[38;5;241m.\u001b[39msplit(train):\n",
      "\u001b[1;31mNameError\u001b[0m: name 'KFold' is not defined"
     ]
    }
   ],
   "source": [
    "# Assuming train and train_labels are defined (e.g., train is a pandas DataFrame, train_labels is a pandas Series)\n",
    "# Perform k-fold cross-validation\n",
    "kfold = KFold(n_splits=10, shuffle=True, random_state=42)\n",
    "mse_scores = []\n",
    "for train_indices, val_indices in kfold.split(train):\n",
    "    X_train, X_val = train.iloc[train_indices], train.iloc[val_indices]\n",
    "    y_train, y_val = train_labels.iloc[train_indices], train_labels.iloc[val_indices]\n",
    "    model = create_model()\n",
    "    history = model.fit(X_train, y_train, epochs=100, batch_size=32, validation_data=(X_val, y_val), verbose=0)\n",
    "    # Evaluate the model on validation data\n",
    "    mse = model.evaluate(X_val, y_val, verbose=0)[0]\n",
    "    mse_scores.append(mse)\n",
    "\n",
    "# Display MSE scores\n",
    "print(\"MSE scores:\", mse_scores)\n",
    "print(\"Mean MSE:\", np.mean(mse_scores))\n",
    "print(\"Root Mean Squared Error (RMSE):\", np.sqrt(np.mean(mse_scores)))\n",
    "# test"
   ]
  },
  {
   "cell_type": "code",
   "execution_count": null,
   "metadata": {},
   "outputs": [],
   "source": []
  }
 ],
 "metadata": {
  "kernelspec": {
   "display_name": "base",
   "language": "python",
   "name": "python3"
  },
  "language_info": {
   "codemirror_mode": {
    "name": "ipython",
    "version": 3
   },
   "file_extension": ".py",
   "mimetype": "text/x-python",
   "name": "python",
   "nbconvert_exporter": "python",
   "pygments_lexer": "ipython3",
   "version": "3.11.5"
  }
 },
 "nbformat": 4,
 "nbformat_minor": 2
}
