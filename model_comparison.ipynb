{
 "cells": [
  {
   "cell_type": "code",
<<<<<<< HEAD
   "execution_count": 25,
=======
   "execution_count": 55,
>>>>>>> be9033c5497b9e039ec0792b21ec1e05cd292501
   "metadata": {},
   "outputs": [],
   "source": [
    "import pandas as pd\n",
    "from sklearn.model_selection import train_test_split\n",
    "from sklearn.tree import DecisionTreeRegressor\n",
    "import matplotlib.pyplot as plt\n",
    "\n",
    "from sklearn.model_selection import cross_val_score\n",
    "from sklearn.model_selection import cross_val_score, KFold\n",
    "\n",
    "\n",
<<<<<<< HEAD
    "\n",
    "\n",
=======
>>>>>>> be9033c5497b9e039ec0792b21ec1e05cd292501
    "import tensorflow as tf\n",
    "from tensorflow.keras.models import Sequential\n",
    "from tensorflow.keras.layers import Dense\n",
    "from tensorflow.keras.layers import Dropout\n",
    "\n",
    "import numpy as np\n",
    "pd.set_option('display.max_columns', None)"
   ]
  },
  {
   "cell_type": "code",
<<<<<<< HEAD
   "execution_count": 4,
=======
   "execution_count": 56,
>>>>>>> be9033c5497b9e039ec0792b21ec1e05cd292501
   "metadata": {},
   "outputs": [],
   "source": [
    "df = pd.read_csv(\"NFWBS_PUF_2016_data.csv\")"
   ]
  },
  {
   "cell_type": "code",
<<<<<<< HEAD
   "execution_count": 5,
=======
   "execution_count": 57,
>>>>>>> be9033c5497b9e039ec0792b21ec1e05cd292501
   "metadata": {},
   "outputs": [],
   "source": [
    "def filter_columns(df, include_strings):\n",
    "    \"\"\"\n",
    "    Filter DataFrame columns containing any of the strings in include_strings.\n",
    "    \n",
    "    Args:\n",
    "    df (pandas.DataFrame): Input DataFrame.\n",
    "    include_strings (list): List of strings that need to be included in the column names.\n",
    "    \n",
    "    Returns:\n",
    "    pandas.DataFrame: Filtered DataFrame.\n",
    "    \"\"\"\n",
    "    filtered_columns = []\n",
    "    for col in df.columns:\n",
    "        if any(include_string in col.lower() for include_string in include_strings):\n",
    "            filtered_columns.append(col)\n",
    "    return df[filtered_columns]"
   ]
  },
  {
   "cell_type": "code",
<<<<<<< HEAD
   "execution_count": 6,
=======
   "execution_count": 58,
>>>>>>> be9033c5497b9e039ec0792b21ec1e05cd292501
   "metadata": {},
   "outputs": [],
   "source": [
    "df = filter_columns(df, include_strings=['fwb'])"
   ]
  },
  {
   "cell_type": "code",
<<<<<<< HEAD
   "execution_count": 7,
=======
   "execution_count": 59,
>>>>>>> be9033c5497b9e039ec0792b21ec1e05cd292501
   "metadata": {},
   "outputs": [],
   "source": [
    "def rename_columns(df):\n",
    "   # convert form camel case to snake case\n",
    "   df.columns = (df.columns\n",
    "                  .str.replace('(?<=[a-z])(?=[A-Z])', '_', regex=True)\n",
    "                  .str.lower()\n",
    "               )\n",
    "   # convert \" \" to _\n",
    "   df.columns = df.columns.str.replace(' ', '_')\n",
    "   return df"
   ]
  },
  {
   "cell_type": "code",
<<<<<<< HEAD
   "execution_count": 8,
=======
   "execution_count": 60,
>>>>>>> be9033c5497b9e039ec0792b21ec1e05cd292501
   "metadata": {},
   "outputs": [],
   "source": [
    "def drop_negative_values(df):\n",
    "    \"\"\"\n",
    "    Drop all values in the DataFrame that are less than 0.\n",
    "\n",
    "    Parameters:\n",
    "        df (pandas.DataFrame): Input DataFrame.\n",
    "\n",
    "    Returns:\n",
    "        pandas.DataFrame: DataFrame with negative values dropped.\n",
    "    \"\"\"\n",
    "    df_without_null = df[df >= 0]\n",
    "    print(len(df)-len(df_without_null.dropna()))\n",
    "    return df_without_null.dropna()"
   ]
  },
  {
   "cell_type": "code",
<<<<<<< HEAD
   "execution_count": 9,
=======
   "execution_count": 61,
>>>>>>> be9033c5497b9e039ec0792b21ec1e05cd292501
   "metadata": {},
   "outputs": [
    {
     "name": "stdout",
     "output_type": "stream",
     "text": [
      "19\n"
     ]
    }
   ],
   "source": [
    "df = drop_negative_values(df)"
   ]
  },
  {
   "cell_type": "code",
<<<<<<< HEAD
   "execution_count": 10,
=======
   "execution_count": 62,
>>>>>>> be9033c5497b9e039ec0792b21ec1e05cd292501
   "metadata": {},
   "outputs": [],
   "source": [
    "target_column = [col for col in df.columns if 'score' in col.lower()]\n",
    "train_set, test_set = train_test_split(df, test_size=0.2, random_state=42)\n",
    "\n",
    "train = train_set.drop(columns=target_column, errors='ignore')\n",
    "train_labels = train_set[target_column]\n",
    "\n",
    "test = test_set.drop(columns=target_column, errors='ignore')\n",
    "test_labels = test_set[target_column]"
   ]
  },
  {
   "cell_type": "markdown",
   "metadata": {},
   "source": [
    "# Model 1: Linear Reg"
   ]
  },
  {
   "cell_type": "code",
<<<<<<< HEAD
   "execution_count": 11,
=======
   "execution_count": 63,
>>>>>>> be9033c5497b9e039ec0792b21ec1e05cd292501
   "metadata": {},
   "outputs": [
    {
     "data": {
      "text/html": [
<<<<<<< HEAD
       "<style>#sk-container-id-1 {color: black;}#sk-container-id-1 pre{padding: 0;}#sk-container-id-1 div.sk-toggleable {background-color: white;}#sk-container-id-1 label.sk-toggleable__label {cursor: pointer;display: block;width: 100%;margin-bottom: 0;padding: 0.3em;box-sizing: border-box;text-align: center;}#sk-container-id-1 label.sk-toggleable__label-arrow:before {content: \"▸\";float: left;margin-right: 0.25em;color: #696969;}#sk-container-id-1 label.sk-toggleable__label-arrow:hover:before {color: black;}#sk-container-id-1 div.sk-estimator:hover label.sk-toggleable__label-arrow:before {color: black;}#sk-container-id-1 div.sk-toggleable__content {max-height: 0;max-width: 0;overflow: hidden;text-align: left;background-color: #f0f8ff;}#sk-container-id-1 div.sk-toggleable__content pre {margin: 0.2em;color: black;border-radius: 0.25em;background-color: #f0f8ff;}#sk-container-id-1 input.sk-toggleable__control:checked~div.sk-toggleable__content {max-height: 200px;max-width: 100%;overflow: auto;}#sk-container-id-1 input.sk-toggleable__control:checked~label.sk-toggleable__label-arrow:before {content: \"▾\";}#sk-container-id-1 div.sk-estimator input.sk-toggleable__control:checked~label.sk-toggleable__label {background-color: #d4ebff;}#sk-container-id-1 div.sk-label input.sk-toggleable__control:checked~label.sk-toggleable__label {background-color: #d4ebff;}#sk-container-id-1 input.sk-hidden--visually {border: 0;clip: rect(1px 1px 1px 1px);clip: rect(1px, 1px, 1px, 1px);height: 1px;margin: -1px;overflow: hidden;padding: 0;position: absolute;width: 1px;}#sk-container-id-1 div.sk-estimator {font-family: monospace;background-color: #f0f8ff;border: 1px dotted black;border-radius: 0.25em;box-sizing: border-box;margin-bottom: 0.5em;}#sk-container-id-1 div.sk-estimator:hover {background-color: #d4ebff;}#sk-container-id-1 div.sk-parallel-item::after {content: \"\";width: 100%;border-bottom: 1px solid gray;flex-grow: 1;}#sk-container-id-1 div.sk-label:hover label.sk-toggleable__label {background-color: #d4ebff;}#sk-container-id-1 div.sk-serial::before {content: \"\";position: absolute;border-left: 1px solid gray;box-sizing: border-box;top: 0;bottom: 0;left: 50%;z-index: 0;}#sk-container-id-1 div.sk-serial {display: flex;flex-direction: column;align-items: center;background-color: white;padding-right: 0.2em;padding-left: 0.2em;position: relative;}#sk-container-id-1 div.sk-item {position: relative;z-index: 1;}#sk-container-id-1 div.sk-parallel {display: flex;align-items: stretch;justify-content: center;background-color: white;position: relative;}#sk-container-id-1 div.sk-item::before, #sk-container-id-1 div.sk-parallel-item::before {content: \"\";position: absolute;border-left: 1px solid gray;box-sizing: border-box;top: 0;bottom: 0;left: 50%;z-index: -1;}#sk-container-id-1 div.sk-parallel-item {display: flex;flex-direction: column;z-index: 1;position: relative;background-color: white;}#sk-container-id-1 div.sk-parallel-item:first-child::after {align-self: flex-end;width: 50%;}#sk-container-id-1 div.sk-parallel-item:last-child::after {align-self: flex-start;width: 50%;}#sk-container-id-1 div.sk-parallel-item:only-child::after {width: 0;}#sk-container-id-1 div.sk-dashed-wrapped {border: 1px dashed gray;margin: 0 0.4em 0.5em 0.4em;box-sizing: border-box;padding-bottom: 0.4em;background-color: white;}#sk-container-id-1 div.sk-label label {font-family: monospace;font-weight: bold;display: inline-block;line-height: 1.2em;}#sk-container-id-1 div.sk-label-container {text-align: center;}#sk-container-id-1 div.sk-container {/* jupyter's `normalize.less` sets `[hidden] { display: none; }` but bootstrap.min.css set `[hidden] { display: none !important; }` so we also need the `!important` here to be able to override the default hidden behavior on the sphinx rendered scikit-learn.org. See: https://github.com/scikit-learn/scikit-learn/issues/21755 */display: inline-block !important;position: relative;}#sk-container-id-1 div.sk-text-repr-fallback {display: none;}</style><div id=\"sk-container-id-1\" class=\"sk-top-container\"><div class=\"sk-text-repr-fallback\"><pre>LinearRegression()</pre><b>In a Jupyter environment, please rerun this cell to show the HTML representation or trust the notebook. <br />On GitHub, the HTML representation is unable to render, please try loading this page with nbviewer.org.</b></div><div class=\"sk-container\" hidden><div class=\"sk-item\"><div class=\"sk-estimator sk-toggleable\"><input class=\"sk-toggleable__control sk-hidden--visually\" id=\"sk-estimator-id-1\" type=\"checkbox\" checked><label for=\"sk-estimator-id-1\" class=\"sk-toggleable__label sk-toggleable__label-arrow\">LinearRegression</label><div class=\"sk-toggleable__content\"><pre>LinearRegression()</pre></div></div></div></div></div>"
=======
       "<style>#sk-container-id-10 {color: black;}#sk-container-id-10 pre{padding: 0;}#sk-container-id-10 div.sk-toggleable {background-color: white;}#sk-container-id-10 label.sk-toggleable__label {cursor: pointer;display: block;width: 100%;margin-bottom: 0;padding: 0.3em;box-sizing: border-box;text-align: center;}#sk-container-id-10 label.sk-toggleable__label-arrow:before {content: \"▸\";float: left;margin-right: 0.25em;color: #696969;}#sk-container-id-10 label.sk-toggleable__label-arrow:hover:before {color: black;}#sk-container-id-10 div.sk-estimator:hover label.sk-toggleable__label-arrow:before {color: black;}#sk-container-id-10 div.sk-toggleable__content {max-height: 0;max-width: 0;overflow: hidden;text-align: left;background-color: #f0f8ff;}#sk-container-id-10 div.sk-toggleable__content pre {margin: 0.2em;color: black;border-radius: 0.25em;background-color: #f0f8ff;}#sk-container-id-10 input.sk-toggleable__control:checked~div.sk-toggleable__content {max-height: 200px;max-width: 100%;overflow: auto;}#sk-container-id-10 input.sk-toggleable__control:checked~label.sk-toggleable__label-arrow:before {content: \"▾\";}#sk-container-id-10 div.sk-estimator input.sk-toggleable__control:checked~label.sk-toggleable__label {background-color: #d4ebff;}#sk-container-id-10 div.sk-label input.sk-toggleable__control:checked~label.sk-toggleable__label {background-color: #d4ebff;}#sk-container-id-10 input.sk-hidden--visually {border: 0;clip: rect(1px 1px 1px 1px);clip: rect(1px, 1px, 1px, 1px);height: 1px;margin: -1px;overflow: hidden;padding: 0;position: absolute;width: 1px;}#sk-container-id-10 div.sk-estimator {font-family: monospace;background-color: #f0f8ff;border: 1px dotted black;border-radius: 0.25em;box-sizing: border-box;margin-bottom: 0.5em;}#sk-container-id-10 div.sk-estimator:hover {background-color: #d4ebff;}#sk-container-id-10 div.sk-parallel-item::after {content: \"\";width: 100%;border-bottom: 1px solid gray;flex-grow: 1;}#sk-container-id-10 div.sk-label:hover label.sk-toggleable__label {background-color: #d4ebff;}#sk-container-id-10 div.sk-serial::before {content: \"\";position: absolute;border-left: 1px solid gray;box-sizing: border-box;top: 0;bottom: 0;left: 50%;z-index: 0;}#sk-container-id-10 div.sk-serial {display: flex;flex-direction: column;align-items: center;background-color: white;padding-right: 0.2em;padding-left: 0.2em;position: relative;}#sk-container-id-10 div.sk-item {position: relative;z-index: 1;}#sk-container-id-10 div.sk-parallel {display: flex;align-items: stretch;justify-content: center;background-color: white;position: relative;}#sk-container-id-10 div.sk-item::before, #sk-container-id-10 div.sk-parallel-item::before {content: \"\";position: absolute;border-left: 1px solid gray;box-sizing: border-box;top: 0;bottom: 0;left: 50%;z-index: -1;}#sk-container-id-10 div.sk-parallel-item {display: flex;flex-direction: column;z-index: 1;position: relative;background-color: white;}#sk-container-id-10 div.sk-parallel-item:first-child::after {align-self: flex-end;width: 50%;}#sk-container-id-10 div.sk-parallel-item:last-child::after {align-self: flex-start;width: 50%;}#sk-container-id-10 div.sk-parallel-item:only-child::after {width: 0;}#sk-container-id-10 div.sk-dashed-wrapped {border: 1px dashed gray;margin: 0 0.4em 0.5em 0.4em;box-sizing: border-box;padding-bottom: 0.4em;background-color: white;}#sk-container-id-10 div.sk-label label {font-family: monospace;font-weight: bold;display: inline-block;line-height: 1.2em;}#sk-container-id-10 div.sk-label-container {text-align: center;}#sk-container-id-10 div.sk-container {/* jupyter's `normalize.less` sets `[hidden] { display: none; }` but bootstrap.min.css set `[hidden] { display: none !important; }` so we also need the `!important` here to be able to override the default hidden behavior on the sphinx rendered scikit-learn.org. See: https://github.com/scikit-learn/scikit-learn/issues/21755 */display: inline-block !important;position: relative;}#sk-container-id-10 div.sk-text-repr-fallback {display: none;}</style><div id=\"sk-container-id-10\" class=\"sk-top-container\"><div class=\"sk-text-repr-fallback\"><pre>LinearRegression()</pre><b>In a Jupyter environment, please rerun this cell to show the HTML representation or trust the notebook. <br />On GitHub, the HTML representation is unable to render, please try loading this page with nbviewer.org.</b></div><div class=\"sk-container\" hidden><div class=\"sk-item\"><div class=\"sk-estimator sk-toggleable\"><input class=\"sk-toggleable__control sk-hidden--visually\" id=\"sk-estimator-id-10\" type=\"checkbox\" checked><label for=\"sk-estimator-id-10\" class=\"sk-toggleable__label sk-toggleable__label-arrow\">LinearRegression</label><div class=\"sk-toggleable__content\"><pre>LinearRegression()</pre></div></div></div></div></div>"
>>>>>>> be9033c5497b9e039ec0792b21ec1e05cd292501
      ],
      "text/plain": [
       "LinearRegression()"
      ]
     },
<<<<<<< HEAD
     "execution_count": 11,
=======
     "execution_count": 63,
>>>>>>> be9033c5497b9e039ec0792b21ec1e05cd292501
     "metadata": {},
     "output_type": "execute_result"
    }
   ],
   "source": [
    "from sklearn.linear_model import LinearRegression\n",
    "lin_reg = LinearRegression()\n",
    "lin_reg.fit(train, train_labels)"
   ]
  },
  {
   "cell_type": "code",
<<<<<<< HEAD
   "execution_count": 12,
=======
   "execution_count": 64,
>>>>>>> be9033c5497b9e039ec0792b21ec1e05cd292501
   "metadata": {},
   "outputs": [
    {
     "data": {
      "text/plain": [
       "2.8321200176317736"
      ]
     },
<<<<<<< HEAD
     "execution_count": 12,
=======
     "execution_count": 64,
>>>>>>> be9033c5497b9e039ec0792b21ec1e05cd292501
     "metadata": {},
     "output_type": "execute_result"
    }
   ],
   "source": [
    "from sklearn.metrics import mean_squared_error\n",
    "predictions = lin_reg.predict(train)\n",
    "lin_mse = mean_squared_error(np.array(train_labels), predictions)\n",
    "lin_rmse = np.sqrt(lin_mse)\n",
    "lin_rmse"
   ]
  },
  {
   "cell_type": "code",
<<<<<<< HEAD
   "execution_count": 13,
=======
   "execution_count": 65,
>>>>>>> be9033c5497b9e039ec0792b21ec1e05cd292501
   "metadata": {},
   "outputs": [],
   "source": [
    "scores = cross_val_score(lin_reg, train, train_labels, scoring=\"neg_mean_squared_error\", cv=10)\n",
    "lin_rmse_scores = np.sqrt(-scores)"
   ]
  },
  {
   "cell_type": "code",
<<<<<<< HEAD
   "execution_count": 14,
=======
   "execution_count": 66,
>>>>>>> be9033c5497b9e039ec0792b21ec1e05cd292501
   "metadata": {},
   "outputs": [
    {
     "name": "stdout",
     "output_type": "stream",
     "text": [
      "Scores: [2.7591169  2.81719053 2.69408479 2.89161287 3.11142801 2.85048284\n",
      " 2.66795585 2.72331682 2.66914356 3.14585575]\n",
      "Mean: 2.8330187934266045\n",
      "Standard deviation: 0.16439798926184856\n"
     ]
    }
   ],
   "source": [
    "def display_scores(scores):\n",
    "    print(\"Scores:\", scores)\n",
    "    print(\"Mean:\", scores.mean())\n",
    "    print(\"Standard deviation:\", scores.std())\n",
    "display_scores(lin_rmse_scores)"
   ]
  },
  {
   "cell_type": "markdown",
   "metadata": {},
   "source": [
    "# 2. Decision Tree Regressor"
   ]
  },
  {
   "cell_type": "code",
<<<<<<< HEAD
   "execution_count": 15,
=======
   "execution_count": 67,
>>>>>>> be9033c5497b9e039ec0792b21ec1e05cd292501
   "metadata": {},
   "outputs": [
    {
     "data": {
      "text/html": [
<<<<<<< HEAD
       "<style>#sk-container-id-2 {color: black;}#sk-container-id-2 pre{padding: 0;}#sk-container-id-2 div.sk-toggleable {background-color: white;}#sk-container-id-2 label.sk-toggleable__label {cursor: pointer;display: block;width: 100%;margin-bottom: 0;padding: 0.3em;box-sizing: border-box;text-align: center;}#sk-container-id-2 label.sk-toggleable__label-arrow:before {content: \"▸\";float: left;margin-right: 0.25em;color: #696969;}#sk-container-id-2 label.sk-toggleable__label-arrow:hover:before {color: black;}#sk-container-id-2 div.sk-estimator:hover label.sk-toggleable__label-arrow:before {color: black;}#sk-container-id-2 div.sk-toggleable__content {max-height: 0;max-width: 0;overflow: hidden;text-align: left;background-color: #f0f8ff;}#sk-container-id-2 div.sk-toggleable__content pre {margin: 0.2em;color: black;border-radius: 0.25em;background-color: #f0f8ff;}#sk-container-id-2 input.sk-toggleable__control:checked~div.sk-toggleable__content {max-height: 200px;max-width: 100%;overflow: auto;}#sk-container-id-2 input.sk-toggleable__control:checked~label.sk-toggleable__label-arrow:before {content: \"▾\";}#sk-container-id-2 div.sk-estimator input.sk-toggleable__control:checked~label.sk-toggleable__label {background-color: #d4ebff;}#sk-container-id-2 div.sk-label input.sk-toggleable__control:checked~label.sk-toggleable__label {background-color: #d4ebff;}#sk-container-id-2 input.sk-hidden--visually {border: 0;clip: rect(1px 1px 1px 1px);clip: rect(1px, 1px, 1px, 1px);height: 1px;margin: -1px;overflow: hidden;padding: 0;position: absolute;width: 1px;}#sk-container-id-2 div.sk-estimator {font-family: monospace;background-color: #f0f8ff;border: 1px dotted black;border-radius: 0.25em;box-sizing: border-box;margin-bottom: 0.5em;}#sk-container-id-2 div.sk-estimator:hover {background-color: #d4ebff;}#sk-container-id-2 div.sk-parallel-item::after {content: \"\";width: 100%;border-bottom: 1px solid gray;flex-grow: 1;}#sk-container-id-2 div.sk-label:hover label.sk-toggleable__label {background-color: #d4ebff;}#sk-container-id-2 div.sk-serial::before {content: \"\";position: absolute;border-left: 1px solid gray;box-sizing: border-box;top: 0;bottom: 0;left: 50%;z-index: 0;}#sk-container-id-2 div.sk-serial {display: flex;flex-direction: column;align-items: center;background-color: white;padding-right: 0.2em;padding-left: 0.2em;position: relative;}#sk-container-id-2 div.sk-item {position: relative;z-index: 1;}#sk-container-id-2 div.sk-parallel {display: flex;align-items: stretch;justify-content: center;background-color: white;position: relative;}#sk-container-id-2 div.sk-item::before, #sk-container-id-2 div.sk-parallel-item::before {content: \"\";position: absolute;border-left: 1px solid gray;box-sizing: border-box;top: 0;bottom: 0;left: 50%;z-index: -1;}#sk-container-id-2 div.sk-parallel-item {display: flex;flex-direction: column;z-index: 1;position: relative;background-color: white;}#sk-container-id-2 div.sk-parallel-item:first-child::after {align-self: flex-end;width: 50%;}#sk-container-id-2 div.sk-parallel-item:last-child::after {align-self: flex-start;width: 50%;}#sk-container-id-2 div.sk-parallel-item:only-child::after {width: 0;}#sk-container-id-2 div.sk-dashed-wrapped {border: 1px dashed gray;margin: 0 0.4em 0.5em 0.4em;box-sizing: border-box;padding-bottom: 0.4em;background-color: white;}#sk-container-id-2 div.sk-label label {font-family: monospace;font-weight: bold;display: inline-block;line-height: 1.2em;}#sk-container-id-2 div.sk-label-container {text-align: center;}#sk-container-id-2 div.sk-container {/* jupyter's `normalize.less` sets `[hidden] { display: none; }` but bootstrap.min.css set `[hidden] { display: none !important; }` so we also need the `!important` here to be able to override the default hidden behavior on the sphinx rendered scikit-learn.org. See: https://github.com/scikit-learn/scikit-learn/issues/21755 */display: inline-block !important;position: relative;}#sk-container-id-2 div.sk-text-repr-fallback {display: none;}</style><div id=\"sk-container-id-2\" class=\"sk-top-container\"><div class=\"sk-text-repr-fallback\"><pre>DecisionTreeRegressor()</pre><b>In a Jupyter environment, please rerun this cell to show the HTML representation or trust the notebook. <br />On GitHub, the HTML representation is unable to render, please try loading this page with nbviewer.org.</b></div><div class=\"sk-container\" hidden><div class=\"sk-item\"><div class=\"sk-estimator sk-toggleable\"><input class=\"sk-toggleable__control sk-hidden--visually\" id=\"sk-estimator-id-2\" type=\"checkbox\" checked><label for=\"sk-estimator-id-2\" class=\"sk-toggleable__label sk-toggleable__label-arrow\">DecisionTreeRegressor</label><div class=\"sk-toggleable__content\"><pre>DecisionTreeRegressor()</pre></div></div></div></div></div>"
=======
       "<style>#sk-container-id-11 {color: black;}#sk-container-id-11 pre{padding: 0;}#sk-container-id-11 div.sk-toggleable {background-color: white;}#sk-container-id-11 label.sk-toggleable__label {cursor: pointer;display: block;width: 100%;margin-bottom: 0;padding: 0.3em;box-sizing: border-box;text-align: center;}#sk-container-id-11 label.sk-toggleable__label-arrow:before {content: \"▸\";float: left;margin-right: 0.25em;color: #696969;}#sk-container-id-11 label.sk-toggleable__label-arrow:hover:before {color: black;}#sk-container-id-11 div.sk-estimator:hover label.sk-toggleable__label-arrow:before {color: black;}#sk-container-id-11 div.sk-toggleable__content {max-height: 0;max-width: 0;overflow: hidden;text-align: left;background-color: #f0f8ff;}#sk-container-id-11 div.sk-toggleable__content pre {margin: 0.2em;color: black;border-radius: 0.25em;background-color: #f0f8ff;}#sk-container-id-11 input.sk-toggleable__control:checked~div.sk-toggleable__content {max-height: 200px;max-width: 100%;overflow: auto;}#sk-container-id-11 input.sk-toggleable__control:checked~label.sk-toggleable__label-arrow:before {content: \"▾\";}#sk-container-id-11 div.sk-estimator input.sk-toggleable__control:checked~label.sk-toggleable__label {background-color: #d4ebff;}#sk-container-id-11 div.sk-label input.sk-toggleable__control:checked~label.sk-toggleable__label {background-color: #d4ebff;}#sk-container-id-11 input.sk-hidden--visually {border: 0;clip: rect(1px 1px 1px 1px);clip: rect(1px, 1px, 1px, 1px);height: 1px;margin: -1px;overflow: hidden;padding: 0;position: absolute;width: 1px;}#sk-container-id-11 div.sk-estimator {font-family: monospace;background-color: #f0f8ff;border: 1px dotted black;border-radius: 0.25em;box-sizing: border-box;margin-bottom: 0.5em;}#sk-container-id-11 div.sk-estimator:hover {background-color: #d4ebff;}#sk-container-id-11 div.sk-parallel-item::after {content: \"\";width: 100%;border-bottom: 1px solid gray;flex-grow: 1;}#sk-container-id-11 div.sk-label:hover label.sk-toggleable__label {background-color: #d4ebff;}#sk-container-id-11 div.sk-serial::before {content: \"\";position: absolute;border-left: 1px solid gray;box-sizing: border-box;top: 0;bottom: 0;left: 50%;z-index: 0;}#sk-container-id-11 div.sk-serial {display: flex;flex-direction: column;align-items: center;background-color: white;padding-right: 0.2em;padding-left: 0.2em;position: relative;}#sk-container-id-11 div.sk-item {position: relative;z-index: 1;}#sk-container-id-11 div.sk-parallel {display: flex;align-items: stretch;justify-content: center;background-color: white;position: relative;}#sk-container-id-11 div.sk-item::before, #sk-container-id-11 div.sk-parallel-item::before {content: \"\";position: absolute;border-left: 1px solid gray;box-sizing: border-box;top: 0;bottom: 0;left: 50%;z-index: -1;}#sk-container-id-11 div.sk-parallel-item {display: flex;flex-direction: column;z-index: 1;position: relative;background-color: white;}#sk-container-id-11 div.sk-parallel-item:first-child::after {align-self: flex-end;width: 50%;}#sk-container-id-11 div.sk-parallel-item:last-child::after {align-self: flex-start;width: 50%;}#sk-container-id-11 div.sk-parallel-item:only-child::after {width: 0;}#sk-container-id-11 div.sk-dashed-wrapped {border: 1px dashed gray;margin: 0 0.4em 0.5em 0.4em;box-sizing: border-box;padding-bottom: 0.4em;background-color: white;}#sk-container-id-11 div.sk-label label {font-family: monospace;font-weight: bold;display: inline-block;line-height: 1.2em;}#sk-container-id-11 div.sk-label-container {text-align: center;}#sk-container-id-11 div.sk-container {/* jupyter's `normalize.less` sets `[hidden] { display: none; }` but bootstrap.min.css set `[hidden] { display: none !important; }` so we also need the `!important` here to be able to override the default hidden behavior on the sphinx rendered scikit-learn.org. See: https://github.com/scikit-learn/scikit-learn/issues/21755 */display: inline-block !important;position: relative;}#sk-container-id-11 div.sk-text-repr-fallback {display: none;}</style><div id=\"sk-container-id-11\" class=\"sk-top-container\"><div class=\"sk-text-repr-fallback\"><pre>DecisionTreeRegressor()</pre><b>In a Jupyter environment, please rerun this cell to show the HTML representation or trust the notebook. <br />On GitHub, the HTML representation is unable to render, please try loading this page with nbviewer.org.</b></div><div class=\"sk-container\" hidden><div class=\"sk-item\"><div class=\"sk-estimator sk-toggleable\"><input class=\"sk-toggleable__control sk-hidden--visually\" id=\"sk-estimator-id-11\" type=\"checkbox\" checked><label for=\"sk-estimator-id-11\" class=\"sk-toggleable__label sk-toggleable__label-arrow\">DecisionTreeRegressor</label><div class=\"sk-toggleable__content\"><pre>DecisionTreeRegressor()</pre></div></div></div></div></div>"
>>>>>>> be9033c5497b9e039ec0792b21ec1e05cd292501
      ],
      "text/plain": [
       "DecisionTreeRegressor()"
      ]
     },
<<<<<<< HEAD
     "execution_count": 15,
=======
     "execution_count": 67,
>>>>>>> be9033c5497b9e039ec0792b21ec1e05cd292501
     "metadata": {},
     "output_type": "execute_result"
    }
   ],
   "source": [
    "from sklearn.tree import DecisionTreeRegressor\n",
    "tree_reg = DecisionTreeRegressor()\n",
    "tree_reg.fit(train, train_labels)"
   ]
  },
  {
   "cell_type": "code",
<<<<<<< HEAD
   "execution_count": 16,
=======
   "execution_count": 68,
>>>>>>> be9033c5497b9e039ec0792b21ec1e05cd292501
   "metadata": {},
   "outputs": [
    {
     "data": {
      "text/plain": [
       "0.8129826302133111"
      ]
     },
<<<<<<< HEAD
     "execution_count": 16,
=======
     "execution_count": 68,
>>>>>>> be9033c5497b9e039ec0792b21ec1e05cd292501
     "metadata": {},
     "output_type": "execute_result"
    }
   ],
   "source": [
    "predictions = tree_reg.predict(train)\n",
    "tree_mse = mean_squared_error(train_labels, predictions)\n",
    "tree_rmse = np.sqrt(tree_mse)\n",
    "tree_rmse"
   ]
  },
  {
   "cell_type": "code",
<<<<<<< HEAD
   "execution_count": 17,
=======
   "execution_count": 69,
>>>>>>> be9033c5497b9e039ec0792b21ec1e05cd292501
   "metadata": {},
   "outputs": [],
   "source": [
    "scores = cross_val_score(tree_reg, train, train_labels, scoring=\"neg_mean_squared_error\", cv=10)\n",
    "tree_rmse_scores = np.sqrt(-scores)"
   ]
  },
  {
   "cell_type": "code",
<<<<<<< HEAD
   "execution_count": 18,
=======
   "execution_count": 70,
>>>>>>> be9033c5497b9e039ec0792b21ec1e05cd292501
   "metadata": {},
   "outputs": [
    {
     "name": "stdout",
     "output_type": "stream",
     "text": [
<<<<<<< HEAD
      "Scores: [2.30291784 2.42086407 2.40177637 2.59326814 2.60894723 2.44150848\n",
      " 2.28341934 2.66596056 2.641336   2.6098647 ]\n",
      "Mean: 2.496986274952314\n",
      "Standard deviation: 0.13606867301447148\n"
=======
      "Scores: [2.35074023 2.50890898 2.35653031 2.5849376  2.5173827  2.53039575\n",
      " 2.31741385 2.62892892 2.6660886  2.57488276]\n",
      "Mean: 2.5036209693231513\n",
      "Standard deviation: 0.11593272423774142\n"
>>>>>>> be9033c5497b9e039ec0792b21ec1e05cd292501
     ]
    }
   ],
   "source": [
    "def display_scores(scores):\n",
    "    print(\"Scores:\", scores)\n",
    "    print(\"Mean:\", scores.mean())\n",
    "    print(\"Standard deviation:\", scores.std())\n",
    "display_scores(tree_rmse_scores)"
   ]
  },
  {
   "cell_type": "markdown",
   "metadata": {},
   "source": [
    "# 3.Random Forest Regressor"
   ]
  },
  {
   "cell_type": "code",
<<<<<<< HEAD
   "execution_count": 19,
=======
   "execution_count": 71,
>>>>>>> be9033c5497b9e039ec0792b21ec1e05cd292501
   "metadata": {},
   "outputs": [
    {
     "name": "stderr",
     "output_type": "stream",
     "text": [
<<<<<<< HEAD
      "c:\\ProgramData\\anaconda3\\Lib\\site-packages\\sklearn\\base.py:1151: DataConversionWarning: A column-vector y was passed when a 1d array was expected. Please change the shape of y to (n_samples,), for example using ravel().\n",
=======
      "c:\\Users\\hamin\\anaconda3\\Lib\\site-packages\\sklearn\\base.py:1152: DataConversionWarning: A column-vector y was passed when a 1d array was expected. Please change the shape of y to (n_samples,), for example using ravel().\n",
>>>>>>> be9033c5497b9e039ec0792b21ec1e05cd292501
      "  return fit_method(estimator, *args, **kwargs)\n"
     ]
    },
    {
     "data": {
      "text/html": [
<<<<<<< HEAD
       "<style>#sk-container-id-3 {color: black;}#sk-container-id-3 pre{padding: 0;}#sk-container-id-3 div.sk-toggleable {background-color: white;}#sk-container-id-3 label.sk-toggleable__label {cursor: pointer;display: block;width: 100%;margin-bottom: 0;padding: 0.3em;box-sizing: border-box;text-align: center;}#sk-container-id-3 label.sk-toggleable__label-arrow:before {content: \"▸\";float: left;margin-right: 0.25em;color: #696969;}#sk-container-id-3 label.sk-toggleable__label-arrow:hover:before {color: black;}#sk-container-id-3 div.sk-estimator:hover label.sk-toggleable__label-arrow:before {color: black;}#sk-container-id-3 div.sk-toggleable__content {max-height: 0;max-width: 0;overflow: hidden;text-align: left;background-color: #f0f8ff;}#sk-container-id-3 div.sk-toggleable__content pre {margin: 0.2em;color: black;border-radius: 0.25em;background-color: #f0f8ff;}#sk-container-id-3 input.sk-toggleable__control:checked~div.sk-toggleable__content {max-height: 200px;max-width: 100%;overflow: auto;}#sk-container-id-3 input.sk-toggleable__control:checked~label.sk-toggleable__label-arrow:before {content: \"▾\";}#sk-container-id-3 div.sk-estimator input.sk-toggleable__control:checked~label.sk-toggleable__label {background-color: #d4ebff;}#sk-container-id-3 div.sk-label input.sk-toggleable__control:checked~label.sk-toggleable__label {background-color: #d4ebff;}#sk-container-id-3 input.sk-hidden--visually {border: 0;clip: rect(1px 1px 1px 1px);clip: rect(1px, 1px, 1px, 1px);height: 1px;margin: -1px;overflow: hidden;padding: 0;position: absolute;width: 1px;}#sk-container-id-3 div.sk-estimator {font-family: monospace;background-color: #f0f8ff;border: 1px dotted black;border-radius: 0.25em;box-sizing: border-box;margin-bottom: 0.5em;}#sk-container-id-3 div.sk-estimator:hover {background-color: #d4ebff;}#sk-container-id-3 div.sk-parallel-item::after {content: \"\";width: 100%;border-bottom: 1px solid gray;flex-grow: 1;}#sk-container-id-3 div.sk-label:hover label.sk-toggleable__label {background-color: #d4ebff;}#sk-container-id-3 div.sk-serial::before {content: \"\";position: absolute;border-left: 1px solid gray;box-sizing: border-box;top: 0;bottom: 0;left: 50%;z-index: 0;}#sk-container-id-3 div.sk-serial {display: flex;flex-direction: column;align-items: center;background-color: white;padding-right: 0.2em;padding-left: 0.2em;position: relative;}#sk-container-id-3 div.sk-item {position: relative;z-index: 1;}#sk-container-id-3 div.sk-parallel {display: flex;align-items: stretch;justify-content: center;background-color: white;position: relative;}#sk-container-id-3 div.sk-item::before, #sk-container-id-3 div.sk-parallel-item::before {content: \"\";position: absolute;border-left: 1px solid gray;box-sizing: border-box;top: 0;bottom: 0;left: 50%;z-index: -1;}#sk-container-id-3 div.sk-parallel-item {display: flex;flex-direction: column;z-index: 1;position: relative;background-color: white;}#sk-container-id-3 div.sk-parallel-item:first-child::after {align-self: flex-end;width: 50%;}#sk-container-id-3 div.sk-parallel-item:last-child::after {align-self: flex-start;width: 50%;}#sk-container-id-3 div.sk-parallel-item:only-child::after {width: 0;}#sk-container-id-3 div.sk-dashed-wrapped {border: 1px dashed gray;margin: 0 0.4em 0.5em 0.4em;box-sizing: border-box;padding-bottom: 0.4em;background-color: white;}#sk-container-id-3 div.sk-label label {font-family: monospace;font-weight: bold;display: inline-block;line-height: 1.2em;}#sk-container-id-3 div.sk-label-container {text-align: center;}#sk-container-id-3 div.sk-container {/* jupyter's `normalize.less` sets `[hidden] { display: none; }` but bootstrap.min.css set `[hidden] { display: none !important; }` so we also need the `!important` here to be able to override the default hidden behavior on the sphinx rendered scikit-learn.org. See: https://github.com/scikit-learn/scikit-learn/issues/21755 */display: inline-block !important;position: relative;}#sk-container-id-3 div.sk-text-repr-fallback {display: none;}</style><div id=\"sk-container-id-3\" class=\"sk-top-container\"><div class=\"sk-text-repr-fallback\"><pre>RandomForestRegressor()</pre><b>In a Jupyter environment, please rerun this cell to show the HTML representation or trust the notebook. <br />On GitHub, the HTML representation is unable to render, please try loading this page with nbviewer.org.</b></div><div class=\"sk-container\" hidden><div class=\"sk-item\"><div class=\"sk-estimator sk-toggleable\"><input class=\"sk-toggleable__control sk-hidden--visually\" id=\"sk-estimator-id-3\" type=\"checkbox\" checked><label for=\"sk-estimator-id-3\" class=\"sk-toggleable__label sk-toggleable__label-arrow\">RandomForestRegressor</label><div class=\"sk-toggleable__content\"><pre>RandomForestRegressor()</pre></div></div></div></div></div>"
=======
       "<style>#sk-container-id-12 {color: black;}#sk-container-id-12 pre{padding: 0;}#sk-container-id-12 div.sk-toggleable {background-color: white;}#sk-container-id-12 label.sk-toggleable__label {cursor: pointer;display: block;width: 100%;margin-bottom: 0;padding: 0.3em;box-sizing: border-box;text-align: center;}#sk-container-id-12 label.sk-toggleable__label-arrow:before {content: \"▸\";float: left;margin-right: 0.25em;color: #696969;}#sk-container-id-12 label.sk-toggleable__label-arrow:hover:before {color: black;}#sk-container-id-12 div.sk-estimator:hover label.sk-toggleable__label-arrow:before {color: black;}#sk-container-id-12 div.sk-toggleable__content {max-height: 0;max-width: 0;overflow: hidden;text-align: left;background-color: #f0f8ff;}#sk-container-id-12 div.sk-toggleable__content pre {margin: 0.2em;color: black;border-radius: 0.25em;background-color: #f0f8ff;}#sk-container-id-12 input.sk-toggleable__control:checked~div.sk-toggleable__content {max-height: 200px;max-width: 100%;overflow: auto;}#sk-container-id-12 input.sk-toggleable__control:checked~label.sk-toggleable__label-arrow:before {content: \"▾\";}#sk-container-id-12 div.sk-estimator input.sk-toggleable__control:checked~label.sk-toggleable__label {background-color: #d4ebff;}#sk-container-id-12 div.sk-label input.sk-toggleable__control:checked~label.sk-toggleable__label {background-color: #d4ebff;}#sk-container-id-12 input.sk-hidden--visually {border: 0;clip: rect(1px 1px 1px 1px);clip: rect(1px, 1px, 1px, 1px);height: 1px;margin: -1px;overflow: hidden;padding: 0;position: absolute;width: 1px;}#sk-container-id-12 div.sk-estimator {font-family: monospace;background-color: #f0f8ff;border: 1px dotted black;border-radius: 0.25em;box-sizing: border-box;margin-bottom: 0.5em;}#sk-container-id-12 div.sk-estimator:hover {background-color: #d4ebff;}#sk-container-id-12 div.sk-parallel-item::after {content: \"\";width: 100%;border-bottom: 1px solid gray;flex-grow: 1;}#sk-container-id-12 div.sk-label:hover label.sk-toggleable__label {background-color: #d4ebff;}#sk-container-id-12 div.sk-serial::before {content: \"\";position: absolute;border-left: 1px solid gray;box-sizing: border-box;top: 0;bottom: 0;left: 50%;z-index: 0;}#sk-container-id-12 div.sk-serial {display: flex;flex-direction: column;align-items: center;background-color: white;padding-right: 0.2em;padding-left: 0.2em;position: relative;}#sk-container-id-12 div.sk-item {position: relative;z-index: 1;}#sk-container-id-12 div.sk-parallel {display: flex;align-items: stretch;justify-content: center;background-color: white;position: relative;}#sk-container-id-12 div.sk-item::before, #sk-container-id-12 div.sk-parallel-item::before {content: \"\";position: absolute;border-left: 1px solid gray;box-sizing: border-box;top: 0;bottom: 0;left: 50%;z-index: -1;}#sk-container-id-12 div.sk-parallel-item {display: flex;flex-direction: column;z-index: 1;position: relative;background-color: white;}#sk-container-id-12 div.sk-parallel-item:first-child::after {align-self: flex-end;width: 50%;}#sk-container-id-12 div.sk-parallel-item:last-child::after {align-self: flex-start;width: 50%;}#sk-container-id-12 div.sk-parallel-item:only-child::after {width: 0;}#sk-container-id-12 div.sk-dashed-wrapped {border: 1px dashed gray;margin: 0 0.4em 0.5em 0.4em;box-sizing: border-box;padding-bottom: 0.4em;background-color: white;}#sk-container-id-12 div.sk-label label {font-family: monospace;font-weight: bold;display: inline-block;line-height: 1.2em;}#sk-container-id-12 div.sk-label-container {text-align: center;}#sk-container-id-12 div.sk-container {/* jupyter's `normalize.less` sets `[hidden] { display: none; }` but bootstrap.min.css set `[hidden] { display: none !important; }` so we also need the `!important` here to be able to override the default hidden behavior on the sphinx rendered scikit-learn.org. See: https://github.com/scikit-learn/scikit-learn/issues/21755 */display: inline-block !important;position: relative;}#sk-container-id-12 div.sk-text-repr-fallback {display: none;}</style><div id=\"sk-container-id-12\" class=\"sk-top-container\"><div class=\"sk-text-repr-fallback\"><pre>RandomForestRegressor()</pre><b>In a Jupyter environment, please rerun this cell to show the HTML representation or trust the notebook. <br />On GitHub, the HTML representation is unable to render, please try loading this page with nbviewer.org.</b></div><div class=\"sk-container\" hidden><div class=\"sk-item\"><div class=\"sk-estimator sk-toggleable\"><input class=\"sk-toggleable__control sk-hidden--visually\" id=\"sk-estimator-id-12\" type=\"checkbox\" checked><label for=\"sk-estimator-id-12\" class=\"sk-toggleable__label sk-toggleable__label-arrow\">RandomForestRegressor</label><div class=\"sk-toggleable__content\"><pre>RandomForestRegressor()</pre></div></div></div></div></div>"
>>>>>>> be9033c5497b9e039ec0792b21ec1e05cd292501
      ],
      "text/plain": [
       "RandomForestRegressor()"
      ]
     },
<<<<<<< HEAD
     "execution_count": 19,
=======
     "execution_count": 71,
>>>>>>> be9033c5497b9e039ec0792b21ec1e05cd292501
     "metadata": {},
     "output_type": "execute_result"
    }
   ],
   "source": [
    "from sklearn.ensemble import RandomForestRegressor\n",
    "forest_reg = RandomForestRegressor()\n",
    "forest_reg.fit(train, train_labels)"
   ]
  },
  {
   "cell_type": "code",
<<<<<<< HEAD
   "execution_count": 20,
=======
   "execution_count": 72,
>>>>>>> be9033c5497b9e039ec0792b21ec1e05cd292501
   "metadata": {},
   "outputs": [
    {
     "name": "stdout",
     "output_type": "stream",
     "text": [
<<<<<<< HEAD
      "0.9870499230891634\n"
=======
      "0.9914648345284329\n"
>>>>>>> be9033c5497b9e039ec0792b21ec1e05cd292501
     ]
    }
   ],
   "source": [
    "predictions = forest_reg.predict(train)\n",
    "forest_mse = mean_squared_error(train_labels, predictions)\n",
    "forest_rmse = np.sqrt(forest_mse)\n",
    "print(forest_rmse)"
   ]
  },
  {
   "cell_type": "code",
<<<<<<< HEAD
   "execution_count": 21,
=======
   "execution_count": 73,
>>>>>>> be9033c5497b9e039ec0792b21ec1e05cd292501
   "metadata": {},
   "outputs": [
    {
     "name": "stderr",
     "output_type": "stream",
     "text": [
<<<<<<< HEAD
      "c:\\ProgramData\\anaconda3\\Lib\\site-packages\\sklearn\\base.py:1151: DataConversionWarning: A column-vector y was passed when a 1d array was expected. Please change the shape of y to (n_samples,), for example using ravel().\n",
      "  return fit_method(estimator, *args, **kwargs)\n",
      "c:\\ProgramData\\anaconda3\\Lib\\site-packages\\sklearn\\base.py:1151: DataConversionWarning: A column-vector y was passed when a 1d array was expected. Please change the shape of y to (n_samples,), for example using ravel().\n",
      "  return fit_method(estimator, *args, **kwargs)\n",
      "c:\\ProgramData\\anaconda3\\Lib\\site-packages\\sklearn\\base.py:1151: DataConversionWarning: A column-vector y was passed when a 1d array was expected. Please change the shape of y to (n_samples,), for example using ravel().\n",
      "  return fit_method(estimator, *args, **kwargs)\n",
      "c:\\ProgramData\\anaconda3\\Lib\\site-packages\\sklearn\\base.py:1151: DataConversionWarning: A column-vector y was passed when a 1d array was expected. Please change the shape of y to (n_samples,), for example using ravel().\n",
      "  return fit_method(estimator, *args, **kwargs)\n",
      "c:\\ProgramData\\anaconda3\\Lib\\site-packages\\sklearn\\base.py:1151: DataConversionWarning: A column-vector y was passed when a 1d array was expected. Please change the shape of y to (n_samples,), for example using ravel().\n",
      "  return fit_method(estimator, *args, **kwargs)\n",
      "c:\\ProgramData\\anaconda3\\Lib\\site-packages\\sklearn\\base.py:1151: DataConversionWarning: A column-vector y was passed when a 1d array was expected. Please change the shape of y to (n_samples,), for example using ravel().\n",
      "  return fit_method(estimator, *args, **kwargs)\n",
      "c:\\ProgramData\\anaconda3\\Lib\\site-packages\\sklearn\\base.py:1151: DataConversionWarning: A column-vector y was passed when a 1d array was expected. Please change the shape of y to (n_samples,), for example using ravel().\n",
      "  return fit_method(estimator, *args, **kwargs)\n",
      "c:\\ProgramData\\anaconda3\\Lib\\site-packages\\sklearn\\base.py:1151: DataConversionWarning: A column-vector y was passed when a 1d array was expected. Please change the shape of y to (n_samples,), for example using ravel().\n",
      "  return fit_method(estimator, *args, **kwargs)\n",
      "c:\\ProgramData\\anaconda3\\Lib\\site-packages\\sklearn\\base.py:1151: DataConversionWarning: A column-vector y was passed when a 1d array was expected. Please change the shape of y to (n_samples,), for example using ravel().\n",
      "  return fit_method(estimator, *args, **kwargs)\n",
      "c:\\ProgramData\\anaconda3\\Lib\\site-packages\\sklearn\\base.py:1151: DataConversionWarning: A column-vector y was passed when a 1d array was expected. Please change the shape of y to (n_samples,), for example using ravel().\n",
=======
      "c:\\Users\\hamin\\anaconda3\\Lib\\site-packages\\sklearn\\base.py:1152: DataConversionWarning: A column-vector y was passed when a 1d array was expected. Please change the shape of y to (n_samples,), for example using ravel().\n",
      "  return fit_method(estimator, *args, **kwargs)\n",
      "c:\\Users\\hamin\\anaconda3\\Lib\\site-packages\\sklearn\\base.py:1152: DataConversionWarning: A column-vector y was passed when a 1d array was expected. Please change the shape of y to (n_samples,), for example using ravel().\n",
      "  return fit_method(estimator, *args, **kwargs)\n",
      "c:\\Users\\hamin\\anaconda3\\Lib\\site-packages\\sklearn\\base.py:1152: DataConversionWarning: A column-vector y was passed when a 1d array was expected. Please change the shape of y to (n_samples,), for example using ravel().\n",
      "  return fit_method(estimator, *args, **kwargs)\n",
      "c:\\Users\\hamin\\anaconda3\\Lib\\site-packages\\sklearn\\base.py:1152: DataConversionWarning: A column-vector y was passed when a 1d array was expected. Please change the shape of y to (n_samples,), for example using ravel().\n",
      "  return fit_method(estimator, *args, **kwargs)\n",
      "c:\\Users\\hamin\\anaconda3\\Lib\\site-packages\\sklearn\\base.py:1152: DataConversionWarning: A column-vector y was passed when a 1d array was expected. Please change the shape of y to (n_samples,), for example using ravel().\n",
      "  return fit_method(estimator, *args, **kwargs)\n",
      "c:\\Users\\hamin\\anaconda3\\Lib\\site-packages\\sklearn\\base.py:1152: DataConversionWarning: A column-vector y was passed when a 1d array was expected. Please change the shape of y to (n_samples,), for example using ravel().\n",
      "  return fit_method(estimator, *args, **kwargs)\n",
      "c:\\Users\\hamin\\anaconda3\\Lib\\site-packages\\sklearn\\base.py:1152: DataConversionWarning: A column-vector y was passed when a 1d array was expected. Please change the shape of y to (n_samples,), for example using ravel().\n",
      "  return fit_method(estimator, *args, **kwargs)\n",
      "c:\\Users\\hamin\\anaconda3\\Lib\\site-packages\\sklearn\\base.py:1152: DataConversionWarning: A column-vector y was passed when a 1d array was expected. Please change the shape of y to (n_samples,), for example using ravel().\n",
      "  return fit_method(estimator, *args, **kwargs)\n",
      "c:\\Users\\hamin\\anaconda3\\Lib\\site-packages\\sklearn\\base.py:1152: DataConversionWarning: A column-vector y was passed when a 1d array was expected. Please change the shape of y to (n_samples,), for example using ravel().\n",
      "  return fit_method(estimator, *args, **kwargs)\n",
      "c:\\Users\\hamin\\anaconda3\\Lib\\site-packages\\sklearn\\base.py:1152: DataConversionWarning: A column-vector y was passed when a 1d array was expected. Please change the shape of y to (n_samples,), for example using ravel().\n",
>>>>>>> be9033c5497b9e039ec0792b21ec1e05cd292501
      "  return fit_method(estimator, *args, **kwargs)\n"
     ]
    }
   ],
   "source": [
    "scores = cross_val_score(forest_reg, train, train_labels, scoring=\"neg_mean_squared_error\", cv=10)\n",
    "forest_rmse_scores = np.sqrt(-scores)"
   ]
  },
  {
   "cell_type": "code",
<<<<<<< HEAD
   "execution_count": 22,
=======
   "execution_count": 74,
>>>>>>> be9033c5497b9e039ec0792b21ec1e05cd292501
   "metadata": {},
   "outputs": [
    {
     "name": "stdout",
     "output_type": "stream",
     "text": [
<<<<<<< HEAD
      "Scores: [1.64721592 1.67520695 1.7380387  1.62452418 1.89117778 1.76891335\n",
      " 1.62581774 1.69819946 2.09212551 1.98609854]\n",
      "Mean: 1.7747318118573658\n",
      "Standard deviation: 0.15398538764175806\n"
=======
      "Scores: [1.64759661 1.69546997 1.76432907 1.63864722 1.9171688  1.75663424\n",
      " 1.64314586 1.70883306 2.08175537 1.97880415]\n",
      "Mean: 1.783238434394984\n",
      "Standard deviation: 0.14782818184551433\n"
>>>>>>> be9033c5497b9e039ec0792b21ec1e05cd292501
     ]
    }
   ],
   "source": [
    "def display_scores(scores):\n",
    "    print(\"Scores:\", scores)\n",
    "    print(\"Mean:\", scores.mean())\n",
    "    print(\"Standard deviation:\", scores.std())\n",
    "display_scores(forest_rmse_scores)"
   ]
  },
  {
   "cell_type": "markdown",
   "metadata": {},
   "source": [
    "# 4. ANN Models"
   ]
  },
  {
   "cell_type": "code",
<<<<<<< HEAD
   "execution_count": 26,
=======
   "execution_count": 75,
>>>>>>> be9033c5497b9e039ec0792b21ec1e05cd292501
   "metadata": {},
   "outputs": [
    {
     "name": "stdout",
     "output_type": "stream",
     "text": [
<<<<<<< HEAD
      "Epoch 1/100\n"
     ]
    },
    {
     "name": "stderr",
     "output_type": "stream",
     "text": [
      "C:\\Users\\minhbpham\\AppData\\Roaming\\Python\\Python311\\site-packages\\keras\\src\\layers\\core\\dense.py:87: UserWarning: Do not pass an `input_shape`/`input_dim` argument to a layer. When using Sequential models, prefer using an `Input(shape)` object as the first layer in the model instead.\n",
      "  super().__init__(activity_regularizer=activity_regularizer, **kwargs)\n"
     ]
    },
    {
     "name": "stdout",
     "output_type": "stream",
     "text": [
      "\u001b[1m128/128\u001b[0m \u001b[32m━━━━━━━━━━━━━━━━━━━━\u001b[0m\u001b[37m\u001b[0m \u001b[1m2s\u001b[0m 6ms/step - loss: 766.4536 - rmse: 22.8453 - val_loss: 82.4675 - val_rmse: 8.8970\n",
      "Epoch 2/100\n",
      "\u001b[1m128/128\u001b[0m \u001b[32m━━━━━━━━━━━━━━━━━━━━\u001b[0m\u001b[37m\u001b[0m \u001b[1m1s\u001b[0m 6ms/step - loss: 89.3772 - rmse: 9.3401 - val_loss: 66.1651 - val_rmse: 7.9530\n",
      "Epoch 3/100\n",
      "\u001b[1m128/128\u001b[0m \u001b[32m━━━━━━━━━━━━━━━━━━━━\u001b[0m\u001b[37m\u001b[0m \u001b[1m1s\u001b[0m 5ms/step - loss: 77.9774 - rmse: 8.6851 - val_loss: 53.9618 - val_rmse: 7.2057\n",
      "Epoch 4/100\n",
      "\u001b[1m128/128\u001b[0m \u001b[32m━━━━━━━━━━━━━━━━━━━━\u001b[0m\u001b[37m\u001b[0m \u001b[1m1s\u001b[0m 5ms/step - loss: 64.4828 - rmse: 7.8810 - val_loss: 36.7111 - val_rmse: 5.9499\n",
      "Epoch 5/100\n",
      "\u001b[1m128/128\u001b[0m \u001b[32m━━━━━━━━━━━━━━━━━━━━\u001b[0m\u001b[37m\u001b[0m \u001b[1m1s\u001b[0m 5ms/step - loss: 55.4073 - rmse: 7.2745 - val_loss: 23.4903 - val_rmse: 4.7614\n",
      "Epoch 6/100\n",
      "\u001b[1m128/128\u001b[0m \u001b[32m━━━━━━━━━━━━━━━━━━━━\u001b[0m\u001b[37m\u001b[0m \u001b[1m1s\u001b[0m 5ms/step - loss: 38.1615 - rmse: 6.0744 - val_loss: 14.4685 - val_rmse: 3.7469\n",
      "Epoch 7/100\n",
      "\u001b[1m128/128\u001b[0m \u001b[32m━━━━━━━━━━━━━━━━━━━━\u001b[0m\u001b[37m\u001b[0m \u001b[1m1s\u001b[0m 5ms/step - loss: 30.8320 - rmse: 5.4892 - val_loss: 10.3976 - val_rmse: 3.1839\n",
      "Epoch 8/100\n",
      "\u001b[1m128/128\u001b[0m \u001b[32m━━━━━━━━━━━━━━━━━━━━\u001b[0m\u001b[37m\u001b[0m \u001b[1m1s\u001b[0m 5ms/step - loss: 24.5051 - rmse: 4.9079 - val_loss: 7.9405 - val_rmse: 2.7939\n",
      "Epoch 9/100\n",
      "\u001b[1m128/128\u001b[0m \u001b[32m━━━━━━━━━━━━━━━━━━━━\u001b[0m\u001b[37m\u001b[0m \u001b[1m1s\u001b[0m 5ms/step - loss: 23.2120 - rmse: 4.7544 - val_loss: 7.1721 - val_rmse: 2.6483\n",
      "Epoch 10/100\n",
      "\u001b[1m128/128\u001b[0m \u001b[32m━━━━━━━━━━━━━━━━━━━━\u001b[0m\u001b[37m\u001b[0m \u001b[1m1s\u001b[0m 5ms/step - loss: 21.4970 - rmse: 4.5976 - val_loss: 5.7351 - val_rmse: 2.3543\n",
      "Epoch 11/100\n",
      "\u001b[1m128/128\u001b[0m \u001b[32m━━━━━━━━━━━━━━━━━━━━\u001b[0m\u001b[37m\u001b[0m \u001b[1m1s\u001b[0m 6ms/step - loss: 19.6987 - rmse: 4.3978 - val_loss: 5.3035 - val_rmse: 2.2794\n",
      "Epoch 12/100\n",
      "\u001b[1m128/128\u001b[0m \u001b[32m━━━━━━━━━━━━━━━━━━━━\u001b[0m\u001b[37m\u001b[0m \u001b[1m1s\u001b[0m 5ms/step - loss: 22.6606 - rmse: 4.6731 - val_loss: 4.4471 - val_rmse: 2.0779\n",
      "Epoch 13/100\n",
      "\u001b[1m128/128\u001b[0m \u001b[32m━━━━━━━━━━━━━━━━━━━━\u001b[0m\u001b[37m\u001b[0m \u001b[1m1s\u001b[0m 5ms/step - loss: 17.4025 - rmse: 4.1304 - val_loss: 4.3797 - val_rmse: 2.0656\n",
      "Epoch 14/100\n",
      "\u001b[1m128/128\u001b[0m \u001b[32m━━━━━━━━━━━━━━━━━━━━\u001b[0m\u001b[37m\u001b[0m \u001b[1m1s\u001b[0m 5ms/step - loss: 18.3163 - rmse: 4.2275 - val_loss: 5.6252 - val_rmse: 2.3381\n",
      "Epoch 15/100\n",
      "\u001b[1m128/128\u001b[0m \u001b[32m━━━━━━━━━━━━━━━━━━━━\u001b[0m\u001b[37m\u001b[0m \u001b[1m1s\u001b[0m 5ms/step - loss: 18.3142 - rmse: 4.2289 - val_loss: 4.1289 - val_rmse: 1.9995\n",
      "Epoch 16/100\n",
      "\u001b[1m128/128\u001b[0m \u001b[32m━━━━━━━━━━━━━━━━━━━━\u001b[0m\u001b[37m\u001b[0m \u001b[1m1s\u001b[0m 5ms/step - loss: 15.9255 - rmse: 3.9491 - val_loss: 4.5143 - val_rmse: 2.0995\n",
      "Epoch 17/100\n",
      "\u001b[1m128/128\u001b[0m \u001b[32m━━━━━━━━━━━━━━━━━━━━\u001b[0m\u001b[37m\u001b[0m \u001b[1m1s\u001b[0m 5ms/step - loss: 16.5317 - rmse: 4.0154 - val_loss: 4.0266 - val_rmse: 1.9746\n",
      "Epoch 18/100\n",
      "\u001b[1m128/128\u001b[0m \u001b[32m━━━━━━━━━━━━━━━━━━━━\u001b[0m\u001b[37m\u001b[0m \u001b[1m1s\u001b[0m 4ms/step - loss: 15.6307 - rmse: 3.9172 - val_loss: 4.6535 - val_rmse: 2.1389\n",
      "Epoch 19/100\n",
      "\u001b[1m128/128\u001b[0m \u001b[32m━━━━━━━━━━━━━━━━━━━━\u001b[0m\u001b[37m\u001b[0m \u001b[1m1s\u001b[0m 4ms/step - loss: 16.9062 - rmse: 4.0698 - val_loss: 7.6805 - val_rmse: 2.7550\n",
      "Epoch 20/100\n",
      "\u001b[1m128/128\u001b[0m \u001b[32m━━━━━━━━━━━━━━━━━━━━\u001b[0m\u001b[37m\u001b[0m \u001b[1m1s\u001b[0m 6ms/step - loss: 16.2258 - rmse: 3.9816 - val_loss: 4.4524 - val_rmse: 2.0814\n",
      "Epoch 21/100\n",
      "\u001b[1m128/128\u001b[0m \u001b[32m━━━━━━━━━━━━━━━━━━━━\u001b[0m\u001b[37m\u001b[0m \u001b[1m1s\u001b[0m 5ms/step - loss: 15.1051 - rmse: 3.8508 - val_loss: 4.4062 - val_rmse: 2.0740\n",
      "Epoch 22/100\n",
      "\u001b[1m128/128\u001b[0m \u001b[32m━━━━━━━━━━━━━━━━━━━━\u001b[0m\u001b[37m\u001b[0m \u001b[1m1s\u001b[0m 4ms/step - loss: 15.2450 - rmse: 3.8707 - val_loss: 3.4238 - val_rmse: 1.8157\n",
      "Epoch 23/100\n",
      "\u001b[1m128/128\u001b[0m \u001b[32m━━━━━━━━━━━━━━━━━━━━\u001b[0m\u001b[37m\u001b[0m \u001b[1m1s\u001b[0m 5ms/step - loss: 14.6747 - rmse: 3.7753 - val_loss: 5.4272 - val_rmse: 2.3102\n",
      "Epoch 24/100\n",
      "\u001b[1m128/128\u001b[0m \u001b[32m━━━━━━━━━━━━━━━━━━━━\u001b[0m\u001b[37m\u001b[0m \u001b[1m1s\u001b[0m 7ms/step - loss: 15.5518 - rmse: 3.9027 - val_loss: 3.3872 - val_rmse: 1.8136\n",
      "Epoch 25/100\n",
      "\u001b[1m128/128\u001b[0m \u001b[32m━━━━━━━━━━━━━━━━━━━━\u001b[0m\u001b[37m\u001b[0m \u001b[1m1s\u001b[0m 4ms/step - loss: 15.8622 - rmse: 3.9374 - val_loss: 7.9067 - val_rmse: 2.7814\n",
      "Epoch 26/100\n",
      "\u001b[1m128/128\u001b[0m \u001b[32m━━━━━━━━━━━━━━━━━━━━\u001b[0m\u001b[37m\u001b[0m \u001b[1m1s\u001b[0m 4ms/step - loss: 18.6935 - rmse: 4.2156 - val_loss: 3.7134 - val_rmse: 1.8918\n",
      "Epoch 27/100\n",
      "\u001b[1m128/128\u001b[0m \u001b[32m━━━━━━━━━━━━━━━━━━━━\u001b[0m\u001b[37m\u001b[0m \u001b[1m1s\u001b[0m 4ms/step - loss: 14.9044 - rmse: 3.8132 - val_loss: 11.9830 - val_rmse: 3.4425\n",
      "Epoch 28/100\n",
      "\u001b[1m128/128\u001b[0m \u001b[32m━━━━━━━━━━━━━━━━━━━━\u001b[0m\u001b[37m\u001b[0m \u001b[1m1s\u001b[0m 4ms/step - loss: 16.4669 - rmse: 3.9908 - val_loss: 4.6445 - val_rmse: 2.1444\n",
      "Epoch 29/100\n",
      "\u001b[1m128/128\u001b[0m \u001b[32m━━━━━━━━━━━━━━━━━━━━\u001b[0m\u001b[37m\u001b[0m \u001b[1m1s\u001b[0m 4ms/step - loss: 14.7683 - rmse: 3.7986 - val_loss: 5.2589 - val_rmse: 2.2619\n",
      "Epoch 30/100\n",
      "\u001b[1m128/128\u001b[0m \u001b[32m━━━━━━━━━━━━━━━━━━━━\u001b[0m\u001b[37m\u001b[0m \u001b[1m1s\u001b[0m 5ms/step - loss: 14.6251 - rmse: 3.7815 - val_loss: 7.3437 - val_rmse: 2.6896\n",
      "Epoch 31/100\n",
      "\u001b[1m128/128\u001b[0m \u001b[32m━━━━━━━━━━━━━━━━━━━━\u001b[0m\u001b[37m\u001b[0m \u001b[1m1s\u001b[0m 4ms/step - loss: 14.9478 - rmse: 3.8293 - val_loss: 3.6569 - val_rmse: 1.8818\n",
      "Epoch 32/100\n",
      "\u001b[1m128/128\u001b[0m \u001b[32m━━━━━━━━━━━━━━━━━━━━\u001b[0m\u001b[37m\u001b[0m \u001b[1m1s\u001b[0m 5ms/step - loss: 13.8483 - rmse: 3.6923 - val_loss: 3.2213 - val_rmse: 1.7543\n",
      "Epoch 33/100\n",
      "\u001b[1m128/128\u001b[0m \u001b[32m━━━━━━━━━━━━━━━━━━━━\u001b[0m\u001b[37m\u001b[0m \u001b[1m1s\u001b[0m 6ms/step - loss: 15.1049 - rmse: 3.8397 - val_loss: 4.1804 - val_rmse: 2.0136\n",
      "Epoch 34/100\n",
      "\u001b[1m128/128\u001b[0m \u001b[32m━━━━━━━━━━━━━━━━━━━━\u001b[0m\u001b[37m\u001b[0m \u001b[1m1s\u001b[0m 5ms/step - loss: 15.8524 - rmse: 3.9421 - val_loss: 3.3784 - val_rmse: 1.8067\n",
      "Epoch 35/100\n",
      "\u001b[1m128/128\u001b[0m \u001b[32m━━━━━━━━━━━━━━━━━━━━\u001b[0m\u001b[37m\u001b[0m \u001b[1m1s\u001b[0m 5ms/step - loss: 15.6754 - rmse: 3.9076 - val_loss: 4.5403 - val_rmse: 2.1024\n",
      "Epoch 36/100\n",
      "\u001b[1m128/128\u001b[0m \u001b[32m━━━━━━━━━━━━━━━━━━━━\u001b[0m\u001b[37m\u001b[0m \u001b[1m1s\u001b[0m 6ms/step - loss: 15.5947 - rmse: 3.8985 - val_loss: 5.2754 - val_rmse: 2.2766\n",
      "Epoch 37/100\n",
      "\u001b[1m128/128\u001b[0m \u001b[32m━━━━━━━━━━━━━━━━━━━━\u001b[0m\u001b[37m\u001b[0m \u001b[1m1s\u001b[0m 6ms/step - loss: 14.1747 - rmse: 3.7285 - val_loss: 3.3296 - val_rmse: 1.7984\n",
      "Epoch 38/100\n",
      "\u001b[1m128/128\u001b[0m \u001b[32m━━━━━━━━━━━━━━━━━━━━\u001b[0m\u001b[37m\u001b[0m \u001b[1m1s\u001b[0m 5ms/step - loss: 14.9342 - rmse: 3.8167 - val_loss: 4.0770 - val_rmse: 1.9842\n",
      "Epoch 39/100\n",
      "\u001b[1m128/128\u001b[0m \u001b[32m━━━━━━━━━━━━━━━━━━━━\u001b[0m\u001b[37m\u001b[0m \u001b[1m1s\u001b[0m 4ms/step - loss: 13.0290 - rmse: 3.5757 - val_loss: 4.1558 - val_rmse: 2.0008\n",
      "Epoch 40/100\n",
      "\u001b[1m128/128\u001b[0m \u001b[32m━━━━━━━━━━━━━━━━━━━━\u001b[0m\u001b[37m\u001b[0m \u001b[1m1s\u001b[0m 5ms/step - loss: 14.6064 - rmse: 3.7819 - val_loss: 3.9391 - val_rmse: 1.9396\n",
      "Epoch 41/100\n",
      "\u001b[1m128/128\u001b[0m \u001b[32m━━━━━━━━━━━━━━━━━━━━\u001b[0m\u001b[37m\u001b[0m \u001b[1m1s\u001b[0m 5ms/step - loss: 14.5518 - rmse: 3.7691 - val_loss: 3.8416 - val_rmse: 1.9150\n",
      "Epoch 42/100\n",
      "\u001b[1m128/128\u001b[0m \u001b[32m━━━━━━━━━━━━━━━━━━━━\u001b[0m\u001b[37m\u001b[0m \u001b[1m1s\u001b[0m 5ms/step - loss: 14.2049 - rmse: 3.7247 - val_loss: 3.9614 - val_rmse: 1.9705\n",
      "Epoch 43/100\n",
      "\u001b[1m128/128\u001b[0m \u001b[32m━━━━━━━━━━━━━━━━━━━━\u001b[0m\u001b[37m\u001b[0m \u001b[1m1s\u001b[0m 5ms/step - loss: 13.2307 - rmse: 3.6002 - val_loss: 3.9411 - val_rmse: 1.9542\n",
      "Epoch 44/100\n",
      "\u001b[1m128/128\u001b[0m \u001b[32m━━━━━━━━━━━━━━━━━━━━\u001b[0m\u001b[37m\u001b[0m \u001b[1m1s\u001b[0m 5ms/step - loss: 14.2350 - rmse: 3.7345 - val_loss: 4.7396 - val_rmse: 2.1566\n",
      "Epoch 45/100\n",
      "\u001b[1m128/128\u001b[0m \u001b[32m━━━━━━━━━━━━━━━━━━━━\u001b[0m\u001b[37m\u001b[0m \u001b[1m1s\u001b[0m 6ms/step - loss: 15.2923 - rmse: 3.8595 - val_loss: 8.0605 - val_rmse: 2.8263\n",
      "Epoch 46/100\n",
      "\u001b[1m128/128\u001b[0m \u001b[32m━━━━━━━━━━━━━━━━━━━━\u001b[0m\u001b[37m\u001b[0m \u001b[1m1s\u001b[0m 6ms/step - loss: 14.0683 - rmse: 3.7144 - val_loss: 4.5132 - val_rmse: 2.0896\n",
      "Epoch 47/100\n",
      "\u001b[1m128/128\u001b[0m \u001b[32m━━━━━━━━━━━━━━━━━━━━\u001b[0m\u001b[37m\u001b[0m \u001b[1m1s\u001b[0m 4ms/step - loss: 16.4100 - rmse: 3.9895 - val_loss: 3.7374 - val_rmse: 1.9148\n",
      "Epoch 48/100\n",
      "\u001b[1m128/128\u001b[0m \u001b[32m━━━━━━━━━━━━━━━━━━━━\u001b[0m\u001b[37m\u001b[0m \u001b[1m1s\u001b[0m 4ms/step - loss: 13.4442 - rmse: 3.6263 - val_loss: 5.0608 - val_rmse: 2.2320\n",
      "Epoch 49/100\n",
      "\u001b[1m128/128\u001b[0m \u001b[32m━━━━━━━━━━━━━━━━━━━━\u001b[0m\u001b[37m\u001b[0m \u001b[1m1s\u001b[0m 5ms/step - loss: 14.5327 - rmse: 3.7627 - val_loss: 5.3958 - val_rmse: 2.3071\n",
      "Epoch 50/100\n",
      "\u001b[1m128/128\u001b[0m \u001b[32m━━━━━━━━━━━━━━━━━━━━\u001b[0m\u001b[37m\u001b[0m \u001b[1m1s\u001b[0m 4ms/step - loss: 13.7984 - rmse: 3.6731 - val_loss: 2.7727 - val_rmse: 1.6210\n",
      "Epoch 51/100\n",
      "\u001b[1m128/128\u001b[0m \u001b[32m━━━━━━━━━━━━━━━━━━━━\u001b[0m\u001b[37m\u001b[0m \u001b[1m1s\u001b[0m 6ms/step - loss: 13.9549 - rmse: 3.6899 - val_loss: 4.5206 - val_rmse: 2.0900\n",
      "Epoch 52/100\n",
      "\u001b[1m128/128\u001b[0m \u001b[32m━━━━━━━━━━━━━━━━━━━━\u001b[0m\u001b[37m\u001b[0m \u001b[1m1s\u001b[0m 5ms/step - loss: 13.7842 - rmse: 3.6699 - val_loss: 2.7301 - val_rmse: 1.6238\n",
      "Epoch 53/100\n",
      "\u001b[1m128/128\u001b[0m \u001b[32m━━━━━━━━━━━━━━━━━━━━\u001b[0m\u001b[37m\u001b[0m \u001b[1m1s\u001b[0m 6ms/step - loss: 14.3974 - rmse: 3.7571 - val_loss: 8.5456 - val_rmse: 2.8998\n",
      "Epoch 54/100\n",
      "\u001b[1m128/128\u001b[0m \u001b[32m━━━━━━━━━━━━━━━━━━━━\u001b[0m\u001b[37m\u001b[0m \u001b[1m1s\u001b[0m 5ms/step - loss: 14.2983 - rmse: 3.7329 - val_loss: 3.3246 - val_rmse: 1.7828\n",
      "Epoch 55/100\n",
      "\u001b[1m128/128\u001b[0m \u001b[32m━━━━━━━━━━━━━━━━━━━━\u001b[0m\u001b[37m\u001b[0m \u001b[1m1s\u001b[0m 5ms/step - loss: 13.7692 - rmse: 3.6748 - val_loss: 3.5731 - val_rmse: 1.8592\n",
      "Epoch 56/100\n",
      "\u001b[1m128/128\u001b[0m \u001b[32m━━━━━━━━━━━━━━━━━━━━\u001b[0m\u001b[37m\u001b[0m \u001b[1m1s\u001b[0m 5ms/step - loss: 13.3165 - rmse: 3.5960 - val_loss: 3.1742 - val_rmse: 1.7524\n",
      "Epoch 57/100\n",
      "\u001b[1m128/128\u001b[0m \u001b[32m━━━━━━━━━━━━━━━━━━━━\u001b[0m\u001b[37m\u001b[0m \u001b[1m1s\u001b[0m 5ms/step - loss: 13.5888 - rmse: 3.6480 - val_loss: 4.1715 - val_rmse: 2.0092\n",
      "Epoch 58/100\n",
      "\u001b[1m128/128\u001b[0m \u001b[32m━━━━━━━━━━━━━━━━━━━━\u001b[0m\u001b[37m\u001b[0m \u001b[1m1s\u001b[0m 5ms/step - loss: 12.8467 - rmse: 3.5503 - val_loss: 5.0328 - val_rmse: 2.2220\n",
      "Epoch 59/100\n",
      "\u001b[1m128/128\u001b[0m \u001b[32m━━━━━━━━━━━━━━━━━━━━\u001b[0m\u001b[37m\u001b[0m \u001b[1m1s\u001b[0m 5ms/step - loss: 13.4399 - rmse: 3.6095 - val_loss: 3.4305 - val_rmse: 1.8159\n",
      "Epoch 60/100\n",
      "\u001b[1m128/128\u001b[0m \u001b[32m━━━━━━━━━━━━━━━━━━━━\u001b[0m\u001b[37m\u001b[0m \u001b[1m1s\u001b[0m 5ms/step - loss: 13.0135 - rmse: 3.5652 - val_loss: 2.9579 - val_rmse: 1.6987\n",
      "Epoch 61/100\n",
      "\u001b[1m128/128\u001b[0m \u001b[32m━━━━━━━━━━━━━━━━━━━━\u001b[0m\u001b[37m\u001b[0m \u001b[1m1s\u001b[0m 5ms/step - loss: 12.8046 - rmse: 3.5464 - val_loss: 2.9886 - val_rmse: 1.6892\n",
      "Epoch 62/100\n",
      "\u001b[1m128/128\u001b[0m \u001b[32m━━━━━━━━━━━━━━━━━━━━\u001b[0m\u001b[37m\u001b[0m \u001b[1m1s\u001b[0m 5ms/step - loss: 12.7860 - rmse: 3.5386 - val_loss: 3.5360 - val_rmse: 1.8522\n",
      "Epoch 63/100\n",
      "\u001b[1m128/128\u001b[0m \u001b[32m━━━━━━━━━━━━━━━━━━━━\u001b[0m\u001b[37m\u001b[0m \u001b[1m1s\u001b[0m 5ms/step - loss: 13.2607 - rmse: 3.6017 - val_loss: 3.5433 - val_rmse: 1.8649\n",
      "Epoch 64/100\n",
      "\u001b[1m128/128\u001b[0m \u001b[32m━━━━━━━━━━━━━━━━━━━━\u001b[0m\u001b[37m\u001b[0m \u001b[1m1s\u001b[0m 4ms/step - loss: 13.5086 - rmse: 3.6308 - val_loss: 4.9130 - val_rmse: 2.2014\n",
      "Epoch 65/100\n",
      "\u001b[1m128/128\u001b[0m \u001b[32m━━━━━━━━━━━━━━━━━━━━\u001b[0m\u001b[37m\u001b[0m \u001b[1m1s\u001b[0m 6ms/step - loss: 15.1986 - rmse: 3.8365 - val_loss: 6.2574 - val_rmse: 2.4879\n",
      "Epoch 66/100\n",
      "\u001b[1m128/128\u001b[0m \u001b[32m━━━━━━━━━━━━━━━━━━━━\u001b[0m\u001b[37m\u001b[0m \u001b[1m1s\u001b[0m 4ms/step - loss: 15.3154 - rmse: 3.8575 - val_loss: 9.2999 - val_rmse: 3.0346\n",
      "Epoch 67/100\n",
      "\u001b[1m128/128\u001b[0m \u001b[32m━━━━━━━━━━━━━━━━━━━━\u001b[0m\u001b[37m\u001b[0m \u001b[1m1s\u001b[0m 5ms/step - loss: 14.1298 - rmse: 3.7185 - val_loss: 7.1192 - val_rmse: 2.6345\n",
      "Epoch 68/100\n",
      "\u001b[1m128/128\u001b[0m \u001b[32m━━━━━━━━━━━━━━━━━━━━\u001b[0m\u001b[37m\u001b[0m \u001b[1m1s\u001b[0m 4ms/step - loss: 15.5529 - rmse: 3.9026 - val_loss: 2.6474 - val_rmse: 1.6083\n",
      "Epoch 69/100\n",
      "\u001b[1m128/128\u001b[0m \u001b[32m━━━━━━━━━━━━━━━━━━━━\u001b[0m\u001b[37m\u001b[0m \u001b[1m1s\u001b[0m 4ms/step - loss: 13.2371 - rmse: 3.5910 - val_loss: 7.9684 - val_rmse: 2.8107\n",
      "Epoch 70/100\n",
      "\u001b[1m128/128\u001b[0m \u001b[32m━━━━━━━━━━━━━━━━━━━━\u001b[0m\u001b[37m\u001b[0m \u001b[1m1s\u001b[0m 4ms/step - loss: 13.9370 - rmse: 3.6859 - val_loss: 4.5595 - val_rmse: 2.1059\n",
      "Epoch 71/100\n",
      "\u001b[1m128/128\u001b[0m \u001b[32m━━━━━━━━━━━━━━━━━━━━\u001b[0m\u001b[37m\u001b[0m \u001b[1m1s\u001b[0m 4ms/step - loss: 12.7827 - rmse: 3.5376 - val_loss: 5.5312 - val_rmse: 2.3277\n",
      "Epoch 72/100\n",
      "\u001b[1m128/128\u001b[0m \u001b[32m━━━━━━━━━━━━━━━━━━━━\u001b[0m\u001b[37m\u001b[0m \u001b[1m1s\u001b[0m 4ms/step - loss: 12.6798 - rmse: 3.5201 - val_loss: 3.0288 - val_rmse: 1.6942\n",
      "Epoch 73/100\n",
      "\u001b[1m128/128\u001b[0m \u001b[32m━━━━━━━━━━━━━━━━━━━━\u001b[0m\u001b[37m\u001b[0m \u001b[1m1s\u001b[0m 5ms/step - loss: 12.7358 - rmse: 3.5315 - val_loss: 2.8920 - val_rmse: 1.6713\n",
      "Epoch 74/100\n",
      "\u001b[1m128/128\u001b[0m \u001b[32m━━━━━━━━━━━━━━━━━━━━\u001b[0m\u001b[37m\u001b[0m \u001b[1m1s\u001b[0m 4ms/step - loss: 12.2272 - rmse: 3.4537 - val_loss: 2.9178 - val_rmse: 1.6712\n",
      "Epoch 75/100\n",
      "\u001b[1m128/128\u001b[0m \u001b[32m━━━━━━━━━━━━━━━━━━━━\u001b[0m\u001b[37m\u001b[0m \u001b[1m1s\u001b[0m 4ms/step - loss: 12.5541 - rmse: 3.5096 - val_loss: 2.6187 - val_rmse: 1.5921\n",
      "Epoch 76/100\n",
      "\u001b[1m128/128\u001b[0m \u001b[32m━━━━━━━━━━━━━━━━━━━━\u001b[0m\u001b[37m\u001b[0m \u001b[1m1s\u001b[0m 4ms/step - loss: 13.1080 - rmse: 3.5772 - val_loss: 3.5614 - val_rmse: 1.8601\n",
      "Epoch 77/100\n",
      "\u001b[1m128/128\u001b[0m \u001b[32m━━━━━━━━━━━━━━━━━━━━\u001b[0m\u001b[37m\u001b[0m \u001b[1m1s\u001b[0m 4ms/step - loss: 13.3488 - rmse: 3.6128 - val_loss: 3.9963 - val_rmse: 1.9706\n",
      "Epoch 78/100\n",
      "\u001b[1m128/128\u001b[0m \u001b[32m━━━━━━━━━━━━━━━━━━━━\u001b[0m\u001b[37m\u001b[0m \u001b[1m1s\u001b[0m 5ms/step - loss: 12.4716 - rmse: 3.4867 - val_loss: 5.1032 - val_rmse: 2.2413\n",
      "Epoch 79/100\n",
      "\u001b[1m128/128\u001b[0m \u001b[32m━━━━━━━━━━━━━━━━━━━━\u001b[0m\u001b[37m\u001b[0m \u001b[1m1s\u001b[0m 5ms/step - loss: 13.0285 - rmse: 3.5571 - val_loss: 3.9186 - val_rmse: 1.9614\n",
      "Epoch 80/100\n",
      "\u001b[1m128/128\u001b[0m \u001b[32m━━━━━━━━━━━━━━━━━━━━\u001b[0m\u001b[37m\u001b[0m \u001b[1m1s\u001b[0m 5ms/step - loss: 11.8551 - rmse: 3.4054 - val_loss: 3.0096 - val_rmse: 1.7020\n",
      "Epoch 81/100\n",
      "\u001b[1m128/128\u001b[0m \u001b[32m━━━━━━━━━━━━━━━━━━━━\u001b[0m\u001b[37m\u001b[0m \u001b[1m1s\u001b[0m 5ms/step - loss: 13.2425 - rmse: 3.5995 - val_loss: 2.9325 - val_rmse: 1.6855\n",
      "Epoch 82/100\n",
      "\u001b[1m128/128\u001b[0m \u001b[32m━━━━━━━━━━━━━━━━━━━━\u001b[0m\u001b[37m\u001b[0m \u001b[1m1s\u001b[0m 5ms/step - loss: 13.0220 - rmse: 3.5740 - val_loss: 5.5058 - val_rmse: 2.3302\n",
      "Epoch 83/100\n",
      "\u001b[1m128/128\u001b[0m \u001b[32m━━━━━━━━━━━━━━━━━━━━\u001b[0m\u001b[37m\u001b[0m \u001b[1m1s\u001b[0m 5ms/step - loss: 12.7709 - rmse: 3.5437 - val_loss: 8.9775 - val_rmse: 2.9837\n",
      "Epoch 84/100\n",
      "\u001b[1m128/128\u001b[0m \u001b[32m━━━━━━━━━━━━━━━━━━━━\u001b[0m\u001b[37m\u001b[0m \u001b[1m1s\u001b[0m 4ms/step - loss: 14.5915 - rmse: 3.7732 - val_loss: 2.8569 - val_rmse: 1.6560\n",
      "Epoch 85/100\n",
      "\u001b[1m128/128\u001b[0m \u001b[32m━━━━━━━━━━━━━━━━━━━━\u001b[0m\u001b[37m\u001b[0m \u001b[1m1s\u001b[0m 4ms/step - loss: 11.8638 - rmse: 3.4062 - val_loss: 2.9839 - val_rmse: 1.7014\n",
      "Epoch 86/100\n",
      "\u001b[1m128/128\u001b[0m \u001b[32m━━━━━━━━━━━━━━━━━━━━\u001b[0m\u001b[37m\u001b[0m \u001b[1m1s\u001b[0m 4ms/step - loss: 12.0838 - rmse: 3.4306 - val_loss: 14.2981 - val_rmse: 3.7680\n",
      "Epoch 87/100\n",
      "\u001b[1m128/128\u001b[0m \u001b[32m━━━━━━━━━━━━━━━━━━━━\u001b[0m\u001b[37m\u001b[0m \u001b[1m1s\u001b[0m 4ms/step - loss: 14.0491 - rmse: 3.6935 - val_loss: 4.0062 - val_rmse: 1.9820\n",
      "Epoch 88/100\n",
      "\u001b[1m128/128\u001b[0m \u001b[32m━━━━━━━━━━━━━━━━━━━━\u001b[0m\u001b[37m\u001b[0m \u001b[1m1s\u001b[0m 4ms/step - loss: 11.0345 - rmse: 3.2880 - val_loss: 2.8538 - val_rmse: 1.6502\n",
      "Epoch 89/100\n",
      "\u001b[1m128/128\u001b[0m \u001b[32m━━━━━━━━━━━━━━━━━━━━\u001b[0m\u001b[37m\u001b[0m \u001b[1m1s\u001b[0m 5ms/step - loss: 15.4066 - rmse: 3.8544 - val_loss: 2.7893 - val_rmse: 1.6451\n",
      "Epoch 90/100\n",
      "\u001b[1m128/128\u001b[0m \u001b[32m━━━━━━━━━━━━━━━━━━━━\u001b[0m\u001b[37m\u001b[0m \u001b[1m1s\u001b[0m 5ms/step - loss: 13.0052 - rmse: 3.5677 - val_loss: 3.2184 - val_rmse: 1.7716\n",
      "Epoch 91/100\n",
      "\u001b[1m128/128\u001b[0m \u001b[32m━━━━━━━━━━━━━━━━━━━━\u001b[0m\u001b[37m\u001b[0m \u001b[1m1s\u001b[0m 5ms/step - loss: 12.6561 - rmse: 3.5157 - val_loss: 2.6744 - val_rmse: 1.6156\n",
      "Epoch 92/100\n",
      "\u001b[1m128/128\u001b[0m \u001b[32m━━━━━━━━━━━━━━━━━━━━\u001b[0m\u001b[37m\u001b[0m \u001b[1m1s\u001b[0m 5ms/step - loss: 12.0852 - rmse: 3.4401 - val_loss: 3.8715 - val_rmse: 1.9411\n",
      "Epoch 93/100\n",
      "\u001b[1m128/128\u001b[0m \u001b[32m━━━━━━━━━━━━━━━━━━━━\u001b[0m\u001b[37m\u001b[0m \u001b[1m1s\u001b[0m 5ms/step - loss: 12.6226 - rmse: 3.5060 - val_loss: 5.7971 - val_rmse: 2.3925\n",
      "Epoch 94/100\n",
      "\u001b[1m128/128\u001b[0m \u001b[32m━━━━━━━━━━━━━━━━━━━━\u001b[0m\u001b[37m\u001b[0m \u001b[1m1s\u001b[0m 5ms/step - loss: 12.3354 - rmse: 3.4635 - val_loss: 4.5374 - val_rmse: 2.1084\n",
      "Epoch 95/100\n",
      "\u001b[1m128/128\u001b[0m \u001b[32m━━━━━━━━━━━━━━━━━━━━\u001b[0m\u001b[37m\u001b[0m \u001b[1m1s\u001b[0m 4ms/step - loss: 13.7053 - rmse: 3.6618 - val_loss: 3.0782 - val_rmse: 1.7381\n",
      "Epoch 96/100\n",
      "\u001b[1m128/128\u001b[0m \u001b[32m━━━━━━━━━━━━━━━━━━━━\u001b[0m\u001b[37m\u001b[0m \u001b[1m1s\u001b[0m 4ms/step - loss: 11.6109 - rmse: 3.3684 - val_loss: 3.4122 - val_rmse: 1.8248\n",
      "Epoch 97/100\n",
      "\u001b[1m128/128\u001b[0m \u001b[32m━━━━━━━━━━━━━━━━━━━━\u001b[0m\u001b[37m\u001b[0m \u001b[1m1s\u001b[0m 4ms/step - loss: 12.2866 - rmse: 3.4712 - val_loss: 2.9200 - val_rmse: 1.6708\n",
      "Epoch 98/100\n",
      "\u001b[1m128/128\u001b[0m \u001b[32m━━━━━━━━━━━━━━━━━━━━\u001b[0m\u001b[37m\u001b[0m \u001b[1m1s\u001b[0m 5ms/step - loss: 13.5084 - rmse: 3.6473 - val_loss: 5.4656 - val_rmse: 2.3163\n",
      "Epoch 99/100\n",
      "\u001b[1m128/128\u001b[0m \u001b[32m━━━━━━━━━━━━━━━━━━━━\u001b[0m\u001b[37m\u001b[0m \u001b[1m1s\u001b[0m 4ms/step - loss: 11.8547 - rmse: 3.4047 - val_loss: 4.4339 - val_rmse: 2.0788\n",
      "Epoch 100/100\n",
      "\u001b[1m128/128\u001b[0m \u001b[32m━━━━━━━━━━━━━━━━━━━━\u001b[0m\u001b[37m\u001b[0m \u001b[1m1s\u001b[0m 4ms/step - loss: 12.6161 - rmse: 3.5015 - val_loss: 4.9741 - val_rmse: 2.2196\n"
=======
      "Epoch 1/100\n",
      "128/128 [==============================] - 4s 14ms/step - loss: 306.6294 - rmse: 14.2000 - val_loss: 76.9745 - val_rmse: 8.5817\n",
      "Epoch 2/100\n",
      "128/128 [==============================] - 2s 17ms/step - loss: 90.8005 - rmse: 9.3887 - val_loss: 66.8812 - val_rmse: 8.0067\n",
      "Epoch 3/100\n",
      "128/128 [==============================] - 1s 10ms/step - loss: 80.6573 - rmse: 8.8183 - val_loss: 53.9821 - val_rmse: 7.2062\n",
      "Epoch 4/100\n",
      "128/128 [==============================] - 1s 5ms/step - loss: 61.6996 - rmse: 7.7398 - val_loss: 37.9480 - val_rmse: 6.0552\n",
      "Epoch 5/100\n",
      "128/128 [==============================] - 1s 5ms/step - loss: 45.3728 - rmse: 6.6331 - val_loss: 26.7461 - val_rmse: 5.1007\n",
      "Epoch 6/100\n",
      "128/128 [==============================] - 1s 5ms/step - loss: 32.9728 - rmse: 5.6863 - val_loss: 13.2194 - val_rmse: 3.5833\n",
      "Epoch 7/100\n",
      "128/128 [==============================] - 1s 5ms/step - loss: 27.4481 - rmse: 5.1654 - val_loss: 10.2969 - val_rmse: 3.1776\n",
      "Epoch 8/100\n",
      "128/128 [==============================] - 1s 5ms/step - loss: 24.7392 - rmse: 4.9115 - val_loss: 6.9605 - val_rmse: 2.6092\n",
      "Epoch 9/100\n",
      "128/128 [==============================] - 1s 5ms/step - loss: 22.0016 - rmse: 4.6392 - val_loss: 7.1640 - val_rmse: 2.6538\n",
      "Epoch 10/100\n",
      "128/128 [==============================] - 1s 6ms/step - loss: 20.0224 - rmse: 4.4248 - val_loss: 5.3177 - val_rmse: 2.2737\n",
      "Epoch 11/100\n",
      "128/128 [==============================] - 1s 5ms/step - loss: 17.9229 - rmse: 4.1949 - val_loss: 22.8898 - val_rmse: 4.7662\n",
      "Epoch 12/100\n",
      "128/128 [==============================] - 1s 5ms/step - loss: 19.3830 - rmse: 4.3539 - val_loss: 4.4127 - val_rmse: 2.0615\n",
      "Epoch 13/100\n",
      "128/128 [==============================] - 1s 6ms/step - loss: 17.0232 - rmse: 4.0842 - val_loss: 6.8531 - val_rmse: 2.5979\n",
      "Epoch 14/100\n",
      "128/128 [==============================] - 1s 5ms/step - loss: 17.4870 - rmse: 4.1331 - val_loss: 3.9710 - val_rmse: 1.9412\n",
      "Epoch 15/100\n",
      "128/128 [==============================] - 1s 5ms/step - loss: 17.7840 - rmse: 4.1472 - val_loss: 9.3176 - val_rmse: 3.0286\n",
      "Epoch 16/100\n",
      "128/128 [==============================] - 1s 5ms/step - loss: 18.4919 - rmse: 4.2378 - val_loss: 7.9257 - val_rmse: 2.7896\n",
      "Epoch 17/100\n",
      "128/128 [==============================] - 1s 5ms/step - loss: 16.7313 - rmse: 4.0490 - val_loss: 3.4650 - val_rmse: 1.8194\n",
      "Epoch 18/100\n",
      "128/128 [==============================] - 1s 4ms/step - loss: 17.3801 - rmse: 4.1243 - val_loss: 9.1227 - val_rmse: 3.0023\n",
      "Epoch 19/100\n",
      "128/128 [==============================] - 1s 6ms/step - loss: 17.4416 - rmse: 4.1368 - val_loss: 3.7449 - val_rmse: 1.8966\n",
      "Epoch 20/100\n",
      "128/128 [==============================] - 1s 5ms/step - loss: 15.2413 - rmse: 3.8684 - val_loss: 3.8464 - val_rmse: 1.9342\n",
      "Epoch 21/100\n",
      "128/128 [==============================] - 1s 5ms/step - loss: 15.5329 - rmse: 3.8976 - val_loss: 7.2857 - val_rmse: 2.6780\n",
      "Epoch 22/100\n",
      "128/128 [==============================] - 0s 4ms/step - loss: 15.3459 - rmse: 3.8740 - val_loss: 7.0517 - val_rmse: 2.6301\n",
      "Epoch 23/100\n",
      "128/128 [==============================] - 1s 4ms/step - loss: 16.1373 - rmse: 3.9700 - val_loss: 8.0234 - val_rmse: 2.8112\n",
      "Epoch 24/100\n",
      "128/128 [==============================] - 1s 6ms/step - loss: 15.1484 - rmse: 3.8500 - val_loss: 5.7668 - val_rmse: 2.3679\n",
      "Epoch 25/100\n",
      "128/128 [==============================] - 1s 5ms/step - loss: 15.1166 - rmse: 3.8531 - val_loss: 4.9471 - val_rmse: 2.2012\n",
      "Epoch 26/100\n",
      "128/128 [==============================] - 1s 4ms/step - loss: 15.1112 - rmse: 3.8485 - val_loss: 4.7727 - val_rmse: 2.1562\n",
      "Epoch 27/100\n",
      "128/128 [==============================] - 1s 4ms/step - loss: 17.2106 - rmse: 4.1032 - val_loss: 5.4180 - val_rmse: 2.2954\n",
      "Epoch 28/100\n",
      "128/128 [==============================] - 1s 5ms/step - loss: 14.5396 - rmse: 3.7720 - val_loss: 5.3993 - val_rmse: 2.3017\n",
      "Epoch 29/100\n",
      "128/128 [==============================] - 1s 4ms/step - loss: 14.9631 - rmse: 3.8213 - val_loss: 3.1469 - val_rmse: 1.7349\n",
      "Epoch 30/100\n",
      "128/128 [==============================] - 1s 4ms/step - loss: 14.9610 - rmse: 3.8332 - val_loss: 3.5530 - val_rmse: 1.8385\n",
      "Epoch 31/100\n",
      "128/128 [==============================] - 1s 5ms/step - loss: 14.8245 - rmse: 3.8041 - val_loss: 3.7616 - val_rmse: 1.9092\n",
      "Epoch 32/100\n",
      "128/128 [==============================] - 1s 5ms/step - loss: 14.3904 - rmse: 3.7611 - val_loss: 6.5285 - val_rmse: 2.5386\n",
      "Epoch 33/100\n",
      "128/128 [==============================] - 1s 5ms/step - loss: 15.9247 - rmse: 3.9402 - val_loss: 5.1848 - val_rmse: 2.2581\n",
      "Epoch 34/100\n",
      "128/128 [==============================] - 1s 5ms/step - loss: 13.6757 - rmse: 3.6609 - val_loss: 3.7324 - val_rmse: 1.8840\n",
      "Epoch 35/100\n",
      "128/128 [==============================] - 1s 5ms/step - loss: 14.1651 - rmse: 3.7230 - val_loss: 6.3337 - val_rmse: 2.5076\n",
      "Epoch 36/100\n",
      "128/128 [==============================] - 1s 4ms/step - loss: 14.7553 - rmse: 3.8055 - val_loss: 2.8412 - val_rmse: 1.6555\n",
      "Epoch 37/100\n",
      "128/128 [==============================] - 1s 4ms/step - loss: 14.3488 - rmse: 3.7515 - val_loss: 3.4658 - val_rmse: 1.8354\n",
      "Epoch 38/100\n",
      "128/128 [==============================] - 1s 5ms/step - loss: 13.9769 - rmse: 3.7110 - val_loss: 3.1111 - val_rmse: 1.7352\n",
      "Epoch 39/100\n",
      "128/128 [==============================] - 1s 5ms/step - loss: 14.7002 - rmse: 3.7842 - val_loss: 3.0214 - val_rmse: 1.7074\n",
      "Epoch 40/100\n",
      "128/128 [==============================] - 1s 6ms/step - loss: 14.1163 - rmse: 3.7168 - val_loss: 6.5080 - val_rmse: 2.5182\n",
      "Epoch 41/100\n",
      "128/128 [==============================] - 1s 5ms/step - loss: 14.0231 - rmse: 3.7094 - val_loss: 9.0192 - val_rmse: 2.9773\n",
      "Epoch 42/100\n",
      "128/128 [==============================] - 1s 5ms/step - loss: 13.4338 - rmse: 3.6196 - val_loss: 6.3215 - val_rmse: 2.4875\n",
      "Epoch 43/100\n",
      "128/128 [==============================] - 1s 5ms/step - loss: 15.5208 - rmse: 3.8828 - val_loss: 4.0161 - val_rmse: 1.9784\n",
      "Epoch 44/100\n",
      "128/128 [==============================] - 1s 5ms/step - loss: 14.4597 - rmse: 3.7606 - val_loss: 3.7714 - val_rmse: 1.9072\n",
      "Epoch 45/100\n",
      "128/128 [==============================] - 1s 6ms/step - loss: 14.2540 - rmse: 3.7343 - val_loss: 3.1792 - val_rmse: 1.7619\n",
      "Epoch 46/100\n",
      "128/128 [==============================] - 1s 5ms/step - loss: 14.3651 - rmse: 3.7455 - val_loss: 9.7330 - val_rmse: 3.1099\n",
      "Epoch 47/100\n",
      "128/128 [==============================] - 1s 5ms/step - loss: 14.3128 - rmse: 3.7401 - val_loss: 3.0828 - val_rmse: 1.7269\n",
      "Epoch 48/100\n",
      "128/128 [==============================] - 1s 5ms/step - loss: 13.6425 - rmse: 3.6480 - val_loss: 4.7006 - val_rmse: 2.1423\n",
      "Epoch 49/100\n",
      "128/128 [==============================] - 1s 6ms/step - loss: 13.4744 - rmse: 3.6327 - val_loss: 3.1331 - val_rmse: 1.7411\n",
      "Epoch 50/100\n",
      "128/128 [==============================] - 1s 5ms/step - loss: 13.6775 - rmse: 3.6603 - val_loss: 3.0694 - val_rmse: 1.7229\n",
      "Epoch 51/100\n",
      "128/128 [==============================] - 1s 5ms/step - loss: 13.9274 - rmse: 3.6874 - val_loss: 5.1085 - val_rmse: 2.2517\n",
      "Epoch 52/100\n",
      "128/128 [==============================] - 1s 6ms/step - loss: 13.0735 - rmse: 3.5712 - val_loss: 3.4856 - val_rmse: 1.8089\n",
      "Epoch 53/100\n",
      "128/128 [==============================] - 1s 5ms/step - loss: 13.6970 - rmse: 3.6698 - val_loss: 12.4461 - val_rmse: 3.5171\n",
      "Epoch 54/100\n",
      "128/128 [==============================] - 1s 5ms/step - loss: 13.4274 - rmse: 3.6114 - val_loss: 3.3376 - val_rmse: 1.7988\n",
      "Epoch 55/100\n",
      "128/128 [==============================] - 1s 4ms/step - loss: 14.0648 - rmse: 3.7017 - val_loss: 3.4036 - val_rmse: 1.8194\n",
      "Epoch 56/100\n",
      "128/128 [==============================] - 1s 5ms/step - loss: 14.8539 - rmse: 3.8166 - val_loss: 4.6749 - val_rmse: 2.1438\n",
      "Epoch 57/100\n",
      "128/128 [==============================] - 1s 4ms/step - loss: 14.6832 - rmse: 3.7754 - val_loss: 3.4035 - val_rmse: 1.8326\n",
      "Epoch 58/100\n",
      "128/128 [==============================] - 1s 5ms/step - loss: 13.9527 - rmse: 3.6675 - val_loss: 3.5433 - val_rmse: 1.8600\n",
      "Epoch 59/100\n",
      "128/128 [==============================] - 1s 5ms/step - loss: 13.2485 - rmse: 3.5907 - val_loss: 2.8838 - val_rmse: 1.6778\n",
      "Epoch 60/100\n",
      "128/128 [==============================] - 1s 5ms/step - loss: 12.8386 - rmse: 3.5405 - val_loss: 2.9926 - val_rmse: 1.6989\n",
      "Epoch 61/100\n",
      "128/128 [==============================] - 1s 5ms/step - loss: 12.3418 - rmse: 3.4770 - val_loss: 4.8571 - val_rmse: 2.1822\n",
      "Epoch 62/100\n",
      "128/128 [==============================] - 1s 5ms/step - loss: 13.0951 - rmse: 3.5821 - val_loss: 3.0444 - val_rmse: 1.7234\n",
      "Epoch 63/100\n",
      "128/128 [==============================] - 1s 5ms/step - loss: 13.5473 - rmse: 3.6246 - val_loss: 7.3077 - val_rmse: 2.6838\n",
      "Epoch 64/100\n",
      "128/128 [==============================] - 1s 4ms/step - loss: 13.5135 - rmse: 3.6250 - val_loss: 3.2525 - val_rmse: 1.7777\n",
      "Epoch 65/100\n",
      "128/128 [==============================] - 1s 5ms/step - loss: 12.8480 - rmse: 3.5441 - val_loss: 3.1539 - val_rmse: 1.7627\n",
      "Epoch 66/100\n",
      "128/128 [==============================] - 1s 5ms/step - loss: 13.2674 - rmse: 3.6042 - val_loss: 3.5927 - val_rmse: 1.8592\n",
      "Epoch 67/100\n",
      "128/128 [==============================] - 1s 6ms/step - loss: 13.0868 - rmse: 3.5827 - val_loss: 3.2613 - val_rmse: 1.7898\n",
      "Epoch 68/100\n",
      "128/128 [==============================] - 1s 5ms/step - loss: 12.8691 - rmse: 3.5413 - val_loss: 3.9069 - val_rmse: 1.9595\n",
      "Epoch 69/100\n",
      "128/128 [==============================] - 1s 5ms/step - loss: 13.3835 - rmse: 3.6201 - val_loss: 11.9662 - val_rmse: 3.4420\n",
      "Epoch 70/100\n",
      "128/128 [==============================] - 1s 7ms/step - loss: 13.1802 - rmse: 3.5867 - val_loss: 2.9962 - val_rmse: 1.6954\n",
      "Epoch 71/100\n",
      "128/128 [==============================] - 1s 5ms/step - loss: 13.5472 - rmse: 3.6318 - val_loss: 4.8212 - val_rmse: 2.1638\n",
      "Epoch 72/100\n",
      "128/128 [==============================] - 1s 6ms/step - loss: 14.5466 - rmse: 3.7613 - val_loss: 3.3248 - val_rmse: 1.8056\n",
      "Epoch 73/100\n",
      "128/128 [==============================] - 1s 5ms/step - loss: 12.7903 - rmse: 3.5442 - val_loss: 4.0158 - val_rmse: 1.9841\n",
      "Epoch 74/100\n",
      "128/128 [==============================] - 1s 6ms/step - loss: 12.3618 - rmse: 3.4738 - val_loss: 2.9625 - val_rmse: 1.6972\n",
      "Epoch 75/100\n",
      "128/128 [==============================] - 1s 6ms/step - loss: 12.8590 - rmse: 3.5467 - val_loss: 6.1023 - val_rmse: 2.4565\n",
      "Epoch 76/100\n",
      "128/128 [==============================] - 1s 5ms/step - loss: 12.7361 - rmse: 3.5239 - val_loss: 3.9578 - val_rmse: 1.9472\n",
      "Epoch 77/100\n",
      "128/128 [==============================] - 1s 4ms/step - loss: 13.3307 - rmse: 3.5947 - val_loss: 3.6488 - val_rmse: 1.8821\n",
      "Epoch 78/100\n",
      "128/128 [==============================] - 1s 4ms/step - loss: 13.7974 - rmse: 3.6614 - val_loss: 2.8304 - val_rmse: 1.6517\n",
      "Epoch 79/100\n",
      "128/128 [==============================] - 1s 4ms/step - loss: 12.0496 - rmse: 3.4336 - val_loss: 3.1411 - val_rmse: 1.7442\n",
      "Epoch 80/100\n",
      "128/128 [==============================] - 1s 4ms/step - loss: 14.1671 - rmse: 3.7069 - val_loss: 9.2252 - val_rmse: 3.0211\n",
      "Epoch 81/100\n",
      "128/128 [==============================] - 1s 5ms/step - loss: 12.4170 - rmse: 3.4835 - val_loss: 4.4408 - val_rmse: 2.0756\n",
      "Epoch 82/100\n",
      "128/128 [==============================] - 1s 6ms/step - loss: 12.6519 - rmse: 3.5036 - val_loss: 5.8115 - val_rmse: 2.3876\n",
      "Epoch 83/100\n",
      "128/128 [==============================] - 1s 5ms/step - loss: 12.3838 - rmse: 3.4798 - val_loss: 3.5193 - val_rmse: 1.8355\n",
      "Epoch 84/100\n",
      "128/128 [==============================] - 1s 5ms/step - loss: 12.5581 - rmse: 3.4958 - val_loss: 4.6705 - val_rmse: 2.1461\n",
      "Epoch 85/100\n",
      "128/128 [==============================] - 1s 5ms/step - loss: 11.7659 - rmse: 3.3906 - val_loss: 3.3225 - val_rmse: 1.7995\n",
      "Epoch 86/100\n",
      "128/128 [==============================] - 1s 5ms/step - loss: 13.7069 - rmse: 3.6554 - val_loss: 2.7696 - val_rmse: 1.6292\n",
      "Epoch 87/100\n",
      "128/128 [==============================] - 1s 4ms/step - loss: 12.2291 - rmse: 3.4507 - val_loss: 2.7177 - val_rmse: 1.6300\n",
      "Epoch 88/100\n",
      "128/128 [==============================] - 1s 5ms/step - loss: 14.1788 - rmse: 3.7067 - val_loss: 4.9696 - val_rmse: 2.2082\n",
      "Epoch 89/100\n",
      "128/128 [==============================] - 1s 4ms/step - loss: 12.0099 - rmse: 3.4218 - val_loss: 2.8231 - val_rmse: 1.6544\n",
      "Epoch 90/100\n",
      "128/128 [==============================] - 1s 4ms/step - loss: 13.5929 - rmse: 3.6348 - val_loss: 7.2398 - val_rmse: 2.6781\n",
      "Epoch 91/100\n",
      "128/128 [==============================] - 1s 5ms/step - loss: 12.6134 - rmse: 3.5140 - val_loss: 2.5813 - val_rmse: 1.5863\n",
      "Epoch 92/100\n",
      "128/128 [==============================] - 1s 6ms/step - loss: 13.0206 - rmse: 3.5619 - val_loss: 7.0682 - val_rmse: 2.6445\n",
      "Epoch 93/100\n",
      "128/128 [==============================] - 1s 5ms/step - loss: 12.3551 - rmse: 3.4699 - val_loss: 4.2558 - val_rmse: 2.0534\n",
      "Epoch 94/100\n",
      "128/128 [==============================] - 1s 5ms/step - loss: 14.0074 - rmse: 3.6558 - val_loss: 6.0614 - val_rmse: 2.4349\n",
      "Epoch 95/100\n",
      "128/128 [==============================] - 1s 5ms/step - loss: 12.5147 - rmse: 3.4857 - val_loss: 2.6314 - val_rmse: 1.5983\n",
      "Epoch 96/100\n",
      "128/128 [==============================] - 1s 6ms/step - loss: 12.6408 - rmse: 3.5081 - val_loss: 4.3194 - val_rmse: 2.0472\n",
      "Epoch 97/100\n",
      "128/128 [==============================] - 1s 6ms/step - loss: 11.8845 - rmse: 3.4038 - val_loss: 2.9944 - val_rmse: 1.6917\n",
      "Epoch 98/100\n",
      "128/128 [==============================] - 1s 5ms/step - loss: 12.4283 - rmse: 3.4854 - val_loss: 3.2394 - val_rmse: 1.7772\n",
      "Epoch 99/100\n",
      "128/128 [==============================] - 1s 5ms/step - loss: 11.9501 - rmse: 3.4185 - val_loss: 2.8934 - val_rmse: 1.6682\n",
      "Epoch 100/100\n",
      "128/128 [==============================] - 1s 6ms/step - loss: 12.4272 - rmse: 3.4703 - val_loss: 3.8456 - val_rmse: 1.9227\n"
>>>>>>> be9033c5497b9e039ec0792b21ec1e05cd292501
     ]
    },
    {
     "data": {
<<<<<<< HEAD
      "image/png": "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",
=======
      "image/png": "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",
>>>>>>> be9033c5497b9e039ec0792b21ec1e05cd292501
      "text/plain": [
       "<Figure size 640x480 with 1 Axes>"
      ]
     },
     "metadata": {},
     "output_type": "display_data"
    }
   ],
   "source": [
    "# Define a custom metric function for RMSE\n",
    "def rmse(y_true, y_pred):\n",
    "    return tf.sqrt(tf.reduce_mean(tf.square(y_pred - y_true)))\n",
    "\n",
    "# Define a function to create the model\n",
    "def create_model():\n",
<<<<<<< HEAD
=======
    "# Step 2: Define the model\n",
>>>>>>> be9033c5497b9e039ec0792b21ec1e05cd292501
    "    model = Sequential([\n",
    "        Dense(782, activation='relu', input_shape=(train.shape[1],)),  # Input layer with 782 neurons and ReLU activation\n",
    "        Dropout(0.314),  # Dropout rate of 0.314\n",
    "        Dense(501, activation='relu'),  # Hidden layer with 501 neurons and ReLU activation\n",
    "        Dropout(0.314),  # Dropout rate of 0.314\n",
    "        Dense(1, activation='linear')  # Output layer for numerical prediction\n",
    "    ])\n",
    "    model.compile(optimizer='adam', loss='mse', metrics=['mse'])  # Using MSE loss for regression and MSE as a metric\n",
    "    return model\n",
    "\n",
    "# Step 2: Define the model\n",
    "model = create_model()\n",
    "\n",
    "# Step 3: Compile the model\n",
    "model.compile(optimizer='adam', loss='mse', metrics=[rmse])  # Using MSE loss for regression and RMSE as a metric\n",
    "\n",
    "# Step 4: Train the model\n",
    "history = model.fit(train, train_labels, epochs=100, batch_size=32, validation_split=0.2)\n",
    "\n",
    "# Extract RMSE values from history\n",
    "train_rmse = history.history['rmse']\n",
    "val_rmse = history.history['val_rmse']\n",
    "epochs = range(1, len(train_rmse) + 1)\n",
    "\n",
    "# Plot RMSE for training and validation data\n",
    "plt.plot(epochs, train_rmse, 'b', label='Training RMSE')\n",
    "plt.plot(epochs, val_rmse, 'r', label='Validation RMSE')\n",
    "plt.title('Training and Validation RMSE')\n",
    "plt.xlabel('Epochs')\n",
    "plt.ylabel('RMSE')\n",
    "plt.legend()\n",
    "plt.show()"
   ]
  },
  {
   "cell_type": "code",
<<<<<<< HEAD
   "execution_count": 27,
   "metadata": {},
   "outputs": [
    {
     "name": "stderr",
     "output_type": "stream",
     "text": [
      "C:\\Users\\minhbpham\\AppData\\Roaming\\Python\\Python311\\site-packages\\keras\\src\\layers\\core\\dense.py:87: UserWarning: Do not pass an `input_shape`/`input_dim` argument to a layer. When using Sequential models, prefer using an `Input(shape)` object as the first layer in the model instead.\n",
      "  super().__init__(activity_regularizer=activity_regularizer, **kwargs)\n",
      "C:\\Users\\minhbpham\\AppData\\Roaming\\Python\\Python311\\site-packages\\keras\\src\\layers\\core\\dense.py:87: UserWarning: Do not pass an `input_shape`/`input_dim` argument to a layer. When using Sequential models, prefer using an `Input(shape)` object as the first layer in the model instead.\n",
      "  super().__init__(activity_regularizer=activity_regularizer, **kwargs)\n",
      "C:\\Users\\minhbpham\\AppData\\Roaming\\Python\\Python311\\site-packages\\keras\\src\\layers\\core\\dense.py:87: UserWarning: Do not pass an `input_shape`/`input_dim` argument to a layer. When using Sequential models, prefer using an `Input(shape)` object as the first layer in the model instead.\n",
      "  super().__init__(activity_regularizer=activity_regularizer, **kwargs)\n",
      "C:\\Users\\minhbpham\\AppData\\Roaming\\Python\\Python311\\site-packages\\keras\\src\\layers\\core\\dense.py:87: UserWarning: Do not pass an `input_shape`/`input_dim` argument to a layer. When using Sequential models, prefer using an `Input(shape)` object as the first layer in the model instead.\n",
      "  super().__init__(activity_regularizer=activity_regularizer, **kwargs)\n",
      "C:\\Users\\minhbpham\\AppData\\Roaming\\Python\\Python311\\site-packages\\keras\\src\\layers\\core\\dense.py:87: UserWarning: Do not pass an `input_shape`/`input_dim` argument to a layer. When using Sequential models, prefer using an `Input(shape)` object as the first layer in the model instead.\n",
      "  super().__init__(activity_regularizer=activity_regularizer, **kwargs)\n",
      "C:\\Users\\minhbpham\\AppData\\Roaming\\Python\\Python311\\site-packages\\keras\\src\\layers\\core\\dense.py:87: UserWarning: Do not pass an `input_shape`/`input_dim` argument to a layer. When using Sequential models, prefer using an `Input(shape)` object as the first layer in the model instead.\n",
      "  super().__init__(activity_regularizer=activity_regularizer, **kwargs)\n",
      "C:\\Users\\minhbpham\\AppData\\Roaming\\Python\\Python311\\site-packages\\keras\\src\\layers\\core\\dense.py:87: UserWarning: Do not pass an `input_shape`/`input_dim` argument to a layer. When using Sequential models, prefer using an `Input(shape)` object as the first layer in the model instead.\n",
      "  super().__init__(activity_regularizer=activity_regularizer, **kwargs)\n",
      "C:\\Users\\minhbpham\\AppData\\Roaming\\Python\\Python311\\site-packages\\keras\\src\\layers\\core\\dense.py:87: UserWarning: Do not pass an `input_shape`/`input_dim` argument to a layer. When using Sequential models, prefer using an `Input(shape)` object as the first layer in the model instead.\n",
      "  super().__init__(activity_regularizer=activity_regularizer, **kwargs)\n",
      "C:\\Users\\minhbpham\\AppData\\Roaming\\Python\\Python311\\site-packages\\keras\\src\\layers\\core\\dense.py:87: UserWarning: Do not pass an `input_shape`/`input_dim` argument to a layer. When using Sequential models, prefer using an `Input(shape)` object as the first layer in the model instead.\n",
      "  super().__init__(activity_regularizer=activity_regularizer, **kwargs)\n",
      "C:\\Users\\minhbpham\\AppData\\Roaming\\Python\\Python311\\site-packages\\keras\\src\\layers\\core\\dense.py:87: UserWarning: Do not pass an `input_shape`/`input_dim` argument to a layer. When using Sequential models, prefer using an `Input(shape)` object as the first layer in the model instead.\n",
      "  super().__init__(activity_regularizer=activity_regularizer, **kwargs)\n"
     ]
    },
    {
     "name": "stdout",
     "output_type": "stream",
     "text": [
      "MSE scores: [2.946643590927124, 2.0541350841522217, 7.655889987945557, 2.5458085536956787, 5.400234222412109, 6.141873359680176, 3.1134567260742188, 3.420313835144043, 3.2026307582855225, 4.411251544952393]\n",
      "Mean MSE: 4.089223766326905\n",
      "Root Mean Squared Error (RMSE): 2.022182921084763\n"
=======
   "execution_count": 76,
   "metadata": {},
   "outputs": [
    {
     "ename": "KeyboardInterrupt",
     "evalue": "",
     "output_type": "error",
     "traceback": [
      "\u001b[1;31m---------------------------------------------------------------------------\u001b[0m",
      "\u001b[1;31mKeyboardInterrupt\u001b[0m                         Traceback (most recent call last)",
      "Cell \u001b[1;32mIn[76], line 9\u001b[0m\n\u001b[0;32m      7\u001b[0m y_train, y_val \u001b[38;5;241m=\u001b[39m train_labels\u001b[38;5;241m.\u001b[39miloc[train_indices], train_labels\u001b[38;5;241m.\u001b[39miloc[val_indices]\n\u001b[0;32m      8\u001b[0m model \u001b[38;5;241m=\u001b[39m create_model()\n\u001b[1;32m----> 9\u001b[0m history \u001b[38;5;241m=\u001b[39m model\u001b[38;5;241m.\u001b[39mfit(X_train, y_train, epochs\u001b[38;5;241m=\u001b[39m\u001b[38;5;241m100\u001b[39m, batch_size\u001b[38;5;241m=\u001b[39m\u001b[38;5;241m32\u001b[39m, validation_data\u001b[38;5;241m=\u001b[39m(X_val, y_val), verbose\u001b[38;5;241m=\u001b[39m\u001b[38;5;241m0\u001b[39m)\n\u001b[0;32m     10\u001b[0m \u001b[38;5;66;03m# Evaluate the model on validation data\u001b[39;00m\n\u001b[0;32m     11\u001b[0m mse \u001b[38;5;241m=\u001b[39m model\u001b[38;5;241m.\u001b[39mevaluate(X_val, y_val, verbose\u001b[38;5;241m=\u001b[39m\u001b[38;5;241m0\u001b[39m)[\u001b[38;5;241m0\u001b[39m]\n",
      "File \u001b[1;32mc:\\Users\\hamin\\anaconda3\\Lib\\site-packages\\keras\\src\\utils\\traceback_utils.py:65\u001b[0m, in \u001b[0;36merror_handler\u001b[1;34m(*args, **kwargs)\u001b[0m\n\u001b[0;32m     60\u001b[0m \u001b[38;5;129m@keras_export\u001b[39m(\u001b[38;5;124m\"\u001b[39m\u001b[38;5;124mkeras.config.is_traceback_filtering_enabled\u001b[39m\u001b[38;5;124m\"\u001b[39m)\n\u001b[0;32m     61\u001b[0m \u001b[38;5;28;01mdef\u001b[39;00m \u001b[38;5;21mis_traceback_filtering_enabled\u001b[39m():\n\u001b[0;32m     62\u001b[0m \u001b[38;5;250m    \u001b[39m\u001b[38;5;124;03m\"\"\"Check if traceback filtering is enabled.\u001b[39;00m\n\u001b[0;32m     63\u001b[0m \n\u001b[0;32m     64\u001b[0m \u001b[38;5;124;03m    Raw Keras tracebacks (also known as stack traces)\u001b[39;00m\n\u001b[1;32m---> 65\u001b[0m \u001b[38;5;124;03m    involve many internal frames, which can be\u001b[39;00m\n\u001b[0;32m     66\u001b[0m \u001b[38;5;124;03m    challenging to read through, while not being actionable for end users.\u001b[39;00m\n\u001b[0;32m     67\u001b[0m \u001b[38;5;124;03m    By default, Keras filters internal frames in most exceptions that it\u001b[39;00m\n\u001b[0;32m     68\u001b[0m \u001b[38;5;124;03m    raises, to keep traceback short, readable, and focused on what's\u001b[39;00m\n\u001b[0;32m     69\u001b[0m \u001b[38;5;124;03m    actionable for you (your own code).\u001b[39;00m\n\u001b[0;32m     70\u001b[0m \n\u001b[0;32m     71\u001b[0m \u001b[38;5;124;03m    See also `keras.config.enable_traceback_filtering()` and\u001b[39;00m\n\u001b[0;32m     72\u001b[0m \u001b[38;5;124;03m    `keras.config.disable_traceback_filtering()`.\u001b[39;00m\n\u001b[0;32m     73\u001b[0m \n\u001b[0;32m     74\u001b[0m \u001b[38;5;124;03m    If you have previously disabled traceback filtering via\u001b[39;00m\n\u001b[0;32m     75\u001b[0m \u001b[38;5;124;03m    `keras.config.disable_traceback_filtering()`, you can re-enable it via\u001b[39;00m\n\u001b[0;32m     76\u001b[0m \u001b[38;5;124;03m    `keras.config.enable_traceback_filtering()`.\u001b[39;00m\n\u001b[0;32m     77\u001b[0m \n\u001b[0;32m     78\u001b[0m \u001b[38;5;124;03m    Returns:\u001b[39;00m\n\u001b[0;32m     79\u001b[0m \u001b[38;5;124;03m        Boolean, `True` if traceback filtering is enabled,\u001b[39;00m\n\u001b[0;32m     80\u001b[0m \u001b[38;5;124;03m        and `False` otherwise.\u001b[39;00m\n\u001b[0;32m     81\u001b[0m \u001b[38;5;124;03m    \"\"\"\u001b[39;00m\n\u001b[0;32m     82\u001b[0m     \u001b[38;5;28;01mreturn\u001b[39;00m global_state\u001b[38;5;241m.\u001b[39mget_global_attribute(\u001b[38;5;124m\"\u001b[39m\u001b[38;5;124mtraceback_filtering\u001b[39m\u001b[38;5;124m\"\u001b[39m, \u001b[38;5;28;01mTrue\u001b[39;00m)\n",
      "File \u001b[1;32mc:\\Users\\hamin\\anaconda3\\Lib\\site-packages\\keras\\src\\engine\\training.py:1798\u001b[0m, in \u001b[0;36mModel.fit\u001b[1;34m(self, x, y, batch_size, epochs, verbose, callbacks, validation_split, validation_data, shuffle, class_weight, sample_weight, initial_epoch, steps_per_epoch, validation_steps, validation_batch_size, validation_freq, max_queue_size, workers, use_multiprocessing)\u001b[0m\n\u001b[0;32m   1796\u001b[0m callbacks\u001b[38;5;241m.\u001b[39mon_epoch_begin(epoch)\n\u001b[0;32m   1797\u001b[0m \u001b[38;5;28;01mwith\u001b[39;00m data_handler\u001b[38;5;241m.\u001b[39mcatch_stop_iteration():\n\u001b[1;32m-> 1798\u001b[0m     \u001b[38;5;28;01mfor\u001b[39;00m step \u001b[38;5;129;01min\u001b[39;00m data_handler\u001b[38;5;241m.\u001b[39msteps():\n\u001b[0;32m   1799\u001b[0m         \u001b[38;5;28;01mwith\u001b[39;00m tf\u001b[38;5;241m.\u001b[39mprofiler\u001b[38;5;241m.\u001b[39mexperimental\u001b[38;5;241m.\u001b[39mTrace(\n\u001b[0;32m   1800\u001b[0m             \u001b[38;5;124m\"\u001b[39m\u001b[38;5;124mtrain\u001b[39m\u001b[38;5;124m\"\u001b[39m,\n\u001b[0;32m   1801\u001b[0m             epoch_num\u001b[38;5;241m=\u001b[39mepoch,\n\u001b[1;32m   (...)\u001b[0m\n\u001b[0;32m   1804\u001b[0m             _r\u001b[38;5;241m=\u001b[39m\u001b[38;5;241m1\u001b[39m,\n\u001b[0;32m   1805\u001b[0m         ):\n\u001b[0;32m   1806\u001b[0m             callbacks\u001b[38;5;241m.\u001b[39mon_train_batch_begin(step)\n",
      "File \u001b[1;32mc:\\Users\\hamin\\anaconda3\\Lib\\site-packages\\keras\\src\\engine\\data_adapter.py:1411\u001b[0m, in \u001b[0;36msteps\u001b[1;34m(self)\u001b[0m\n",
      "File \u001b[1;32mc:\\Users\\hamin\\anaconda3\\Lib\\site-packages\\tensorflow\\python\\ops\\resource_variable_ops.py:689\u001b[0m, in \u001b[0;36mBaseResourceVariable.numpy\u001b[1;34m(self)\u001b[0m\n\u001b[0;32m    687\u001b[0m \u001b[38;5;28;01mdef\u001b[39;00m \u001b[38;5;21mnumpy\u001b[39m(\u001b[38;5;28mself\u001b[39m):\n\u001b[0;32m    688\u001b[0m   \u001b[38;5;28;01mif\u001b[39;00m context\u001b[38;5;241m.\u001b[39mexecuting_eagerly():\n\u001b[1;32m--> 689\u001b[0m     \u001b[38;5;28;01mreturn\u001b[39;00m \u001b[38;5;28mself\u001b[39m\u001b[38;5;241m.\u001b[39mread_value()\u001b[38;5;241m.\u001b[39mnumpy()\n\u001b[0;32m    690\u001b[0m   \u001b[38;5;28;01mraise\u001b[39;00m \u001b[38;5;167;01mNotImplementedError\u001b[39;00m(\n\u001b[0;32m    691\u001b[0m       \u001b[38;5;124m\"\u001b[39m\u001b[38;5;124mnumpy() is only available when eager execution is enabled.\u001b[39m\u001b[38;5;124m\"\u001b[39m)\n",
      "File \u001b[1;32mc:\\Users\\hamin\\anaconda3\\Lib\\site-packages\\tensorflow\\python\\ops\\resource_variable_ops.py:839\u001b[0m, in \u001b[0;36mBaseResourceVariable.read_value\u001b[1;34m(self)\u001b[0m\n\u001b[0;32m    830\u001b[0m \u001b[38;5;250m\u001b[39m\u001b[38;5;124;03m\"\"\"Constructs an op which reads the value of this variable.\u001b[39;00m\n\u001b[0;32m    831\u001b[0m \n\u001b[0;32m    832\u001b[0m \u001b[38;5;124;03mShould be used when there are multiple reads, or when it is desirable to\u001b[39;00m\n\u001b[1;32m   (...)\u001b[0m\n\u001b[0;32m    836\u001b[0m \u001b[38;5;124;03m  The value of the variable.\u001b[39;00m\n\u001b[0;32m    837\u001b[0m \u001b[38;5;124;03m\"\"\"\u001b[39;00m\n\u001b[0;32m    838\u001b[0m \u001b[38;5;28;01mwith\u001b[39;00m ops\u001b[38;5;241m.\u001b[39mname_scope(\u001b[38;5;124m\"\u001b[39m\u001b[38;5;124mRead\u001b[39m\u001b[38;5;124m\"\u001b[39m):\n\u001b[1;32m--> 839\u001b[0m   value \u001b[38;5;241m=\u001b[39m \u001b[38;5;28mself\u001b[39m\u001b[38;5;241m.\u001b[39m_read_variable_op()\n\u001b[0;32m    840\u001b[0m \u001b[38;5;66;03m# Return an identity so it can get placed on whatever device the context\u001b[39;00m\n\u001b[0;32m    841\u001b[0m \u001b[38;5;66;03m# specifies instead of the device where the variable is.\u001b[39;00m\n\u001b[0;32m    842\u001b[0m \u001b[38;5;28;01mreturn\u001b[39;00m array_ops\u001b[38;5;241m.\u001b[39midentity(value)\n",
      "File \u001b[1;32mc:\\Users\\hamin\\anaconda3\\Lib\\site-packages\\tensorflow\\python\\ops\\resource_variable_ops.py:818\u001b[0m, in \u001b[0;36mBaseResourceVariable._read_variable_op\u001b[1;34m(self, no_copy)\u001b[0m\n\u001b[0;32m    816\u001b[0m       result \u001b[38;5;241m=\u001b[39m read_and_set_handle(no_copy)\n\u001b[0;32m    817\u001b[0m \u001b[38;5;28;01melse\u001b[39;00m:\n\u001b[1;32m--> 818\u001b[0m   result \u001b[38;5;241m=\u001b[39m read_and_set_handle(no_copy)\n\u001b[0;32m    820\u001b[0m \u001b[38;5;28;01mif\u001b[39;00m \u001b[38;5;129;01mnot\u001b[39;00m context\u001b[38;5;241m.\u001b[39mexecuting_eagerly():\n\u001b[0;32m    821\u001b[0m   \u001b[38;5;66;03m# Note that if a control flow context is active the input of the read op\u001b[39;00m\n\u001b[0;32m    822\u001b[0m   \u001b[38;5;66;03m# might not actually be the handle. This line bypasses it.\u001b[39;00m\n\u001b[0;32m    823\u001b[0m   record\u001b[38;5;241m.\u001b[39mrecord_operation(\n\u001b[0;32m    824\u001b[0m       \u001b[38;5;124m\"\u001b[39m\u001b[38;5;124mReadVariableOp\u001b[39m\u001b[38;5;124m\"\u001b[39m, [result], [\u001b[38;5;28mself\u001b[39m\u001b[38;5;241m.\u001b[39mhandle],\n\u001b[0;32m    825\u001b[0m       backward_function\u001b[38;5;241m=\u001b[39m\u001b[38;5;28;01mlambda\u001b[39;00m x: [x],\n\u001b[0;32m    826\u001b[0m       forward_function\u001b[38;5;241m=\u001b[39m\u001b[38;5;28;01mlambda\u001b[39;00m x: [x])\n",
      "File \u001b[1;32mc:\\Users\\hamin\\anaconda3\\Lib\\site-packages\\tensorflow\\python\\ops\\resource_variable_ops.py:808\u001b[0m, in \u001b[0;36mBaseResourceVariable._read_variable_op.<locals>.read_and_set_handle\u001b[1;34m(no_copy)\u001b[0m\n\u001b[0;32m    806\u001b[0m \u001b[38;5;28;01mif\u001b[39;00m no_copy \u001b[38;5;129;01mand\u001b[39;00m forward_compat\u001b[38;5;241m.\u001b[39mforward_compatible(\u001b[38;5;241m2022\u001b[39m, \u001b[38;5;241m5\u001b[39m, \u001b[38;5;241m3\u001b[39m):\n\u001b[0;32m    807\u001b[0m   gen_resource_variable_ops\u001b[38;5;241m.\u001b[39mdisable_copy_on_read(\u001b[38;5;28mself\u001b[39m\u001b[38;5;241m.\u001b[39mhandle)\n\u001b[1;32m--> 808\u001b[0m result \u001b[38;5;241m=\u001b[39m gen_resource_variable_ops\u001b[38;5;241m.\u001b[39mread_variable_op(\n\u001b[0;32m    809\u001b[0m     \u001b[38;5;28mself\u001b[39m\u001b[38;5;241m.\u001b[39mhandle, \u001b[38;5;28mself\u001b[39m\u001b[38;5;241m.\u001b[39m_dtype)\n\u001b[0;32m    810\u001b[0m _maybe_set_handle_data(\u001b[38;5;28mself\u001b[39m\u001b[38;5;241m.\u001b[39m_dtype, \u001b[38;5;28mself\u001b[39m\u001b[38;5;241m.\u001b[39mhandle, result)\n\u001b[0;32m    811\u001b[0m \u001b[38;5;28;01mreturn\u001b[39;00m result\n",
      "File \u001b[1;32mc:\\Users\\hamin\\anaconda3\\Lib\\site-packages\\tensorflow\\python\\ops\\gen_resource_variable_ops.py:535\u001b[0m, in \u001b[0;36mread_variable_op\u001b[1;34m(resource, dtype, name)\u001b[0m\n\u001b[0;32m    533\u001b[0m \u001b[38;5;28;01mif\u001b[39;00m tld\u001b[38;5;241m.\u001b[39mis_eager:\n\u001b[0;32m    534\u001b[0m   \u001b[38;5;28;01mtry\u001b[39;00m:\n\u001b[1;32m--> 535\u001b[0m     _result \u001b[38;5;241m=\u001b[39m pywrap_tfe\u001b[38;5;241m.\u001b[39mTFE_Py_FastPathExecute(\n\u001b[0;32m    536\u001b[0m       _ctx, \u001b[38;5;124m\"\u001b[39m\u001b[38;5;124mReadVariableOp\u001b[39m\u001b[38;5;124m\"\u001b[39m, name, resource, \u001b[38;5;124m\"\u001b[39m\u001b[38;5;124mdtype\u001b[39m\u001b[38;5;124m\"\u001b[39m, dtype)\n\u001b[0;32m    537\u001b[0m     \u001b[38;5;28;01mreturn\u001b[39;00m _result\n\u001b[0;32m    538\u001b[0m   \u001b[38;5;28;01mexcept\u001b[39;00m _core\u001b[38;5;241m.\u001b[39m_NotOkStatusException \u001b[38;5;28;01mas\u001b[39;00m e:\n",
      "\u001b[1;31mKeyboardInterrupt\u001b[0m: "
>>>>>>> be9033c5497b9e039ec0792b21ec1e05cd292501
     ]
    }
   ],
   "source": [
    "# Assuming train and train_labels are defined (e.g., train is a pandas DataFrame, train_labels is a pandas Series)\n",
    "# Perform k-fold cross-validation\n",
    "kfold = KFold(n_splits=10, shuffle=True, random_state=42)\n",
    "mse_scores = []\n",
    "for train_indices, val_indices in kfold.split(train):\n",
    "    X_train, X_val = train.iloc[train_indices], train.iloc[val_indices]\n",
    "    y_train, y_val = train_labels.iloc[train_indices], train_labels.iloc[val_indices]\n",
    "    model = create_model()\n",
    "    history = model.fit(X_train, y_train, epochs=100, batch_size=32, validation_data=(X_val, y_val), verbose=0)\n",
    "    # Evaluate the model on validation data\n",
    "    mse = model.evaluate(X_val, y_val, verbose=0)[0]\n",
    "    mse_scores.append(mse)\n",
    "\n",
    "# Display MSE scores\n",
    "print(\"MSE scores:\", mse_scores)\n",
    "print(\"Mean MSE:\", np.mean(mse_scores))\n",
    "print(\"Root Mean Squared Error (RMSE):\", np.sqrt(np.mean(mse_scores)))"
   ]
  },
  {
   "cell_type": "code",
   "execution_count": null,
   "metadata": {},
   "outputs": [],
   "source": []
  }
 ],
 "metadata": {
  "kernelspec": {
   "display_name": "base",
   "language": "python",
   "name": "python3"
  },
  "language_info": {
   "codemirror_mode": {
    "name": "ipython",
    "version": 3
   },
   "file_extension": ".py",
   "mimetype": "text/x-python",
   "name": "python",
   "nbconvert_exporter": "python",
   "pygments_lexer": "ipython3",
   "version": "3.11.5"
  }
 },
 "nbformat": 4,
 "nbformat_minor": 2
}
