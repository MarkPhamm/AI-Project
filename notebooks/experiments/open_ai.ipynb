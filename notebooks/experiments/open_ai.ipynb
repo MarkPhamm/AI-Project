{
 "cells": [
  {
   "cell_type": "code",
   "execution_count": 9,
   "metadata": {},
   "outputs": [],
   "source": [
    "from openai import OpenAI\n",
    "import pandas as pd\n",
    "import os\n",
    "from dotenv import load_dotenv\n",
    "# see also python-decouple"
   ]
  },
  {
   "cell_type": "code",
   "execution_count": 10,
   "metadata": {},
   "outputs": [],
   "source": [
    "load_dotenv()\n",
    "\n",
    "# openai.api_key = os.environ.get(\"OPEN_AI\")\n",
    "openai_api_key = os.getenv(\"OPENAI_KEY\")\n",
    "model = \"gpt-3.5-turbo-0125\""
   ]
  },
  {
   "cell_type": "code",
   "execution_count": 11,
   "metadata": {},
   "outputs": [],
   "source": [
    "client = OpenAI(\n",
    "    api_key = openai_api_key\n",
    "#   api_key=os.environ.get(\"OPENAI_API_KEY\")    \n",
    ")"
   ]
  },
  {
   "cell_type": "code",
   "execution_count": 12,
   "metadata": {},
   "outputs": [],
   "source": [
    "def return_chatgpt_introduction(data):\n",
    "    message1 = [{\n",
    "        \"role\": \"user\",\n",
    "        \"content\": \"Can you write 5 bullet point on how to about how to improve \" + data + \" , keep it simple and nice\",\n",
    "    }]\n",
    "\n",
    "    chat_completion = client.chat.completions.create(\n",
    "        messages=message1,\n",
    "        model=model\n",
    "    )\n",
    "    return(chat_completion.choices[0].message.content)"
   ]
  },
  {
   "cell_type": "code",
   "execution_count": 13,
   "metadata": {},
   "outputs": [
    {
     "data": {
      "text/plain": [
       "'1. Assess the situation: Take a deep breath and evaluate the unexpected expense calmly and rationally. \\n2. Create a plan: Develop a budget and timeline for addressing the expense, considering all possible options. \\n3. Cut back on non-essential expenses: Temporarily reduce spending on discretionary items to free up funds for the unexpected expense. \\n4. Explore payment options: Contact the company or organization involved to discuss payment plans or other solutions. \\n5. Seek assistance: Reach out to family, friends, or financial professionals for support and guidance in handling the unexpected expense.'"
      ]
     },
     "execution_count": 13,
     "metadata": {},
     "output_type": "execute_result"
    }
   ],
   "source": [
    "return_chatgpt_introduction(\" handle a major unexpected expense\")"
   ]
  }
 ],
 "metadata": {
  "kernelspec": {
   "display_name": "base",
   "language": "python",
   "name": "python3"
  },
  "language_info": {
   "codemirror_mode": {
    "name": "ipython",
    "version": 3
   },
   "file_extension": ".py",
   "mimetype": "text/x-python",
   "name": "python",
   "nbconvert_exporter": "python",
   "pygments_lexer": "ipython3",
   "version": "3.11.5"
  }
 },
 "nbformat": 4,
 "nbformat_minor": 2
}
